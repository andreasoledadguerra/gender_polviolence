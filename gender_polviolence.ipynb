{
 "cells": [
  {
   "cell_type": "markdown",
   "metadata": {},
   "source": [
    "# Political Violence Targeting Women & Demonstrations Featuring Women\n",
    "\n",
    "#### All violence targeting women, as well as demonstrations featuring women, are included in the data file below. The data in this file cover all events in which women were specifically targeted by political violence, not all events involving women in any way; the file also covers all demonstration events in which women were specifically featured, not all demonstrations involving women. \n",
    "\n",
    "#### This dataset was extract from ACLED Access Portal and we perform EDA using Python.\n"
   ]
  },
  {
   "cell_type": "markdown",
   "metadata": {},
   "source": [
    "## Data Collection & Data Exploration\n",
    "\n",
    "We import pandas and necessary libraries for dataframe manipulation and analysis."
   ]
  },
  {
   "cell_type": "code",
   "execution_count": 1,
   "metadata": {},
   "outputs": [],
   "source": [
    "# Libraries are imported\n",
    "import pandas as pd\n",
    "import numpy as np\n",
    "import matplotlib.pyplot as plt\n",
    "import seaborn as sns\n",
    "import folium\n",
    "from folium.plugins import MarkerCluster\n",
    "from datetime import datetime, date\n"
   ]
  },
  {
   "cell_type": "code",
   "execution_count": 2,
   "metadata": {},
   "outputs": [
    {
     "data": {
      "text/plain": [
       "(75563, 14)"
      ]
     },
     "metadata": {},
     "output_type": "display_data"
    }
   ],
   "source": [
    "# Dataset is downloaded\n",
    "df_gpv = pd.read_csv(\"gender_Sep27-1.csv\")\n",
    "df_gpv.drop([\n",
    "    'event_id_cnty',\n",
    "    #'event_date', \n",
    "    'year', \n",
    "    'time_precision',\n",
    "    'disorder_type', \n",
    "    #'event_type', \n",
    "    #'sub_event_type', \n",
    "    'actor1',\n",
    "    'assoc_actor_1', \n",
    "    #'inter1', \n",
    "    'actor2', \n",
    "    'assoc_actor_2', \n",
    "    'inter2',\n",
    "    #'interaction', \n",
    "    'civilian_targeting', \n",
    "    #'iso',\n",
    "    #'region', \n",
    "    #'country',\n",
    "    'admin1', \n",
    "    'admin2', \n",
    "    'admin3', \n",
    "    #'location', \n",
    "    #'latitude', \n",
    "    #'longitude',\n",
    "    'geo_precision', \n",
    "    'source', \n",
    "    'source_scale', \n",
    "    #'notes', \n",
    "    #'fatalities',\n",
    "    'tags',\n",
    "    'timestamp'                           \n",
    "], axis=1, inplace=True)\n",
    "\n",
    "\n",
    "df_gpv[\"date\"] = df_gpv[\"event_date\"].apply(date.fromisoformat)\n",
    "\n",
    "display(df_gpv.shape)"
   ]
  },
  {
   "cell_type": "markdown",
   "metadata": {},
   "source": [
    "#### Exploring attributes of date.time"
   ]
  },
  {
   "cell_type": "code",
   "execution_count": 3,
   "metadata": {},
   "outputs": [
    {
     "data": {
      "text/plain": [
       "datetime.date(2024, 9, 27)"
      ]
     },
     "execution_count": 3,
     "metadata": {},
     "output_type": "execute_result"
    }
   ],
   "source": [
    "df_gpv['date'][0]"
   ]
  },
  {
   "cell_type": "code",
   "execution_count": 4,
   "metadata": {},
   "outputs": [
    {
     "data": {
      "text/plain": [
       "2024"
      ]
     },
     "execution_count": 4,
     "metadata": {},
     "output_type": "execute_result"
    }
   ],
   "source": [
    "df_gpv['date'][0].year"
   ]
  },
  {
   "cell_type": "code",
   "execution_count": 5,
   "metadata": {},
   "outputs": [
    {
     "data": {
      "text/plain": [
       "9"
      ]
     },
     "execution_count": 5,
     "metadata": {},
     "output_type": "execute_result"
    }
   ],
   "source": [
    "df_gpv['date'][0].month"
   ]
  },
  {
   "cell_type": "code",
   "execution_count": 6,
   "metadata": {},
   "outputs": [
    {
     "data": {
      "text/plain": [
       "27"
      ]
     },
     "execution_count": 6,
     "metadata": {},
     "output_type": "execute_result"
    }
   ],
   "source": [
    "df_gpv['date'][0].day"
   ]
  },
  {
   "cell_type": "markdown",
   "metadata": {},
   "source": [
    "#### Exploring the dataset"
   ]
  },
  {
   "cell_type": "code",
   "execution_count": 7,
   "metadata": {},
   "outputs": [
    {
     "data": {
      "text/html": [
       "<div>\n",
       "<style scoped>\n",
       "    .dataframe tbody tr th:only-of-type {\n",
       "        vertical-align: middle;\n",
       "    }\n",
       "\n",
       "    .dataframe tbody tr th {\n",
       "        vertical-align: top;\n",
       "    }\n",
       "\n",
       "    .dataframe thead th {\n",
       "        text-align: right;\n",
       "    }\n",
       "</style>\n",
       "<table border=\"1\" class=\"dataframe\">\n",
       "  <thead>\n",
       "    <tr style=\"text-align: right;\">\n",
       "      <th></th>\n",
       "      <th>event_date</th>\n",
       "      <th>event_type</th>\n",
       "      <th>sub_event_type</th>\n",
       "      <th>inter1</th>\n",
       "      <th>interaction</th>\n",
       "      <th>iso</th>\n",
       "      <th>region</th>\n",
       "      <th>country</th>\n",
       "      <th>location</th>\n",
       "      <th>latitude</th>\n",
       "      <th>longitude</th>\n",
       "      <th>notes</th>\n",
       "      <th>fatalities</th>\n",
       "      <th>date</th>\n",
       "    </tr>\n",
       "  </thead>\n",
       "  <tbody>\n",
       "    <tr>\n",
       "      <th>0</th>\n",
       "      <td>2024-09-27</td>\n",
       "      <td>Violence against civilians</td>\n",
       "      <td>Sexual violence</td>\n",
       "      <td>Political militia</td>\n",
       "      <td>Political militia-Civilians</td>\n",
       "      <td>76</td>\n",
       "      <td>South America</td>\n",
       "      <td>Brazil</td>\n",
       "      <td>Sorriso</td>\n",
       "      <td>-12.5453</td>\n",
       "      <td>-55.7114</td>\n",
       "      <td>On 27 September 2024, in Sorriso (Mato Grosso)...</td>\n",
       "      <td>0</td>\n",
       "      <td>2024-09-27</td>\n",
       "    </tr>\n",
       "    <tr>\n",
       "      <th>1</th>\n",
       "      <td>2024-09-27</td>\n",
       "      <td>Violence against civilians</td>\n",
       "      <td>Attack</td>\n",
       "      <td>Political militia</td>\n",
       "      <td>Political militia-Civilians</td>\n",
       "      <td>218</td>\n",
       "      <td>South America</td>\n",
       "      <td>Ecuador</td>\n",
       "      <td>Guayaquil</td>\n",
       "      <td>-2.1962</td>\n",
       "      <td>-79.8862</td>\n",
       "      <td>Around 27 September 2024 (as reported), in Gua...</td>\n",
       "      <td>1</td>\n",
       "      <td>2024-09-27</td>\n",
       "    </tr>\n",
       "  </tbody>\n",
       "</table>\n",
       "</div>"
      ],
      "text/plain": [
       "   event_date                  event_type   sub_event_type             inter1  \\\n",
       "0  2024-09-27  Violence against civilians  Sexual violence  Political militia   \n",
       "1  2024-09-27  Violence against civilians           Attack  Political militia   \n",
       "\n",
       "                   interaction  iso         region  country   location  \\\n",
       "0  Political militia-Civilians   76  South America   Brazil    Sorriso   \n",
       "1  Political militia-Civilians  218  South America  Ecuador  Guayaquil   \n",
       "\n",
       "   latitude  longitude                                              notes  \\\n",
       "0  -12.5453   -55.7114  On 27 September 2024, in Sorriso (Mato Grosso)...   \n",
       "1   -2.1962   -79.8862  Around 27 September 2024 (as reported), in Gua...   \n",
       "\n",
       "   fatalities        date  \n",
       "0           0  2024-09-27  \n",
       "1           1  2024-09-27  "
      ]
     },
     "metadata": {},
     "output_type": "display_data"
    }
   ],
   "source": [
    "# First rows are checked\n",
    "\n",
    "display(df_gpv.head(2))"
   ]
  },
  {
   "cell_type": "code",
   "execution_count": 8,
   "metadata": {},
   "outputs": [
    {
     "data": {
      "text/html": [
       "<div>\n",
       "<style scoped>\n",
       "    .dataframe tbody tr th:only-of-type {\n",
       "        vertical-align: middle;\n",
       "    }\n",
       "\n",
       "    .dataframe tbody tr th {\n",
       "        vertical-align: top;\n",
       "    }\n",
       "\n",
       "    .dataframe thead th {\n",
       "        text-align: right;\n",
       "    }\n",
       "</style>\n",
       "<table border=\"1\" class=\"dataframe\">\n",
       "  <thead>\n",
       "    <tr style=\"text-align: right;\">\n",
       "      <th></th>\n",
       "      <th>event_date</th>\n",
       "      <th>event_type</th>\n",
       "      <th>sub_event_type</th>\n",
       "      <th>inter1</th>\n",
       "      <th>interaction</th>\n",
       "      <th>iso</th>\n",
       "      <th>region</th>\n",
       "      <th>country</th>\n",
       "      <th>location</th>\n",
       "      <th>latitude</th>\n",
       "      <th>longitude</th>\n",
       "      <th>notes</th>\n",
       "      <th>fatalities</th>\n",
       "      <th>date</th>\n",
       "    </tr>\n",
       "  </thead>\n",
       "  <tbody>\n",
       "    <tr>\n",
       "      <th>75561</th>\n",
       "      <td>1997-01-15</td>\n",
       "      <td>Violence against civilians</td>\n",
       "      <td>Attack</td>\n",
       "      <td>Political militia</td>\n",
       "      <td>Political militia-Civilians</td>\n",
       "      <td>646</td>\n",
       "      <td>Eastern Africa</td>\n",
       "      <td>Rwanda</td>\n",
       "      <td>Ruhengeri</td>\n",
       "      <td>-1.4998</td>\n",
       "      <td>29.635</td>\n",
       "      <td>Around 15 January 1997 (month of), 3 spanish a...</td>\n",
       "      <td>3</td>\n",
       "      <td>1997-01-15</td>\n",
       "    </tr>\n",
       "    <tr>\n",
       "      <th>75562</th>\n",
       "      <td>1997-01-06</td>\n",
       "      <td>Violence against civilians</td>\n",
       "      <td>Attack</td>\n",
       "      <td>Identity militia</td>\n",
       "      <td>Identity militia-Civilians</td>\n",
       "      <td>562</td>\n",
       "      <td>Western Africa</td>\n",
       "      <td>Niger</td>\n",
       "      <td>Niamey</td>\n",
       "      <td>13.5200</td>\n",
       "      <td>2.120</td>\n",
       "      <td>A french woman was shot and killed by Tuareg r...</td>\n",
       "      <td>1</td>\n",
       "      <td>1997-01-06</td>\n",
       "    </tr>\n",
       "  </tbody>\n",
       "</table>\n",
       "</div>"
      ],
      "text/plain": [
       "       event_date                  event_type sub_event_type  \\\n",
       "75561  1997-01-15  Violence against civilians         Attack   \n",
       "75562  1997-01-06  Violence against civilians         Attack   \n",
       "\n",
       "                  inter1                  interaction  iso          region  \\\n",
       "75561  Political militia  Political militia-Civilians  646  Eastern Africa   \n",
       "75562   Identity militia   Identity militia-Civilians  562  Western Africa   \n",
       "\n",
       "      country   location  latitude  longitude  \\\n",
       "75561  Rwanda  Ruhengeri   -1.4998     29.635   \n",
       "75562   Niger     Niamey   13.5200      2.120   \n",
       "\n",
       "                                                   notes  fatalities  \\\n",
       "75561  Around 15 January 1997 (month of), 3 spanish a...           3   \n",
       "75562  A french woman was shot and killed by Tuareg r...           1   \n",
       "\n",
       "             date  \n",
       "75561  1997-01-15  \n",
       "75562  1997-01-06  "
      ]
     },
     "metadata": {},
     "output_type": "display_data"
    }
   ],
   "source": [
    "# Last five rows are checking\n",
    "\n",
    "display(df_gpv.tail(2))"
   ]
  },
  {
   "cell_type": "code",
   "execution_count": 9,
   "metadata": {},
   "outputs": [
    {
     "data": {
      "text/plain": [
       "Index(['event_date', 'event_type', 'sub_event_type', 'inter1', 'interaction',\n",
       "       'iso', 'region', 'country', 'location', 'latitude', 'longitude',\n",
       "       'notes', 'fatalities', 'date'],\n",
       "      dtype='object')"
      ]
     },
     "metadata": {},
     "output_type": "display_data"
    }
   ],
   "source": [
    "# Columns's names are checked\n",
    "\n",
    "display(df_gpv.keys())"
   ]
  },
  {
   "cell_type": "code",
   "execution_count": 10,
   "metadata": {},
   "outputs": [
    {
     "name": "stdout",
     "output_type": "stream",
     "text": [
      "<class 'pandas.core.frame.DataFrame'>\n",
      "RangeIndex: 75563 entries, 0 to 75562\n",
      "Data columns (total 14 columns):\n",
      " #   Column          Non-Null Count  Dtype  \n",
      "---  ------          --------------  -----  \n",
      " 0   event_date      75563 non-null  object \n",
      " 1   event_type      75563 non-null  object \n",
      " 2   sub_event_type  75563 non-null  object \n",
      " 3   inter1          75563 non-null  object \n",
      " 4   interaction     75563 non-null  object \n",
      " 5   iso             75563 non-null  int64  \n",
      " 6   region          75563 non-null  object \n",
      " 7   country         75563 non-null  object \n",
      " 8   location        75563 non-null  object \n",
      " 9   latitude        75563 non-null  float64\n",
      " 10  longitude       75563 non-null  float64\n",
      " 11  notes           75563 non-null  object \n",
      " 12  fatalities      75563 non-null  int64  \n",
      " 13  date            75563 non-null  object \n",
      "dtypes: float64(2), int64(2), object(10)\n",
      "memory usage: 8.1+ MB\n"
     ]
    }
   ],
   "source": [
    "# Structural Overview of the DataFrame\n",
    "\n",
    "df_gpv.info()"
   ]
  },
  {
   "cell_type": "code",
   "execution_count": 11,
   "metadata": {},
   "outputs": [
    {
     "data": {
      "text/html": [
       "<div>\n",
       "<style scoped>\n",
       "    .dataframe tbody tr th:only-of-type {\n",
       "        vertical-align: middle;\n",
       "    }\n",
       "\n",
       "    .dataframe tbody tr th {\n",
       "        vertical-align: top;\n",
       "    }\n",
       "\n",
       "    .dataframe thead th {\n",
       "        text-align: right;\n",
       "    }\n",
       "</style>\n",
       "<table border=\"1\" class=\"dataframe\">\n",
       "  <thead>\n",
       "    <tr style=\"text-align: right;\">\n",
       "      <th></th>\n",
       "      <th>iso</th>\n",
       "      <th>latitude</th>\n",
       "      <th>longitude</th>\n",
       "      <th>fatalities</th>\n",
       "    </tr>\n",
       "  </thead>\n",
       "  <tbody>\n",
       "    <tr>\n",
       "      <th>count</th>\n",
       "      <td>75563.000000</td>\n",
       "      <td>75563.000000</td>\n",
       "      <td>75563.000000</td>\n",
       "      <td>75563.000000</td>\n",
       "    </tr>\n",
       "    <tr>\n",
       "      <th>mean</th>\n",
       "      <td>457.337401</td>\n",
       "      <td>23.442707</td>\n",
       "      <td>12.084752</td>\n",
       "      <td>0.255323</td>\n",
       "    </tr>\n",
       "    <tr>\n",
       "      <th>std</th>\n",
       "      <td>251.661696</td>\n",
       "      <td>20.843715</td>\n",
       "      <td>72.187548</td>\n",
       "      <td>4.010021</td>\n",
       "    </tr>\n",
       "    <tr>\n",
       "      <th>min</th>\n",
       "      <td>0.000000</td>\n",
       "      <td>-54.806200</td>\n",
       "      <td>-171.755300</td>\n",
       "      <td>0.000000</td>\n",
       "    </tr>\n",
       "    <tr>\n",
       "      <th>25%</th>\n",
       "      <td>276.000000</td>\n",
       "      <td>13.212700</td>\n",
       "      <td>-65.216900</td>\n",
       "      <td>0.000000</td>\n",
       "    </tr>\n",
       "    <tr>\n",
       "      <th>50%</th>\n",
       "      <td>410.000000</td>\n",
       "      <td>26.664500</td>\n",
       "      <td>25.208100</td>\n",
       "      <td>0.000000</td>\n",
       "    </tr>\n",
       "    <tr>\n",
       "      <th>75%</th>\n",
       "      <td>710.000000</td>\n",
       "      <td>37.597100</td>\n",
       "      <td>73.685400</td>\n",
       "      <td>0.000000</td>\n",
       "    </tr>\n",
       "    <tr>\n",
       "      <th>max</th>\n",
       "      <td>894.000000</td>\n",
       "      <td>72.913600</td>\n",
       "      <td>178.448700</td>\n",
       "      <td>750.000000</td>\n",
       "    </tr>\n",
       "  </tbody>\n",
       "</table>\n",
       "</div>"
      ],
      "text/plain": [
       "                iso      latitude     longitude    fatalities\n",
       "count  75563.000000  75563.000000  75563.000000  75563.000000\n",
       "mean     457.337401     23.442707     12.084752      0.255323\n",
       "std      251.661696     20.843715     72.187548      4.010021\n",
       "min        0.000000    -54.806200   -171.755300      0.000000\n",
       "25%      276.000000     13.212700    -65.216900      0.000000\n",
       "50%      410.000000     26.664500     25.208100      0.000000\n",
       "75%      710.000000     37.597100     73.685400      0.000000\n",
       "max      894.000000     72.913600    178.448700    750.000000"
      ]
     },
     "execution_count": 11,
     "metadata": {},
     "output_type": "execute_result"
    }
   ],
   "source": [
    "# Basic statistical description (numerical columns)\n",
    "\n",
    "df_gpv.describe()"
   ]
  },
  {
   "cell_type": "code",
   "execution_count": 12,
   "metadata": {},
   "outputs": [
    {
     "data": {
      "text/plain": [
       "0        Political militia\n",
       "1        Political militia\n",
       "2        Political militia\n",
       "3        Political militia\n",
       "4             State forces\n",
       "               ...        \n",
       "75558          Rebel group\n",
       "75559          Rebel group\n",
       "75560          Rebel group\n",
       "75561    Political militia\n",
       "75562     Identity militia\n",
       "Name: inter1, Length: 75563, dtype: object"
      ]
     },
     "execution_count": 12,
     "metadata": {},
     "output_type": "execute_result"
    }
   ],
   "source": [
    "# Displaying random column\n",
    "df_gpv['inter1']"
   ]
  },
  {
   "cell_type": "markdown",
   "metadata": {},
   "source": [
    "#### Checking unique values"
   ]
  },
  {
   "cell_type": "code",
   "execution_count": 13,
   "metadata": {},
   "outputs": [
    {
     "data": {
      "text/plain": [
       "array(['South America', 'North America', 'Middle East', 'Southern Africa',\n",
       "       'Europe', 'East Asia', 'South Asia', 'Northern Africa',\n",
       "       'Western Africa', 'Middle Africa', 'Central America',\n",
       "       'Caucasus and Central Asia', 'Southeast Asia', 'Eastern Africa',\n",
       "       'Caribbean', 'Oceania'], dtype=object)"
      ]
     },
     "execution_count": 13,
     "metadata": {},
     "output_type": "execute_result"
    }
   ],
   "source": [
    "df_gpv['region'].unique()"
   ]
  },
  {
   "cell_type": "code",
   "execution_count": 14,
   "metadata": {},
   "outputs": [
    {
     "data": {
      "text/plain": [
       "array(['Violence against civilians', 'Protests', 'Riots',\n",
       "       'Strategic developments', 'Explosions/Remote violence'],\n",
       "      dtype=object)"
      ]
     },
     "execution_count": 14,
     "metadata": {},
     "output_type": "execute_result"
    }
   ],
   "source": [
    "df_gpv['event_type'].unique()"
   ]
  },
  {
   "cell_type": "code",
   "execution_count": 15,
   "metadata": {},
   "outputs": [
    {
     "data": {
      "text/plain": [
       "array(['Political militia', 'State forces', 'Protesters', 'Rioters',\n",
       "       'Identity militia', 'External/Other forces', 'Rebel group',\n",
       "       'Civilians'], dtype=object)"
      ]
     },
     "execution_count": 15,
     "metadata": {},
     "output_type": "execute_result"
    }
   ],
   "source": [
    "df_gpv['inter1'].unique()\n"
   ]
  },
  {
   "cell_type": "code",
   "execution_count": 16,
   "metadata": {},
   "outputs": [
    {
     "data": {
      "text/plain": [
       "array(['Political militia-Civilians', 'State forces-Civilians',\n",
       "       'Protesters only', 'Rioters-Civilians',\n",
       "       'Identity militia-Civilians', 'External/Other forces-Civilians',\n",
       "       'Rebel group-Civilians', 'State forces-Protesters',\n",
       "       'State forces-Rioters', 'Rioters only', 'Protesters-Protesters',\n",
       "       'Rebel group-Protesters', 'Civilians only', 'Rioters-Protesters',\n",
       "       'Rioters-Rioters', 'Political militia-Protesters',\n",
       "       'Civilians-Civilians', 'Protesters-External/Other forces',\n",
       "       'Identity militia only', 'Rioters-External/Other forces',\n",
       "       'Political militia-Rioters', 'Rebel group-Rioters',\n",
       "       'Identity militia-Protesters'], dtype=object)"
      ]
     },
     "execution_count": 16,
     "metadata": {},
     "output_type": "execute_result"
    }
   ],
   "source": [
    "df_gpv['interaction'].unique()"
   ]
  },
  {
   "cell_type": "code",
   "execution_count": 17,
   "metadata": {},
   "outputs": [
    {
     "data": {
      "text/plain": [
       "array(['Sexual violence', 'Attack', 'Abduction/forced disappearance',\n",
       "       'Peaceful protest', 'Mob violence', 'Protest with intervention',\n",
       "       'Violent demonstration', 'Arrests', 'Looting/property destruction',\n",
       "       'Other', 'Excessive force against protesters', 'Grenade',\n",
       "       'Remote explosive/landmine/IED',\n",
       "       'Shelling/artillery/missile attack', 'Disrupted weapons use',\n",
       "       'Air/drone strike', 'Suicide bomb'], dtype=object)"
      ]
     },
     "execution_count": 17,
     "metadata": {},
     "output_type": "execute_result"
    }
   ],
   "source": [
    "df_gpv['sub_event_type'].unique()"
   ]
  },
  {
   "cell_type": "markdown",
   "metadata": {},
   "source": [
    "#### Handling missing data"
   ]
  },
  {
   "cell_type": "code",
   "execution_count": 18,
   "metadata": {},
   "outputs": [
    {
     "data": {
      "text/plain": [
       "event_date        0\n",
       "event_type        0\n",
       "sub_event_type    0\n",
       "inter1            0\n",
       "interaction       0\n",
       "iso               0\n",
       "region            0\n",
       "country           0\n",
       "location          0\n",
       "latitude          0\n",
       "longitude         0\n",
       "notes             0\n",
       "fatalities        0\n",
       "date              0\n",
       "dtype: int64"
      ]
     },
     "execution_count": 18,
     "metadata": {},
     "output_type": "execute_result"
    }
   ],
   "source": [
    "# Missing values are identifying\n",
    "\n",
    "df_gpv.isnull().sum()"
   ]
  },
  {
   "cell_type": "markdown",
   "metadata": {},
   "source": [
    "## Pre-processing data"
   ]
  },
  {
   "cell_type": "code",
   "execution_count": 19,
   "metadata": {},
   "outputs": [
    {
     "data": {
      "text/plain": [
       "'On 18 August 2011, Murle militia attacked the town of Pieri (Uror county, Jonglei state), killing at least 750 Lou Nuer residents. Nearly 1,000 were wounded, and dozens of women as well as children were abducted. 38,000 head of cattle were allegedly stolen.'"
      ]
     },
     "execution_count": 19,
     "metadata": {},
     "output_type": "execute_result"
    }
   ],
   "source": [
    "df_gpv[df_gpv['fatalities']== 750].iloc[0]['notes']"
   ]
  },
  {
   "cell_type": "code",
   "execution_count": 20,
   "metadata": {},
   "outputs": [
    {
     "data": {
      "text/plain": [
       "array(['South America', 'North America', 'Middle East', 'Southern Africa',\n",
       "       'Europe', 'East Asia', 'South Asia', 'Northern Africa',\n",
       "       'Western Africa', 'Middle Africa', 'Central America',\n",
       "       'Caucasus and Central Asia', 'Southeast Asia', 'Eastern Africa',\n",
       "       'Caribbean', 'Oceania'], dtype=object)"
      ]
     },
     "execution_count": 20,
     "metadata": {},
     "output_type": "execute_result"
    }
   ],
   "source": [
    "df_gpv['region'].unique()"
   ]
  },
  {
   "cell_type": "code",
   "execution_count": 21,
   "metadata": {},
   "outputs": [],
   "source": [
    "region_map = {\n",
    "    'africa': ['Southern Africa', 'Northern Africa', 'Middle Africa', 'Western Africa', 'Eastern Africa'],\n",
    "    'middle east': ['Middle East'],\n",
    "    'asia':['Caucasus and Central Asia', 'Sotheast Asia', 'South Asia', 'East Asia'],\n",
    "    'america and caribbean' :[ 'South America', 'North America', 'Central America', 'Caribbean'],\n",
    "    'europe': ['Europe'],\n",
    "    'oceania': ['Oceania']\n",
    "}\n"
   ]
  },
  {
   "cell_type": "code",
   "execution_count": 22,
   "metadata": {},
   "outputs": [],
   "source": [
    "# Flatten the mapping to map each element to its group\n",
    "flattened_map = {item: key for key, values in region_map.items() for item in values}\n",
    "\n",
    "#flattened_map = {}\n",
    "#for key, values in region_map.items():\n",
    "#    for item in values:\n",
    "#        flattened_map[item] = key\n"
   ]
  },
  {
   "cell_type": "code",
   "execution_count": 23,
   "metadata": {},
   "outputs": [
    {
     "data": {
      "text/html": [
       "<div>\n",
       "<style scoped>\n",
       "    .dataframe tbody tr th:only-of-type {\n",
       "        vertical-align: middle;\n",
       "    }\n",
       "\n",
       "    .dataframe tbody tr th {\n",
       "        vertical-align: top;\n",
       "    }\n",
       "\n",
       "    .dataframe thead th {\n",
       "        text-align: right;\n",
       "    }\n",
       "</style>\n",
       "<table border=\"1\" class=\"dataframe\">\n",
       "  <thead>\n",
       "    <tr style=\"text-align: right;\">\n",
       "      <th></th>\n",
       "      <th>event_date</th>\n",
       "      <th>event_type</th>\n",
       "      <th>sub_event_type</th>\n",
       "      <th>inter1</th>\n",
       "      <th>interaction</th>\n",
       "      <th>iso</th>\n",
       "      <th>region</th>\n",
       "      <th>country</th>\n",
       "      <th>location</th>\n",
       "      <th>latitude</th>\n",
       "      <th>longitude</th>\n",
       "      <th>notes</th>\n",
       "      <th>fatalities</th>\n",
       "      <th>date</th>\n",
       "    </tr>\n",
       "  </thead>\n",
       "  <tbody>\n",
       "    <tr>\n",
       "      <th>0</th>\n",
       "      <td>2024-09-27</td>\n",
       "      <td>Violence against civilians</td>\n",
       "      <td>Sexual violence</td>\n",
       "      <td>Political militia</td>\n",
       "      <td>Political militia-Civilians</td>\n",
       "      <td>76</td>\n",
       "      <td>america and caribbean</td>\n",
       "      <td>Brazil</td>\n",
       "      <td>Sorriso</td>\n",
       "      <td>-12.5453</td>\n",
       "      <td>-55.7114</td>\n",
       "      <td>On 27 September 2024, in Sorriso (Mato Grosso)...</td>\n",
       "      <td>0</td>\n",
       "      <td>2024-09-27</td>\n",
       "    </tr>\n",
       "    <tr>\n",
       "      <th>1</th>\n",
       "      <td>2024-09-27</td>\n",
       "      <td>Violence against civilians</td>\n",
       "      <td>Attack</td>\n",
       "      <td>Political militia</td>\n",
       "      <td>Political militia-Civilians</td>\n",
       "      <td>218</td>\n",
       "      <td>america and caribbean</td>\n",
       "      <td>Ecuador</td>\n",
       "      <td>Guayaquil</td>\n",
       "      <td>-2.1962</td>\n",
       "      <td>-79.8862</td>\n",
       "      <td>Around 27 September 2024 (as reported), in Gua...</td>\n",
       "      <td>1</td>\n",
       "      <td>2024-09-27</td>\n",
       "    </tr>\n",
       "    <tr>\n",
       "      <th>2</th>\n",
       "      <td>2024-09-27</td>\n",
       "      <td>Violence against civilians</td>\n",
       "      <td>Abduction/forced disappearance</td>\n",
       "      <td>Political militia</td>\n",
       "      <td>Political militia-Civilians</td>\n",
       "      <td>484</td>\n",
       "      <td>america and caribbean</td>\n",
       "      <td>Mexico</td>\n",
       "      <td>Tijuana</td>\n",
       "      <td>32.5325</td>\n",
       "      <td>-117.0190</td>\n",
       "      <td>Around 27 September 2024 (as reported), in Tij...</td>\n",
       "      <td>0</td>\n",
       "      <td>2024-09-27</td>\n",
       "    </tr>\n",
       "    <tr>\n",
       "      <th>3</th>\n",
       "      <td>2024-09-27</td>\n",
       "      <td>Violence against civilians</td>\n",
       "      <td>Attack</td>\n",
       "      <td>Political militia</td>\n",
       "      <td>Political militia-Civilians</td>\n",
       "      <td>484</td>\n",
       "      <td>america and caribbean</td>\n",
       "      <td>Mexico</td>\n",
       "      <td>Ciudad de Mexico - Gustavo A. Madero</td>\n",
       "      <td>19.4829</td>\n",
       "      <td>-99.1135</td>\n",
       "      <td>On 27 September 2024, in Ciudad de Mexico - Gu...</td>\n",
       "      <td>1</td>\n",
       "      <td>2024-09-27</td>\n",
       "    </tr>\n",
       "    <tr>\n",
       "      <th>4</th>\n",
       "      <td>2024-09-27</td>\n",
       "      <td>Violence against civilians</td>\n",
       "      <td>Attack</td>\n",
       "      <td>State forces</td>\n",
       "      <td>State forces-Civilians</td>\n",
       "      <td>887</td>\n",
       "      <td>middle east</td>\n",
       "      <td>Yemen</td>\n",
       "      <td>Al Yahari</td>\n",
       "      <td>13.9966</td>\n",
       "      <td>44.0604</td>\n",
       "      <td>On 27 September 2024, a Houthi-affiliated fema...</td>\n",
       "      <td>0</td>\n",
       "      <td>2024-09-27</td>\n",
       "    </tr>\n",
       "    <tr>\n",
       "      <th>...</th>\n",
       "      <td>...</td>\n",
       "      <td>...</td>\n",
       "      <td>...</td>\n",
       "      <td>...</td>\n",
       "      <td>...</td>\n",
       "      <td>...</td>\n",
       "      <td>...</td>\n",
       "      <td>...</td>\n",
       "      <td>...</td>\n",
       "      <td>...</td>\n",
       "      <td>...</td>\n",
       "      <td>...</td>\n",
       "      <td>...</td>\n",
       "      <td>...</td>\n",
       "    </tr>\n",
       "    <tr>\n",
       "      <th>75558</th>\n",
       "      <td>1997-03-05</td>\n",
       "      <td>Violence against civilians</td>\n",
       "      <td>Attack</td>\n",
       "      <td>Rebel group</td>\n",
       "      <td>Rebel group-Civilians</td>\n",
       "      <td>800</td>\n",
       "      <td>africa</td>\n",
       "      <td>Uganda</td>\n",
       "      <td>Palabek</td>\n",
       "      <td>3.4333</td>\n",
       "      <td>32.5667</td>\n",
       "      <td>After failing to find deserters they captured ...</td>\n",
       "      <td>9</td>\n",
       "      <td>1997-03-05</td>\n",
       "    </tr>\n",
       "    <tr>\n",
       "      <th>75559</th>\n",
       "      <td>1997-02-24</td>\n",
       "      <td>Violence against civilians</td>\n",
       "      <td>Attack</td>\n",
       "      <td>Rebel group</td>\n",
       "      <td>Rebel group-Civilians</td>\n",
       "      <td>12</td>\n",
       "      <td>africa</td>\n",
       "      <td>Algeria</td>\n",
       "      <td>Berrouaghia</td>\n",
       "      <td>36.1352</td>\n",
       "      <td>2.9109</td>\n",
       "      <td>24 March: 5 young girls were killed in Berroua...</td>\n",
       "      <td>5</td>\n",
       "      <td>1997-02-24</td>\n",
       "    </tr>\n",
       "    <tr>\n",
       "      <th>75560</th>\n",
       "      <td>1997-01-22</td>\n",
       "      <td>Violence against civilians</td>\n",
       "      <td>Sexual violence</td>\n",
       "      <td>Rebel group</td>\n",
       "      <td>Rebel group-Civilians</td>\n",
       "      <td>694</td>\n",
       "      <td>africa</td>\n",
       "      <td>Sierra Leone</td>\n",
       "      <td>Magburaka</td>\n",
       "      <td>8.7167</td>\n",
       "      <td>-11.9500</td>\n",
       "      <td>Week of 22 January. RUF forces attacked civili...</td>\n",
       "      <td>40</td>\n",
       "      <td>1997-01-22</td>\n",
       "    </tr>\n",
       "    <tr>\n",
       "      <th>75561</th>\n",
       "      <td>1997-01-15</td>\n",
       "      <td>Violence against civilians</td>\n",
       "      <td>Attack</td>\n",
       "      <td>Political militia</td>\n",
       "      <td>Political militia-Civilians</td>\n",
       "      <td>646</td>\n",
       "      <td>africa</td>\n",
       "      <td>Rwanda</td>\n",
       "      <td>Ruhengeri</td>\n",
       "      <td>-1.4998</td>\n",
       "      <td>29.6350</td>\n",
       "      <td>Around 15 January 1997 (month of), 3 spanish a...</td>\n",
       "      <td>3</td>\n",
       "      <td>1997-01-15</td>\n",
       "    </tr>\n",
       "    <tr>\n",
       "      <th>75562</th>\n",
       "      <td>1997-01-06</td>\n",
       "      <td>Violence against civilians</td>\n",
       "      <td>Attack</td>\n",
       "      <td>Identity militia</td>\n",
       "      <td>Identity militia-Civilians</td>\n",
       "      <td>562</td>\n",
       "      <td>africa</td>\n",
       "      <td>Niger</td>\n",
       "      <td>Niamey</td>\n",
       "      <td>13.5200</td>\n",
       "      <td>2.1200</td>\n",
       "      <td>A french woman was shot and killed by Tuareg r...</td>\n",
       "      <td>1</td>\n",
       "      <td>1997-01-06</td>\n",
       "    </tr>\n",
       "  </tbody>\n",
       "</table>\n",
       "<p>75563 rows × 14 columns</p>\n",
       "</div>"
      ],
      "text/plain": [
       "       event_date                  event_type                  sub_event_type  \\\n",
       "0      2024-09-27  Violence against civilians                 Sexual violence   \n",
       "1      2024-09-27  Violence against civilians                          Attack   \n",
       "2      2024-09-27  Violence against civilians  Abduction/forced disappearance   \n",
       "3      2024-09-27  Violence against civilians                          Attack   \n",
       "4      2024-09-27  Violence against civilians                          Attack   \n",
       "...           ...                         ...                             ...   \n",
       "75558  1997-03-05  Violence against civilians                          Attack   \n",
       "75559  1997-02-24  Violence against civilians                          Attack   \n",
       "75560  1997-01-22  Violence against civilians                 Sexual violence   \n",
       "75561  1997-01-15  Violence against civilians                          Attack   \n",
       "75562  1997-01-06  Violence against civilians                          Attack   \n",
       "\n",
       "                  inter1                  interaction  iso  \\\n",
       "0      Political militia  Political militia-Civilians   76   \n",
       "1      Political militia  Political militia-Civilians  218   \n",
       "2      Political militia  Political militia-Civilians  484   \n",
       "3      Political militia  Political militia-Civilians  484   \n",
       "4           State forces       State forces-Civilians  887   \n",
       "...                  ...                          ...  ...   \n",
       "75558        Rebel group        Rebel group-Civilians  800   \n",
       "75559        Rebel group        Rebel group-Civilians   12   \n",
       "75560        Rebel group        Rebel group-Civilians  694   \n",
       "75561  Political militia  Political militia-Civilians  646   \n",
       "75562   Identity militia   Identity militia-Civilians  562   \n",
       "\n",
       "                      region       country  \\\n",
       "0      america and caribbean        Brazil   \n",
       "1      america and caribbean       Ecuador   \n",
       "2      america and caribbean        Mexico   \n",
       "3      america and caribbean        Mexico   \n",
       "4                middle east         Yemen   \n",
       "...                      ...           ...   \n",
       "75558                 africa        Uganda   \n",
       "75559                 africa       Algeria   \n",
       "75560                 africa  Sierra Leone   \n",
       "75561                 africa        Rwanda   \n",
       "75562                 africa         Niger   \n",
       "\n",
       "                                   location  latitude  longitude  \\\n",
       "0                                   Sorriso  -12.5453   -55.7114   \n",
       "1                                 Guayaquil   -2.1962   -79.8862   \n",
       "2                                   Tijuana   32.5325  -117.0190   \n",
       "3      Ciudad de Mexico - Gustavo A. Madero   19.4829   -99.1135   \n",
       "4                                 Al Yahari   13.9966    44.0604   \n",
       "...                                     ...       ...        ...   \n",
       "75558                               Palabek    3.4333    32.5667   \n",
       "75559                           Berrouaghia   36.1352     2.9109   \n",
       "75560                             Magburaka    8.7167   -11.9500   \n",
       "75561                             Ruhengeri   -1.4998    29.6350   \n",
       "75562                                Niamey   13.5200     2.1200   \n",
       "\n",
       "                                                   notes  fatalities  \\\n",
       "0      On 27 September 2024, in Sorriso (Mato Grosso)...           0   \n",
       "1      Around 27 September 2024 (as reported), in Gua...           1   \n",
       "2      Around 27 September 2024 (as reported), in Tij...           0   \n",
       "3      On 27 September 2024, in Ciudad de Mexico - Gu...           1   \n",
       "4      On 27 September 2024, a Houthi-affiliated fema...           0   \n",
       "...                                                  ...         ...   \n",
       "75558  After failing to find deserters they captured ...           9   \n",
       "75559  24 March: 5 young girls were killed in Berroua...           5   \n",
       "75560  Week of 22 January. RUF forces attacked civili...          40   \n",
       "75561  Around 15 January 1997 (month of), 3 spanish a...           3   \n",
       "75562  A french woman was shot and killed by Tuareg r...           1   \n",
       "\n",
       "             date  \n",
       "0      2024-09-27  \n",
       "1      2024-09-27  \n",
       "2      2024-09-27  \n",
       "3      2024-09-27  \n",
       "4      2024-09-27  \n",
       "...           ...  \n",
       "75558  1997-03-05  \n",
       "75559  1997-02-24  \n",
       "75560  1997-01-22  \n",
       "75561  1997-01-15  \n",
       "75562  1997-01-06  \n",
       "\n",
       "[75563 rows x 14 columns]"
      ]
     },
     "metadata": {},
     "output_type": "display_data"
    }
   ],
   "source": [
    "#new_column = {'region': ['america', 'middle east', 'asia', 'america and caribbean', 'europe', 'oceania']}\n",
    "\n",
    "df_gpv['region'] = df_gpv['region'].map(flattened_map)\n",
    "\n",
    "display(df_gpv)"
   ]
  },
  {
   "cell_type": "markdown",
   "metadata": {},
   "source": [
    "## Plotting data"
   ]
  },
  {
   "cell_type": "markdown",
   "metadata": {},
   "source": [
    "#### Region vs Fatalities"
   ]
  },
  {
   "cell_type": "code",
   "execution_count": 24,
   "metadata": {},
   "outputs": [
    {
     "data": {
      "text/plain": [
       "array(['america and caribbean', 'middle east', 'africa', 'europe', 'asia',\n",
       "       nan, 'oceania'], dtype=object)"
      ]
     },
     "execution_count": 24,
     "metadata": {},
     "output_type": "execute_result"
    }
   ],
   "source": [
    "df_gpv['region'].unique()"
   ]
  },
  {
   "cell_type": "code",
   "execution_count": 25,
   "metadata": {},
   "outputs": [
    {
     "data": {
      "text/plain": [
       "{'africa': 9194,\n",
       " 'america and caribbean': 6709,\n",
       " 'asia': 692,\n",
       " 'europe': 106,\n",
       " 'middle east': 1629,\n",
       " 'oceania': 54}"
      ]
     },
     "execution_count": 25,
     "metadata": {},
     "output_type": "execute_result"
    }
   ],
   "source": [
    "group_region_fatalities = df_gpv.groupby('region')['fatalities'].sum()\n",
    "\n",
    "fatalities_per_region = group_region_fatalities.to_dict()\n",
    "\n",
    "fatalities_per_region"
   ]
  },
  {
   "cell_type": "code",
   "execution_count": 26,
   "metadata": {},
   "outputs": [
    {
     "data": {
      "image/png": "[encoded data removed]",
      "text/plain": [
       "<Figure size 640x480 with 1 Axes>"
      ]
     },
     "metadata": {},
     "output_type": "display_data"
    }
   ],
   "source": [
    "plt.bar(fatalities_per_region.keys(), fatalities_per_region.values())\n",
    "plt.xlabel('Region')\n",
    "plt.ylabel('Fatalities')\n",
    "plt.title('Region vs Fatalities')\n",
    "plt.xticks(rotation=45)\n",
    "\n",
    "plt.show()\n",
    "\n",
    "#customize beautifuly PLEASE"
   ]
  },
  {
   "cell_type": "markdown",
   "metadata": {},
   "source": [
    "#### Country vs Sub_type"
   ]
  },
  {
   "cell_type": "code",
   "execution_count": 27,
   "metadata": {},
   "outputs": [
    {
     "data": {
      "image/png": "[encoded data removed]",
      "text/plain": [
       "<Figure size 1000x1000 with 1 Axes>"
      ]
     },
     "metadata": {},
     "output_type": "display_data"
    }
   ],
   "source": [
    "# Distribution of region grouped by subtypes\n",
    "plt.figure(figsize=(10, 10))\n",
    "sns.countplot(data=df_gpv, x='region', hue='sub_event_type')\n",
    "plt.title('Distribution of region grouped by subtypes')\n",
    "plt.xlabel('region')\n",
    "plt.ylabel('subtypes')\n",
    "plt.legend(title='Region vs Subtypes')\n",
    "plt.show()\n"
   ]
  },
  {
   "cell_type": "code",
   "execution_count": 28,
   "metadata": {},
   "outputs": [
    {
     "data": {
      "text/plain": [
       "region   sub_event_type                \n",
       "africa   Attack                            3036\n",
       "         Peaceful protest                  2968\n",
       "         Sexual violence                   2499\n",
       "         Abduction/forced disappearance    1371\n",
       "         Mob violence                       676\n",
       "                                           ... \n",
       "oceania  Attack                               7\n",
       "         Protest with intervention            6\n",
       "         Abduction/forced disappearance       2\n",
       "         Other                                1\n",
       "         Violent demonstration                1\n",
       "Name: count, Length: 81, dtype: int64"
      ]
     },
     "metadata": {},
     "output_type": "display_data"
    }
   ],
   "source": [
    "grouped_counts = df_gpv.groupby('region')['sub_event_type'].value_counts()\n",
    "\n",
    "display(grouped_counts)"
   ]
  },
  {
   "cell_type": "code",
   "execution_count": 29,
   "metadata": {},
   "outputs": [
    {
     "data": {
      "text/plain": [
       "{('africa', 'Attack'): 3036,\n",
       " ('africa', 'Peaceful protest'): 2968,\n",
       " ('africa', 'Sexual violence'): 2499,\n",
       " ('africa', 'Abduction/forced disappearance'): 1371,\n",
       " ('africa', 'Mob violence'): 676,\n",
       " ('africa', 'Protest with intervention'): 275,\n",
       " ('africa', 'Violent demonstration'): 201,\n",
       " ('africa', 'Excessive force against protesters'): 81,\n",
       " ('africa', 'Looting/property destruction'): 76,\n",
       " ('africa', 'Other'): 34,\n",
       " ('africa', 'Arrests'): 21,\n",
       " ('africa', 'Grenade'): 20,\n",
       " ('africa', 'Remote explosive/landmine/IED'): 14,\n",
       " ('africa', 'Shelling/artillery/missile attack'): 4,\n",
       " ('africa', 'Air/drone strike'): 2,\n",
       " ('africa', 'Suicide bomb'): 2,\n",
       " ('africa', 'Disrupted weapons use'): 1,\n",
       " ('america and caribbean', 'Peaceful protest'): 13986,\n",
       " ('america and caribbean', 'Attack'): 6515,\n",
       " ('america and caribbean', 'Abduction/forced disappearance'): 578,\n",
       " ('america and caribbean', 'Violent demonstration'): 446,\n",
       " ('america and caribbean', 'Sexual violence'): 445,\n",
       " ('america and caribbean', 'Protest with intervention'): 293,\n",
       " ('america and caribbean', 'Mob violence'): 213,\n",
       " ('america and caribbean', 'Arrests'): 144,\n",
       " ('america and caribbean', 'Looting/property destruction'): 76,\n",
       " ('america and caribbean', 'Other'): 32,\n",
       " ('america and caribbean', 'Excessive force against protesters'): 22,\n",
       " ('america and caribbean', 'Grenade'): 6,\n",
       " ('america and caribbean', 'Remote explosive/landmine/IED'): 6,\n",
       " ('asia', 'Peaceful protest'): 15014,\n",
       " ('asia', 'Attack'): 1206,\n",
       " ('asia', 'Mob violence'): 750,\n",
       " ('asia', 'Abduction/forced disappearance'): 560,\n",
       " ('asia', 'Protest with intervention'): 556,\n",
       " ('asia', 'Violent demonstration'): 370,\n",
       " ('asia', 'Sexual violence'): 330,\n",
       " ('asia', 'Other'): 54,\n",
       " ('asia', 'Looting/property destruction'): 38,\n",
       " ('asia', 'Excessive force against protesters'): 25,\n",
       " ('asia', 'Arrests'): 22,\n",
       " ('asia', 'Remote explosive/landmine/IED'): 12,\n",
       " ('asia', 'Grenade'): 11,\n",
       " ('asia', 'Suicide bomb'): 3,\n",
       " ('europe', 'Peaceful protest'): 9716,\n",
       " ('europe', 'Protest with intervention'): 229,\n",
       " ('europe', 'Attack'): 187,\n",
       " ('europe', 'Sexual violence'): 104,\n",
       " ('europe', 'Mob violence'): 90,\n",
       " ('europe', 'Violent demonstration'): 72,\n",
       " ('europe', 'Abduction/forced disappearance'): 46,\n",
       " ('europe', 'Looting/property destruction'): 28,\n",
       " ('europe', 'Remote explosive/landmine/IED'): 7,\n",
       " ('europe', 'Arrests'): 3,\n",
       " ('europe', 'Excessive force against protesters'): 2,\n",
       " ('europe', 'Grenade'): 2,\n",
       " ('europe', 'Other'): 2,\n",
       " ('middle east', 'Peaceful protest'): 6148,\n",
       " ('middle east', 'Attack'): 967,\n",
       " ('middle east', 'Violent demonstration'): 579,\n",
       " ('middle east', 'Protest with intervention'): 550,\n",
       " ('middle east', 'Abduction/forced disappearance'): 356,\n",
       " ('middle east', 'Other'): 204,\n",
       " ('middle east', 'Mob violence'): 108,\n",
       " ('middle east', 'Excessive force against protesters'): 82,\n",
       " ('middle east', 'Arrests'): 58,\n",
       " ('middle east', 'Sexual violence'): 43,\n",
       " ('middle east', 'Looting/property destruction'): 21,\n",
       " ('middle east', 'Air/drone strike'): 15,\n",
       " ('middle east', 'Remote explosive/landmine/IED'): 13,\n",
       " ('middle east', 'Shelling/artillery/missile attack'): 6,\n",
       " ('middle east', 'Grenade'): 3,\n",
       " ('middle east', 'Disrupted weapons use'): 1,\n",
       " ('oceania', 'Peaceful protest'): 242,\n",
       " ('oceania', 'Mob violence'): 34,\n",
       " ('oceania', 'Sexual violence'): 20,\n",
       " ('oceania', 'Attack'): 7,\n",
       " ('oceania', 'Protest with intervention'): 6,\n",
       " ('oceania', 'Abduction/forced disappearance'): 2,\n",
       " ('oceania', 'Other'): 1,\n",
       " ('oceania', 'Violent demonstration'): 1}"
      ]
     },
     "metadata": {},
     "output_type": "display_data"
    }
   ],
   "source": [
    "#Let's grouped region and events to see counts\n",
    "counts_dict = grouped_counts.to_dict()\n",
    "\n",
    "display(counts_dict)"
   ]
  },
  {
   "cell_type": "code",
   "execution_count": 30,
   "metadata": {},
   "outputs": [
    {
     "data": {
      "text/plain": [
       "676"
      ]
     },
     "execution_count": 30,
     "metadata": {},
     "output_type": "execute_result"
    }
   ],
   "source": [
    "counts_dict[('africa','Mob violence')]"
   ]
  },
  {
   "cell_type": "code",
   "execution_count": 31,
   "metadata": {},
   "outputs": [],
   "source": [
    "region = df_gpv['region'].any()\n",
    "event = df_gpv['sub_event_type'].any()"
   ]
  },
  {
   "cell_type": "code",
   "execution_count": 32,
   "metadata": {},
   "outputs": [],
   "source": [
    "def get_count_by_region_event(counts_dict: dict, region: str, event: str) -> int:\n",
    "    for (region,event), counts in counts_dict.items():\n",
    "        return f\"The number of {event} in {region} is {counts_dict[(region, event)]}\""
   ]
  },
  {
   "cell_type": "code",
   "execution_count": 33,
   "metadata": {},
   "outputs": [
    {
     "data": {
      "text/plain": [
       "'The number of Attack in africa is 3036'"
      ]
     },
     "execution_count": 33,
     "metadata": {},
     "output_type": "execute_result"
    }
   ],
   "source": [
    "get_count_by_region_event(counts_dict, 'africa', 'Attack')"
   ]
  },
  {
   "cell_type": "markdown",
   "metadata": {},
   "source": [
    "#### Functions that give plots"
   ]
  },
  {
   "cell_type": "code",
   "execution_count": 34,
   "metadata": {},
   "outputs": [],
   "source": [
    "\n",
    "def plot_stacked_bar(grouped_counts: pd.DataFrame) -> object:\n",
    "    stacked_df = grouped_counts.unstack(fill_value=0)  \n",
    "\n",
    "    plt.figure(figsize=(12, 6))\n",
    "    fig = stacked_df.plot(kind='bar', stacked=True, colormap='viridis', figsize=(12, 6))\n",
    "\n",
    "    plt.title('Stacked Bar Chart of Sub-event Counts by Region')\n",
    "    plt.xlabel('Region')\n",
    "    plt.ylabel('Count')\n",
    "    plt.xticks(rotation=45)\n",
    "    plt.tight_layout()\n",
    "\n",
    "    return fig"
   ]
  },
  {
   "cell_type": "code",
   "execution_count": 35,
   "metadata": {},
   "outputs": [
    {
     "data": {
      "text/plain": [
       "<Axes: title={'center': 'Stacked Bar Chart of Sub-event Counts by Region'}, xlabel='Region', ylabel='Count'>"
      ]
     },
     "execution_count": 35,
     "metadata": {},
     "output_type": "execute_result"
    },
    {
     "data": {
      "text/plain": [
       "<Figure size 1200x600 with 0 Axes>"
      ]
     },
     "metadata": {},
     "output_type": "display_data"
    },
    {
     "data": {
      "image/png": "[encoded data removed]",
      "text/plain": [
       "<Figure size 1200x600 with 1 Axes>"
      ]
     },
     "metadata": {},
     "output_type": "display_data"
    }
   ],
   "source": [
    "plot_stacked_bar(grouped_counts)"
   ]
  },
  {
   "cell_type": "code",
   "execution_count": null,
   "metadata": {},
   "outputs": [],
   "source": [
    "\n",
    "def plot_region_event_ondemand(counts_dict: dict, region: str, event: str) -> object:\n",
    "    \n",
    "    # Filter the data for the specific region and event\n",
    "    filtered_data = {(region, event): counts_dict.get((region, event), 0)}# Returns the value if found, and 0 if not found (default value)\n",
    "\n",
    "    # Prepare labels and colors\n",
    "    x_labels = [f\"{region} - {event}\"]  # Single bar for the specified region-event\n",
    "    colors = ['mediumslateblue']  # Highlight color for the bar\n",
    "\n",
    "    # Create the figure and axes\n",
    "    fig, ax = plt.subplots(figsize=(6, 4))\n",
    "\n",
    "    # Plot the data\n",
    "    bars = ax.bar(x_labels, filtered_data.values(), color=colors)\n",
    "\n",
    "    # Add labels, title, and style\n",
    "    ax.set_xlabel('Event per Region', fontsize=12)\n",
    "    ax.set_ylabel('Count', fontsize=12)\n",
    "    ax.set_title('Counting Events per Region', fontsize=14)\n",
    "    ax.tick_params(axis='x', rotation=0)\n",
    "\n",
    "    # Return the figure\n",
    "    plt.close()\n",
    "    return fig\n"
   ]
  },
  {
   "cell_type": "code",
   "execution_count": null,
   "metadata": {},
   "outputs": [],
   "source": [
    "plot_region_event_ondemand(counts_dict, 'asia', 'Peaceful protest')"
   ]
  },
  {
   "cell_type": "code",
   "execution_count": null,
   "metadata": {},
   "outputs": [],
   "source": [
    "def plot_all_region_event_highlight(counts_dict: dict, region: str, event: str) -> object:\n",
    "    # Create lists for labels and colors\n",
    "    colors = []\n",
    "    x_etiquette = []\n",
    "    values = []\n",
    "    \n",
    "    # Process the data\n",
    "    for (key, value) in counts_dict.items():\n",
    "        x_etiquette.append(f\"{key[0]} - {key[1]}\")\n",
    "        values.append(value)\n",
    "        \n",
    "        # Highlight selected region-event\n",
    "        if key == (region, event):\n",
    "            colors.append('c')\n",
    "        else:\n",
    "            colors.append('darkslategray')\n",
    "    \n",
    "    # Create figure and axes\n",
    "    fig, ax = plt.subplots(figsize=(12, 6))\n",
    "    \n",
    "    # Create bars\n",
    "    bars = ax.bar(x_etiquette, values, color=colors)\n",
    "    \n",
    "    # Add value labels on top of bars\n",
    "    for bar in bars:\n",
    "        height = bar.get_height()\n",
    "        ax.text(bar.get_x() + bar.get_width()/2., height,\n",
    "                f'{height:,}',\n",
    "                ha='center', va='bottom')\n",
    "    \n",
    "    # Customize the plot\n",
    "    ax.set_xlabel('Events per Region', fontsize=12)\n",
    "    ax.set_ylabel('Count', fontsize=12)\n",
    "    ax.set_title(f'Event Counts by Region (Highlighting {region} - {event})', \n",
    "                 fontsize=14)\n",
    "    \n",
    "    # Rotate x-axis labels for better readability\n",
    "    plt.xticks(rotation=90, ha='right')\n",
    "    \n",
    "    # Add grid\n",
    "    ax.grid(True, linestyle='--', alpha=0.7, axis='y')\n",
    "    \n",
    "    # Adjust layout\n",
    "    plt.tight_layout()\n",
    "    plt.close()\n",
    "    return fig\n"
   ]
  },
  {
   "cell_type": "code",
   "execution_count": null,
   "metadata": {},
   "outputs": [],
   "source": [
    "plot_all_region_event_highlight(counts_dict, 'asia', 'Attack')"
   ]
  },
  {
   "cell_type": "code",
   "execution_count": null,
   "metadata": {},
   "outputs": [],
   "source": [
    "from pol_violence.plots import plot_fatalities_per_region"
   ]
  },
  {
   "cell_type": "code",
   "execution_count": null,
   "metadata": {},
   "outputs": [],
   "source": [
    "plot_fatalities_per_region(fatalities_per_region, 'middle east')\n"
   ]
  },
  {
   "cell_type": "code",
   "execution_count": null,
   "metadata": {},
   "outputs": [],
   "source": [
    "def plot_stacked_bar(grouped_counts: pd.DataFrame, \n",
    "                     figsize= (10,6),\n",
    "                     colormap= 'viridis',\n",
    "                     title= 'Stacked Regions vs Events ',\n",
    "                     xlabel= 'Regions',\n",
    "                     ylabel= 'Events count',\n",
    "                     rotation=45)-> object:\n",
    "    \n",
    "    stacked_df = grouped_counts.unstack(fill_value=0)\n",
    "    \n",
    "    plt.figure(figsize=figsize)\n",
    "    stacked_df.plot(kind='bar', stacked=True, colormap=colormap, figsize=figsize)\n",
    "    \n",
    "    \n",
    "    plt.title(title)\n",
    "    plt.xlabel(xlabel)\n",
    "    plt.ylabel(ylabel)\n",
    "    plt.xticks(rotation=rotation)\n",
    "    plt.tight_layout()\n",
    "    \n",
    "    return plt\n"
   ]
  },
  {
   "cell_type": "code",
   "execution_count": null,
   "metadata": {},
   "outputs": [],
   "source": [
    "plot_stacked_bar(grouped_counts)"
   ]
  },
  {
   "cell_type": "markdown",
   "metadata": {},
   "source": [
    "### Challenge\n",
    "\n",
    "##### 1. Crear una clase `DataProcessor` para nuestro problema específico, que guarde el DataFrame y cualquier variable que necesite nuestro script como atributos.\n",
    "##### 2. Convertir las funciones de plot que ya funcionan, a métodos utilizando los atributos del objeto en lugar de pasar las cosas como parámetro."
   ]
  },
  {
   "cell_type": "code",
   "execution_count": null,
   "metadata": {},
   "outputs": [],
   "source": [
    "class DataProcessor:\n",
    "    def __init__(self, df_gpv: pd.DataFrame, grouped_counts: pd.Series,  fatalities_per_region: dict, counts_dict: dict, region: str, event: str, color:list):\n",
    "        self.df_gpv = df_gpv\n",
    "        self.region = region\n",
    "        self.event = event\n",
    "        self.grouped_counts = grouped_counts\n",
    "        self.fatalities_per_region = fatalities_per_region\n",
    "        self.counts_dict = counts_dict\n",
    "        self.region = region\n",
    "        self.event = event\n",
    "        self.color = color\n",
    "\n",
    "    def plot_stacked_bar(grouped_counts: pd.DataFrame) -> object:\n",
    "\n",
    "        stacked_df = grouped_counts.unstack(fill_value=0)  \n",
    "        plt.figure(figsize=(12, 6))\n",
    "        fig = stacked_df.plot(kind='bar', stacked=True, colormap='viridis', figsize=(12, 6))\n",
    "\n",
    "        return fig\n",
    "    \n",
    "\n",
    "    def plot_fatalities_per_region(self) -> object:\n",
    "\n",
    "        the_plot_bar_fpr = plt.bar(fatalities_per_region.keys(), fatalities_per_region.values(), color= colors) \n",
    "\n",
    "        return the_plot_bar_fpr \n",
    "    \n",
    "    \n",
    "    def plot_region_event_ondemand(self) -> object:\n",
    "    \n",
    "        filtered_data = {(region, event): counts_dict.get((region, event), 0)}\n",
    "    \n",
    "        x_labels = [f\"{region} - {event}\"] \n",
    "        colors = ['mediumslateblue']\n",
    "\n",
    "        fig, ax = plt.subplots(figsize=(6, 4))\n",
    "\n",
    "        bars = ax.bar(x_labels, filtered_data.values(), color=colors)\n",
    "\n",
    "        ax.set_xlabel('Event per Region', fontsize=12)\n",
    "        ax.set_ylabel('Count', fontsize=12)\n",
    "        ax.set_title('Counting Events per Region', fontsize=14)\n",
    "        ax.tick_params(axis='x', rotation=0)\n",
    "\n",
    "        plt.close()\n",
    "\n",
    "        return fig\n",
    "\n",
    "    def plot_all_region_event_highlight(self) -> object:\n",
    "    \n",
    "        colors = []\n",
    "        x_etiquette = []\n",
    "        values = []\n",
    "    \n",
    "    \n",
    "        for (key, value) in counts_dict.items():\n",
    "            x_etiquette.append(f\"{key[0]} - {key[1]}\")\n",
    "            values.append(value)\n",
    "        \n",
    "        \n",
    "        if key == (region, event):\n",
    "            colors.append('c')\n",
    "        else:\n",
    "            colors.append('darkslategray')\n",
    "    \n",
    "\n",
    "        fig, ax = plt.subplots(figsize=(12, 6))\n",
    "    \n",
    "        bars = ax.bar(x_etiquette, values, color=colors)\n",
    "    \n",
    "        for bar in bars:\n",
    "            height = bar.get_height()\n",
    "            ax.text(bar.get_x() + bar.get_width()/2., height,\n",
    "                    f'{height:,}',\n",
    "                    ha='center', va='bottom')\n",
    "    \n",
    "   \n",
    "        ax.set_xlabel('Events per Region', fontsize=12)\n",
    "        ax.set_ylabel('Count', fontsize=12)\n",
    "        ax.set_title(f'Event Counts by Region (Highlighting {region} - {event})', \n",
    "                 fontsize=14)\n",
    "    \n",
    "        plt.xticks(rotation=90, ha='right')\n",
    "    \n",
    "        ax.grid(True, linestyle='--', alpha=0.7, axis='y')\n",
    "    \n",
    "        plt.tight_layout()\n",
    "        plt.close()\n",
    "        return fig\n",
    "    \n",
    "    \n",
    "#remember the 'notes' column and the total number of event per region "
   ]
  },
  {
   "cell_type": "code",
   "execution_count": null,
   "metadata": {},
   "outputs": [],
   "source": [
    "plot_fatalities_per_region(fatalities_per_region, 'europe')"
   ]
  },
  {
   "cell_type": "code",
   "execution_count": null,
   "metadata": {},
   "outputs": [],
   "source": [
    "give_plot_by_region_event(counts_dict, 'africa', 'Abduction/forced disappearance')"
   ]
  },
  {
   "cell_type": "code",
   "execution_count": null,
   "metadata": {},
   "outputs": [],
   "source": [
    "df_gpv['sub_event_type'].unique()"
   ]
  },
  {
   "cell_type": "code",
   "execution_count": null,
   "metadata": {},
   "outputs": [],
   "source": [
    "category_colors = {\n",
    "    'A':'#6A5ACD', \n",
    "    'B':'#6B8E23', \n",
    "    'C': '#BA55D3', \n",
    "    'D':'#B8860B', \n",
    "    'E':'#20B2AA', \n",
    "    'F':'#4682B4',\n",
    "    'G':'#8B4513', \n",
    "    'H':'#B22222', \n",
    "    'I':'#6495ED', \n",
    "    'J':'#BDB76B', \n",
    "    'K':'#CD853F', \n",
    "    'J': '#48D1CC',\n",
    "    'L': '#2F4F4F',\n",
    "    'M':'#2E8B57',\n",
    "    'N':'#5F9EA0', \n",
    "    'O': '#BC8F8F',\n",
    "    'P':'#CD5C5C', \n",
    "    'Q':'#DDA0DD'\n",
    "}\n",
    "df_gpv['Color'] = df_gpv['sub_event_type'].map(category_colors)"
   ]
  },
  {
   "cell_type": "code",
   "execution_count": null,
   "metadata": {},
   "outputs": [],
   "source": [
    "geo_data = df_gpv[[\n",
    "    'country',\n",
    "    'sub_event_type',\n",
    "    'latitude',\n",
    "    'longitude'\n",
    "]]\n",
    "   \n",
    "df_geo = pd.DataFrame(geo_data)"
   ]
  },
  {
   "cell_type": "code",
   "execution_count": null,
   "metadata": {},
   "outputs": [],
   "source": [
    "df_geo"
   ]
  },
  {
   "cell_type": "code",
   "execution_count": null,
   "metadata": {},
   "outputs": [],
   "source": [
    "import geopandas as gpd\n",
    "gdf = gpd.GeoDataFrame(df_geo, geometry= gpd.points_from_xy(df_geo[\"longitude\"], df_geo[\"latitude\"]), crs=4326)\n",
    "gdf"
   ]
  },
  {
   "cell_type": "code",
   "execution_count": null,
   "metadata": {},
   "outputs": [],
   "source": [
    "gdf.to_file('polvioliolence.geojson', driver=\"GeoJSON\")"
   ]
  },
  {
   "cell_type": "code",
   "execution_count": null,
   "metadata": {},
   "outputs": [],
   "source": [
    "from keplergl import KeplerGl\n",
    "m = KeplerGl(height = 600)\n",
    "m.add_data(gdf, \"asd\")\n",
    "m"
   ]
  },
  {
   "cell_type": "code",
   "execution_count": null,
   "metadata": {},
   "outputs": [],
   "source": [
    "# Initialize the map centered on a rough global midpoint\n",
    "m = folium.Map(location=[0, 0], zoom_start=2)\n",
    "\n",
    "# Add a marker cluster to group nearby markers\n",
    "marker_cluster = MarkerCluster().add_to(m)\n",
    "\n",
    "# Add markers to the map\n",
    "for _, row in df_geo.iterrows():\n",
    "    folium.Marker(\n",
    "        location=[row['latitude'], row['longitude']],\n",
    "        popup=f\"Region: {row['Region']}<br>Category: {row['Category']}\",\n",
    "        icon=folium.Icon(color=category_colors[row['Category']])\n",
    "    ).add_to(marker_cluster)"
   ]
  },
  {
   "cell_type": "code",
   "execution_count": null,
   "metadata": {},
   "outputs": [],
   "source": [
    "#df_gpv[df_gpv['fatalities']== 750].iloc[0]['notes']"
   ]
  }
 ],
 "metadata": {
  "kernelspec": {
   "display_name": "Python 3",
   "language": "python",
   "name": "python3"
  },
  "language_info": {
   "codemirror_mode": {
    "name": "ipython",
    "version": 3
   },
   "file_extension": ".py",
   "mimetype": "text/x-python",
   "name": "python",
   "nbconvert_exporter": "python",
   "pygments_lexer": "ipython3",
   "version": "3.10.12"
  }
 },
 "nbformat": 4,
 "nbformat_minor": 2
}
