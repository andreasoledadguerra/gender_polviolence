{
 "cells": [
  {
   "cell_type": "markdown",
   "metadata": {},
   "source": [
    "# Political Violence Targeting Women & Demonstrations Featuring Women\n",
    "\n",
    "#### All violence targeting women, as well as demonstrations featuring women, are included in the data file below. The data in this file cover all events in which women were specifically targeted by political violence, not all events involving women in any way; the file also covers all demonstration events in which women were specifically featured, not all demonstrations involving women. \n",
    "\n",
    "#### This dataset was extract from ACLED Access Portal and we perform EDA using Python.\n"
   ]
  },
  {
   "cell_type": "markdown",
   "metadata": {},
   "source": [
    "## Data Collection & Data Exploration\n",
    "\n",
    "We import pandas and necessary libraries for dataframe manipulation and analysis."
   ]
  },
  {
   "cell_type": "code",
   "execution_count": 3,
   "metadata": {},
   "outputs": [],
   "source": [
    "# Libraries are imported\n",
    "import pandas as pd\n",
    "import numpy as np\n",
    "import matplotlib.pyplot as plt\n",
    "import seaborn as sns\n",
    "from datetime import datetime, date\n"
   ]
  },
  {
   "cell_type": "code",
   "execution_count": 4,
   "metadata": {},
   "outputs": [
    {
     "data": {
      "text/plain": [
       "(75563, 12)"
      ]
     },
     "metadata": {},
     "output_type": "display_data"
    }
   ],
   "source": [
    "# Dataset is downloaded\n",
    "df_gpv = pd.read_csv(\"gender_Sep27-1.csv\")\n",
    "df_gpv.drop([\n",
    "    'event_id_cnty',\n",
    "    #'event_date', \n",
    "    'year', \n",
    "    'time_precision',\n",
    "    'disorder_type', \n",
    "    #'event_type', \n",
    "    #'sub_event_type', \n",
    "    'actor1',\n",
    "    'assoc_actor_1', \n",
    "    #'inter1', \n",
    "    'actor2', \n",
    "    'assoc_actor_2', \n",
    "    'inter2',\n",
    "    #'interaction', \n",
    "    'civilian_targeting', \n",
    "    #'iso',\n",
    "    #'region', \n",
    "    #'country',\n",
    "    'admin1', \n",
    "    'admin2', \n",
    "    'admin3', \n",
    "    #'location', \n",
    "    'latitude', \n",
    "    'longitude',\n",
    "    'geo_precision', \n",
    "    'source', \n",
    "    'source_scale', \n",
    "    #'notes', \n",
    "    #'fatalities',\n",
    "    'tags',\n",
    "    'timestamp'                           \n",
    "], axis=1, inplace=True)\n",
    "\n",
    "\n",
    "df_gpv[\"date\"] = df_gpv[\"event_date\"].apply(date.fromisoformat)\n",
    "\n",
    "display(df_gpv.shape)"
   ]
  },
  {
   "cell_type": "markdown",
   "metadata": {},
   "source": [
    "#### Exploring attributes of date.time"
   ]
  },
  {
   "cell_type": "code",
   "execution_count": 6,
   "metadata": {},
   "outputs": [
    {
     "data": {
      "text/plain": [
       "datetime.date(2024, 9, 27)"
      ]
     },
     "execution_count": 6,
     "metadata": {},
     "output_type": "execute_result"
    }
   ],
   "source": [
    "df_gpv['date'][0]"
   ]
  },
  {
   "cell_type": "code",
   "execution_count": 7,
   "metadata": {},
   "outputs": [
    {
     "data": {
      "text/plain": [
       "2024"
      ]
     },
     "execution_count": 7,
     "metadata": {},
     "output_type": "execute_result"
    }
   ],
   "source": [
    "df_gpv['date'][0].year"
   ]
  },
  {
   "cell_type": "code",
   "execution_count": 8,
   "metadata": {},
   "outputs": [
    {
     "data": {
      "text/plain": [
       "9"
      ]
     },
     "execution_count": 8,
     "metadata": {},
     "output_type": "execute_result"
    }
   ],
   "source": [
    "df_gpv['date'][0].month"
   ]
  },
  {
   "cell_type": "code",
   "execution_count": 9,
   "metadata": {},
   "outputs": [
    {
     "data": {
      "text/plain": [
       "27"
      ]
     },
     "execution_count": 9,
     "metadata": {},
     "output_type": "execute_result"
    }
   ],
   "source": [
    "df_gpv['date'][0].day"
   ]
  },
  {
   "cell_type": "markdown",
   "metadata": {},
   "source": [
    "#### Exploring the dataset"
   ]
  },
  {
   "cell_type": "code",
   "execution_count": 16,
   "metadata": {},
   "outputs": [
    {
     "data": {
      "text/html": [
       "<div>\n",
       "<style scoped>\n",
       "    .dataframe tbody tr th:only-of-type {\n",
       "        vertical-align: middle;\n",
       "    }\n",
       "\n",
       "    .dataframe tbody tr th {\n",
       "        vertical-align: top;\n",
       "    }\n",
       "\n",
       "    .dataframe thead th {\n",
       "        text-align: right;\n",
       "    }\n",
       "</style>\n",
       "<table border=\"1\" class=\"dataframe\">\n",
       "  <thead>\n",
       "    <tr style=\"text-align: right;\">\n",
       "      <th></th>\n",
       "      <th>event_date</th>\n",
       "      <th>event_type</th>\n",
       "      <th>sub_event_type</th>\n",
       "      <th>inter1</th>\n",
       "      <th>interaction</th>\n",
       "      <th>iso</th>\n",
       "      <th>region</th>\n",
       "      <th>country</th>\n",
       "      <th>location</th>\n",
       "      <th>notes</th>\n",
       "      <th>fatalities</th>\n",
       "      <th>date</th>\n",
       "    </tr>\n",
       "  </thead>\n",
       "  <tbody>\n",
       "    <tr>\n",
       "      <th>0</th>\n",
       "      <td>2024-09-27</td>\n",
       "      <td>Violence against civilians</td>\n",
       "      <td>Sexual violence</td>\n",
       "      <td>Political militia</td>\n",
       "      <td>Political militia-Civilians</td>\n",
       "      <td>76</td>\n",
       "      <td>South America</td>\n",
       "      <td>Brazil</td>\n",
       "      <td>Sorriso</td>\n",
       "      <td>On 27 September 2024, in Sorriso (Mato Grosso)...</td>\n",
       "      <td>0</td>\n",
       "      <td>2024-09-27</td>\n",
       "    </tr>\n",
       "    <tr>\n",
       "      <th>1</th>\n",
       "      <td>2024-09-27</td>\n",
       "      <td>Violence against civilians</td>\n",
       "      <td>Attack</td>\n",
       "      <td>Political militia</td>\n",
       "      <td>Political militia-Civilians</td>\n",
       "      <td>218</td>\n",
       "      <td>South America</td>\n",
       "      <td>Ecuador</td>\n",
       "      <td>Guayaquil</td>\n",
       "      <td>Around 27 September 2024 (as reported), in Gua...</td>\n",
       "      <td>1</td>\n",
       "      <td>2024-09-27</td>\n",
       "    </tr>\n",
       "  </tbody>\n",
       "</table>\n",
       "</div>"
      ],
      "text/plain": [
       "   event_date                  event_type   sub_event_type             inter1  \\\n",
       "0  2024-09-27  Violence against civilians  Sexual violence  Political militia   \n",
       "1  2024-09-27  Violence against civilians           Attack  Political militia   \n",
       "\n",
       "                   interaction  iso         region  country   location  \\\n",
       "0  Political militia-Civilians   76  South America   Brazil    Sorriso   \n",
       "1  Political militia-Civilians  218  South America  Ecuador  Guayaquil   \n",
       "\n",
       "                                               notes  fatalities        date  \n",
       "0  On 27 September 2024, in Sorriso (Mato Grosso)...           0  2024-09-27  \n",
       "1  Around 27 September 2024 (as reported), in Gua...           1  2024-09-27  "
      ]
     },
     "metadata": {},
     "output_type": "display_data"
    }
   ],
   "source": [
    "# First rows are checked\n",
    "\n",
    "display(df_gpv.head(2))"
   ]
  },
  {
   "cell_type": "code",
   "execution_count": 10,
   "metadata": {},
   "outputs": [
    {
     "data": {
      "text/html": [
       "<div>\n",
       "<style scoped>\n",
       "    .dataframe tbody tr th:only-of-type {\n",
       "        vertical-align: middle;\n",
       "    }\n",
       "\n",
       "    .dataframe tbody tr th {\n",
       "        vertical-align: top;\n",
       "    }\n",
       "\n",
       "    .dataframe thead th {\n",
       "        text-align: right;\n",
       "    }\n",
       "</style>\n",
       "<table border=\"1\" class=\"dataframe\">\n",
       "  <thead>\n",
       "    <tr style=\"text-align: right;\">\n",
       "      <th></th>\n",
       "      <th>event_date</th>\n",
       "      <th>event_type</th>\n",
       "      <th>sub_event_type</th>\n",
       "      <th>inter1</th>\n",
       "      <th>interaction</th>\n",
       "      <th>iso</th>\n",
       "      <th>region</th>\n",
       "      <th>country</th>\n",
       "      <th>location</th>\n",
       "      <th>notes</th>\n",
       "      <th>fatalities</th>\n",
       "      <th>date</th>\n",
       "    </tr>\n",
       "  </thead>\n",
       "  <tbody>\n",
       "    <tr>\n",
       "      <th>75561</th>\n",
       "      <td>1997-01-15</td>\n",
       "      <td>Violence against civilians</td>\n",
       "      <td>Attack</td>\n",
       "      <td>Political militia</td>\n",
       "      <td>Political militia-Civilians</td>\n",
       "      <td>646</td>\n",
       "      <td>Eastern Africa</td>\n",
       "      <td>Rwanda</td>\n",
       "      <td>Ruhengeri</td>\n",
       "      <td>Around 15 January 1997 (month of), 3 spanish a...</td>\n",
       "      <td>3</td>\n",
       "      <td>1997-01-15</td>\n",
       "    </tr>\n",
       "    <tr>\n",
       "      <th>75562</th>\n",
       "      <td>1997-01-06</td>\n",
       "      <td>Violence against civilians</td>\n",
       "      <td>Attack</td>\n",
       "      <td>Identity militia</td>\n",
       "      <td>Identity militia-Civilians</td>\n",
       "      <td>562</td>\n",
       "      <td>Western Africa</td>\n",
       "      <td>Niger</td>\n",
       "      <td>Niamey</td>\n",
       "      <td>A french woman was shot and killed by Tuareg r...</td>\n",
       "      <td>1</td>\n",
       "      <td>1997-01-06</td>\n",
       "    </tr>\n",
       "  </tbody>\n",
       "</table>\n",
       "</div>"
      ],
      "text/plain": [
       "       event_date                  event_type sub_event_type  \\\n",
       "75561  1997-01-15  Violence against civilians         Attack   \n",
       "75562  1997-01-06  Violence against civilians         Attack   \n",
       "\n",
       "                  inter1                  interaction  iso          region  \\\n",
       "75561  Political militia  Political militia-Civilians  646  Eastern Africa   \n",
       "75562   Identity militia   Identity militia-Civilians  562  Western Africa   \n",
       "\n",
       "      country   location                                              notes  \\\n",
       "75561  Rwanda  Ruhengeri  Around 15 January 1997 (month of), 3 spanish a...   \n",
       "75562   Niger     Niamey  A french woman was shot and killed by Tuareg r...   \n",
       "\n",
       "       fatalities        date  \n",
       "75561           3  1997-01-15  \n",
       "75562           1  1997-01-06  "
      ]
     },
     "metadata": {},
     "output_type": "display_data"
    }
   ],
   "source": [
    "# Last five rows are checking\n",
    "\n",
    "display(df_gpv.tail(2))"
   ]
  },
  {
   "cell_type": "code",
   "execution_count": 11,
   "metadata": {},
   "outputs": [
    {
     "data": {
      "text/plain": [
       "Index(['event_date', 'event_type', 'sub_event_type', 'inter1', 'interaction',\n",
       "       'iso', 'region', 'country', 'location', 'notes', 'fatalities', 'date'],\n",
       "      dtype='object')"
      ]
     },
     "metadata": {},
     "output_type": "display_data"
    }
   ],
   "source": [
    "# Columns's names are checked\n",
    "\n",
    "display(df_gpv.keys())"
   ]
  },
  {
   "cell_type": "code",
   "execution_count": 12,
   "metadata": {},
   "outputs": [
    {
     "name": "stdout",
     "output_type": "stream",
     "text": [
      "<class 'pandas.core.frame.DataFrame'>\n",
      "RangeIndex: 75563 entries, 0 to 75562\n",
      "Data columns (total 12 columns):\n",
      " #   Column          Non-Null Count  Dtype \n",
      "---  ------          --------------  ----- \n",
      " 0   event_date      75563 non-null  object\n",
      " 1   event_type      75563 non-null  object\n",
      " 2   sub_event_type  75563 non-null  object\n",
      " 3   inter1          75563 non-null  object\n",
      " 4   interaction     75563 non-null  object\n",
      " 5   iso             75563 non-null  int64 \n",
      " 6   region          75563 non-null  object\n",
      " 7   country         75563 non-null  object\n",
      " 8   location        75563 non-null  object\n",
      " 9   notes           75563 non-null  object\n",
      " 10  fatalities      75563 non-null  int64 \n",
      " 11  date            75563 non-null  object\n",
      "dtypes: int64(2), object(10)\n",
      "memory usage: 6.9+ MB\n"
     ]
    }
   ],
   "source": [
    "# Structural Overview of the DataFrame\n",
    "\n",
    "df_gpv.info()"
   ]
  },
  {
   "cell_type": "code",
   "execution_count": 13,
   "metadata": {},
   "outputs": [
    {
     "data": {
      "text/html": [
       "<div>\n",
       "<style scoped>\n",
       "    .dataframe tbody tr th:only-of-type {\n",
       "        vertical-align: middle;\n",
       "    }\n",
       "\n",
       "    .dataframe tbody tr th {\n",
       "        vertical-align: top;\n",
       "    }\n",
       "\n",
       "    .dataframe thead th {\n",
       "        text-align: right;\n",
       "    }\n",
       "</style>\n",
       "<table border=\"1\" class=\"dataframe\">\n",
       "  <thead>\n",
       "    <tr style=\"text-align: right;\">\n",
       "      <th></th>\n",
       "      <th>iso</th>\n",
       "      <th>fatalities</th>\n",
       "    </tr>\n",
       "  </thead>\n",
       "  <tbody>\n",
       "    <tr>\n",
       "      <th>count</th>\n",
       "      <td>75563.000000</td>\n",
       "      <td>75563.000000</td>\n",
       "    </tr>\n",
       "    <tr>\n",
       "      <th>mean</th>\n",
       "      <td>457.337401</td>\n",
       "      <td>0.255323</td>\n",
       "    </tr>\n",
       "    <tr>\n",
       "      <th>std</th>\n",
       "      <td>251.661696</td>\n",
       "      <td>4.010021</td>\n",
       "    </tr>\n",
       "    <tr>\n",
       "      <th>min</th>\n",
       "      <td>0.000000</td>\n",
       "      <td>0.000000</td>\n",
       "    </tr>\n",
       "    <tr>\n",
       "      <th>25%</th>\n",
       "      <td>276.000000</td>\n",
       "      <td>0.000000</td>\n",
       "    </tr>\n",
       "    <tr>\n",
       "      <th>50%</th>\n",
       "      <td>410.000000</td>\n",
       "      <td>0.000000</td>\n",
       "    </tr>\n",
       "    <tr>\n",
       "      <th>75%</th>\n",
       "      <td>710.000000</td>\n",
       "      <td>0.000000</td>\n",
       "    </tr>\n",
       "    <tr>\n",
       "      <th>max</th>\n",
       "      <td>894.000000</td>\n",
       "      <td>750.000000</td>\n",
       "    </tr>\n",
       "  </tbody>\n",
       "</table>\n",
       "</div>"
      ],
      "text/plain": [
       "                iso    fatalities\n",
       "count  75563.000000  75563.000000\n",
       "mean     457.337401      0.255323\n",
       "std      251.661696      4.010021\n",
       "min        0.000000      0.000000\n",
       "25%      276.000000      0.000000\n",
       "50%      410.000000      0.000000\n",
       "75%      710.000000      0.000000\n",
       "max      894.000000    750.000000"
      ]
     },
     "execution_count": 13,
     "metadata": {},
     "output_type": "execute_result"
    }
   ],
   "source": [
    "# Basic statistical description (numerical columns)\n",
    "\n",
    "df_gpv.describe()"
   ]
  },
  {
   "cell_type": "code",
   "execution_count": 14,
   "metadata": {},
   "outputs": [
    {
     "data": {
      "text/plain": [
       "0        Political militia\n",
       "1        Political militia\n",
       "2        Political militia\n",
       "3        Political militia\n",
       "4             State forces\n",
       "               ...        \n",
       "75558          Rebel group\n",
       "75559          Rebel group\n",
       "75560          Rebel group\n",
       "75561    Political militia\n",
       "75562     Identity militia\n",
       "Name: inter1, Length: 75563, dtype: object"
      ]
     },
     "execution_count": 14,
     "metadata": {},
     "output_type": "execute_result"
    }
   ],
   "source": [
    "# Displaying random column\n",
    "df_gpv['inter1']"
   ]
  },
  {
   "cell_type": "markdown",
   "metadata": {},
   "source": [
    "#### Checking unique values"
   ]
  },
  {
   "cell_type": "code",
   "execution_count": 15,
   "metadata": {},
   "outputs": [
    {
     "data": {
      "text/plain": [
       "array(['South America', 'North America', 'Middle East', 'Southern Africa',\n",
       "       'Europe', 'East Asia', 'South Asia', 'Northern Africa',\n",
       "       'Western Africa', 'Middle Africa', 'Central America',\n",
       "       'Caucasus and Central Asia', 'Southeast Asia', 'Eastern Africa',\n",
       "       'Caribbean', 'Oceania'], dtype=object)"
      ]
     },
     "execution_count": 15,
     "metadata": {},
     "output_type": "execute_result"
    }
   ],
   "source": [
    "df_gpv['region'].unique()"
   ]
  },
  {
   "cell_type": "code",
   "execution_count": 16,
   "metadata": {},
   "outputs": [
    {
     "data": {
      "text/plain": [
       "array(['Violence against civilians', 'Protests', 'Riots',\n",
       "       'Strategic developments', 'Explosions/Remote violence'],\n",
       "      dtype=object)"
      ]
     },
     "execution_count": 16,
     "metadata": {},
     "output_type": "execute_result"
    }
   ],
   "source": [
    "df_gpv['event_type'].unique()"
   ]
  },
  {
   "cell_type": "code",
   "execution_count": 17,
   "metadata": {},
   "outputs": [
    {
     "data": {
      "text/plain": [
       "array(['Political militia', 'State forces', 'Protesters', 'Rioters',\n",
       "       'Identity militia', 'External/Other forces', 'Rebel group',\n",
       "       'Civilians'], dtype=object)"
      ]
     },
     "execution_count": 17,
     "metadata": {},
     "output_type": "execute_result"
    }
   ],
   "source": [
    "df_gpv['inter1'].unique()\n"
   ]
  },
  {
   "cell_type": "code",
   "execution_count": 18,
   "metadata": {},
   "outputs": [
    {
     "data": {
      "text/plain": [
       "array(['Political militia-Civilians', 'State forces-Civilians',\n",
       "       'Protesters only', 'Rioters-Civilians',\n",
       "       'Identity militia-Civilians', 'External/Other forces-Civilians',\n",
       "       'Rebel group-Civilians', 'State forces-Protesters',\n",
       "       'State forces-Rioters', 'Rioters only', 'Protesters-Protesters',\n",
       "       'Rebel group-Protesters', 'Civilians only', 'Rioters-Protesters',\n",
       "       'Rioters-Rioters', 'Political militia-Protesters',\n",
       "       'Civilians-Civilians', 'Protesters-External/Other forces',\n",
       "       'Identity militia only', 'Rioters-External/Other forces',\n",
       "       'Political militia-Rioters', 'Rebel group-Rioters',\n",
       "       'Identity militia-Protesters'], dtype=object)"
      ]
     },
     "execution_count": 18,
     "metadata": {},
     "output_type": "execute_result"
    }
   ],
   "source": [
    "df_gpv['interaction'].unique()"
   ]
  },
  {
   "cell_type": "code",
   "execution_count": 19,
   "metadata": {},
   "outputs": [
    {
     "data": {
      "text/plain": [
       "array(['Sexual violence', 'Attack', 'Abduction/forced disappearance',\n",
       "       'Peaceful protest', 'Mob violence', 'Protest with intervention',\n",
       "       'Violent demonstration', 'Arrests', 'Looting/property destruction',\n",
       "       'Other', 'Excessive force against protesters', 'Grenade',\n",
       "       'Remote explosive/landmine/IED',\n",
       "       'Shelling/artillery/missile attack', 'Disrupted weapons use',\n",
       "       'Air/drone strike', 'Suicide bomb'], dtype=object)"
      ]
     },
     "execution_count": 19,
     "metadata": {},
     "output_type": "execute_result"
    }
   ],
   "source": [
    "df_gpv['sub_event_type'].unique()"
   ]
  },
  {
   "cell_type": "markdown",
   "metadata": {},
   "source": [
    "#### Handling missing data"
   ]
  },
  {
   "cell_type": "code",
   "execution_count": 20,
   "metadata": {},
   "outputs": [
    {
     "data": {
      "text/plain": [
       "event_date        0\n",
       "event_type        0\n",
       "sub_event_type    0\n",
       "inter1            0\n",
       "interaction       0\n",
       "iso               0\n",
       "region            0\n",
       "country           0\n",
       "location          0\n",
       "notes             0\n",
       "fatalities        0\n",
       "date              0\n",
       "dtype: int64"
      ]
     },
     "execution_count": 20,
     "metadata": {},
     "output_type": "execute_result"
    }
   ],
   "source": [
    "# Missing values are identifying\n",
    "\n",
    "df_gpv.isnull().sum()"
   ]
  },
  {
   "cell_type": "markdown",
   "metadata": {},
   "source": [
    "## Pre-processing data"
   ]
  },
  {
   "cell_type": "code",
   "execution_count": null,
   "metadata": {},
   "outputs": [],
   "source": [
    "\n",
    "len(df_gpv['event_id_cnty'].unique())\n"
   ]
  },
  {
   "cell_type": "code",
   "execution_count": null,
   "metadata": {},
   "outputs": [],
   "source": [
    "#Unique values from'actor1'\n",
    "unique_actors = df_gpv['actor1'].unique()\n",
    "for i in unique_actors:\n",
    "    print(i)"
   ]
  },
  {
   "cell_type": "code",
   "execution_count": null,
   "metadata": {},
   "outputs": [],
   "source": [
    "df_gpv[df_gpv['fatalities']== 750].iloc[0]['notes']"
   ]
  },
  {
   "cell_type": "code",
   "execution_count": null,
   "metadata": {},
   "outputs": [],
   "source": [
    "df_gpv['actor1'].value_counts()"
   ]
  },
  {
   "cell_type": "code",
   "execution_count": 24,
   "metadata": {},
   "outputs": [
    {
     "ename": "KeyError",
     "evalue": "'actor1'",
     "output_type": "error",
     "traceback": [
      "\u001b[0;31m---------------------------------------------------------------------------\u001b[0m",
      "\u001b[0;31mKeyError\u001b[0m                                  Traceback (most recent call last)",
      "File \u001b[0;32m~/projects/gender_polviolence/env/lib/python3.10/site-packages/pandas/core/indexes/base.py:3805\u001b[0m, in \u001b[0;36mIndex.get_loc\u001b[0;34m(self, key)\u001b[0m\n\u001b[1;32m   3804\u001b[0m \u001b[38;5;28;01mtry\u001b[39;00m:\n\u001b[0;32m-> 3805\u001b[0m     \u001b[38;5;28;01mreturn\u001b[39;00m \u001b[38;5;28;43mself\u001b[39;49m\u001b[38;5;241;43m.\u001b[39;49m\u001b[43m_engine\u001b[49m\u001b[38;5;241;43m.\u001b[39;49m\u001b[43mget_loc\u001b[49m\u001b[43m(\u001b[49m\u001b[43mcasted_key\u001b[49m\u001b[43m)\u001b[49m\n\u001b[1;32m   3806\u001b[0m \u001b[38;5;28;01mexcept\u001b[39;00m \u001b[38;5;167;01mKeyError\u001b[39;00m \u001b[38;5;28;01mas\u001b[39;00m err:\n",
      "File \u001b[0;32mindex.pyx:167\u001b[0m, in \u001b[0;36mpandas._libs.index.IndexEngine.get_loc\u001b[0;34m()\u001b[0m\n",
      "File \u001b[0;32mindex.pyx:196\u001b[0m, in \u001b[0;36mpandas._libs.index.IndexEngine.get_loc\u001b[0;34m()\u001b[0m\n",
      "File \u001b[0;32mpandas/_libs/hashtable_class_helper.pxi:7081\u001b[0m, in \u001b[0;36mpandas._libs.hashtable.PyObjectHashTable.get_item\u001b[0;34m()\u001b[0m\n",
      "File \u001b[0;32mpandas/_libs/hashtable_class_helper.pxi:7089\u001b[0m, in \u001b[0;36mpandas._libs.hashtable.PyObjectHashTable.get_item\u001b[0;34m()\u001b[0m\n",
      "\u001b[0;31mKeyError\u001b[0m: 'actor1'",
      "\nThe above exception was the direct cause of the following exception:\n",
      "\u001b[0;31mKeyError\u001b[0m                                  Traceback (most recent call last)",
      "Cell \u001b[0;32mIn[24], line 1\u001b[0m\n\u001b[0;32m----> 1\u001b[0m \u001b[38;5;28;01mfor\u001b[39;00m value \u001b[38;5;129;01min\u001b[39;00m \u001b[43mdf_gpv\u001b[49m\u001b[43m[\u001b[49m\u001b[38;5;124;43m'\u001b[39;49m\u001b[38;5;124;43mactor1\u001b[39;49m\u001b[38;5;124;43m'\u001b[39;49m\u001b[43m]\u001b[49m:\n\u001b[1;32m      3\u001b[0m     \u001b[38;5;28;01mif\u001b[39;00m \u001b[38;5;124m'\u001b[39m\u001b[38;5;124m(\u001b[39m\u001b[38;5;124m'\u001b[39m \u001b[38;5;129;01mnot\u001b[39;00m \u001b[38;5;129;01min\u001b[39;00m value:\n\u001b[1;32m      4\u001b[0m         \u001b[38;5;28mprint\u001b[39m(value)\n",
      "File \u001b[0;32m~/projects/gender_polviolence/env/lib/python3.10/site-packages/pandas/core/frame.py:4102\u001b[0m, in \u001b[0;36mDataFrame.__getitem__\u001b[0;34m(self, key)\u001b[0m\n\u001b[1;32m   4100\u001b[0m \u001b[38;5;28;01mif\u001b[39;00m \u001b[38;5;28mself\u001b[39m\u001b[38;5;241m.\u001b[39mcolumns\u001b[38;5;241m.\u001b[39mnlevels \u001b[38;5;241m>\u001b[39m \u001b[38;5;241m1\u001b[39m:\n\u001b[1;32m   4101\u001b[0m     \u001b[38;5;28;01mreturn\u001b[39;00m \u001b[38;5;28mself\u001b[39m\u001b[38;5;241m.\u001b[39m_getitem_multilevel(key)\n\u001b[0;32m-> 4102\u001b[0m indexer \u001b[38;5;241m=\u001b[39m \u001b[38;5;28;43mself\u001b[39;49m\u001b[38;5;241;43m.\u001b[39;49m\u001b[43mcolumns\u001b[49m\u001b[38;5;241;43m.\u001b[39;49m\u001b[43mget_loc\u001b[49m\u001b[43m(\u001b[49m\u001b[43mkey\u001b[49m\u001b[43m)\u001b[49m\n\u001b[1;32m   4103\u001b[0m \u001b[38;5;28;01mif\u001b[39;00m is_integer(indexer):\n\u001b[1;32m   4104\u001b[0m     indexer \u001b[38;5;241m=\u001b[39m [indexer]\n",
      "File \u001b[0;32m~/projects/gender_polviolence/env/lib/python3.10/site-packages/pandas/core/indexes/base.py:3812\u001b[0m, in \u001b[0;36mIndex.get_loc\u001b[0;34m(self, key)\u001b[0m\n\u001b[1;32m   3807\u001b[0m     \u001b[38;5;28;01mif\u001b[39;00m \u001b[38;5;28misinstance\u001b[39m(casted_key, \u001b[38;5;28mslice\u001b[39m) \u001b[38;5;129;01mor\u001b[39;00m (\n\u001b[1;32m   3808\u001b[0m         \u001b[38;5;28misinstance\u001b[39m(casted_key, abc\u001b[38;5;241m.\u001b[39mIterable)\n\u001b[1;32m   3809\u001b[0m         \u001b[38;5;129;01mand\u001b[39;00m \u001b[38;5;28many\u001b[39m(\u001b[38;5;28misinstance\u001b[39m(x, \u001b[38;5;28mslice\u001b[39m) \u001b[38;5;28;01mfor\u001b[39;00m x \u001b[38;5;129;01min\u001b[39;00m casted_key)\n\u001b[1;32m   3810\u001b[0m     ):\n\u001b[1;32m   3811\u001b[0m         \u001b[38;5;28;01mraise\u001b[39;00m InvalidIndexError(key)\n\u001b[0;32m-> 3812\u001b[0m     \u001b[38;5;28;01mraise\u001b[39;00m \u001b[38;5;167;01mKeyError\u001b[39;00m(key) \u001b[38;5;28;01mfrom\u001b[39;00m \u001b[38;5;21;01merr\u001b[39;00m\n\u001b[1;32m   3813\u001b[0m \u001b[38;5;28;01mexcept\u001b[39;00m \u001b[38;5;167;01mTypeError\u001b[39;00m:\n\u001b[1;32m   3814\u001b[0m     \u001b[38;5;66;03m# If we have a listlike key, _check_indexing_error will raise\u001b[39;00m\n\u001b[1;32m   3815\u001b[0m     \u001b[38;5;66;03m#  InvalidIndexError. Otherwise we fall through and re-raise\u001b[39;00m\n\u001b[1;32m   3816\u001b[0m     \u001b[38;5;66;03m#  the TypeError.\u001b[39;00m\n\u001b[1;32m   3817\u001b[0m     \u001b[38;5;28mself\u001b[39m\u001b[38;5;241m.\u001b[39m_check_indexing_error(key)\n",
      "\u001b[0;31mKeyError\u001b[0m: 'actor1'"
     ]
    }
   ],
   "source": [
    "for value in df_gpv['actor1']:\n",
    "\n",
    "    if '(' not in value:\n",
    "        print(value)"
   ]
  },
  {
   "cell_type": "code",
   "execution_count": null,
   "metadata": {},
   "outputs": [],
   "source": []
  }
 ],
 "metadata": {
  "kernelspec": {
   "display_name": "Python 3",
   "language": "python",
   "name": "python3"
  },
  "language_info": {
   "codemirror_mode": {
    "name": "ipython",
    "version": 3
   },
   "file_extension": ".py",
   "mimetype": "text/x-python",
   "name": "python",
   "nbconvert_exporter": "python",
   "pygments_lexer": "ipython3",
   "version": "3.10.12"
  }
 },
 "nbformat": 4,
 "nbformat_minor": 2
}
