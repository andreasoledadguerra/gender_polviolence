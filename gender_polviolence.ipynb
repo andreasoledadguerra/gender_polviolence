{
 "cells": [
  {
   "cell_type": "markdown",
   "metadata": {},
   "source": [
    "# Political Violence Targeting Women & Demonstrations Featuring Women\n",
    "\n",
    "#### All violence targeting women, as well as demonstrations featuring women, are included in the data file below. The data in this file cover all events in which women were specifically targeted by political violence, not all events involving women in any way; the file also covers all demonstration events in which women were specifically featured, not all demonstrations involving women. \n",
    "\n",
    "#### This dataset was extract from ACLED Access Portal and we perform EDA using Python.\n"
   ]
  },
  {
   "cell_type": "markdown",
   "metadata": {},
   "source": [
    "## Data Collection & Data Exploration\n",
    "\n",
    "We import pandas and necessary libraries for dataframe manipulation and analysis."
   ]
  },
  {
   "cell_type": "code",
   "execution_count": 1,
   "metadata": {},
   "outputs": [],
   "source": [
    "# Libraries are imported\n",
    "import pandas as pd\n",
    "import numpy as np\n",
    "import matplotlib.pyplot as plt\n",
    "import seaborn as sns\n",
    "import folium\n",
    "from folium.plugins import MarkerCluster\n",
    "from datetime import datetime, date\n"
   ]
  },
  {
   "cell_type": "code",
   "execution_count": 2,
   "metadata": {},
   "outputs": [
    {
     "data": {
      "text/plain": [
       "(75563, 14)"
      ]
     },
     "metadata": {},
     "output_type": "display_data"
    }
   ],
   "source": [
    "# Dataset is downloaded\n",
    "df_gpv = pd.read_csv(\"gender_Sep27-1.csv\")\n",
    "df_gpv.drop([\n",
    "    'event_id_cnty',\n",
    "    #'event_date', \n",
    "    'year', \n",
    "    'time_precision',\n",
    "    'disorder_type', \n",
    "    #'event_type', \n",
    "    #'sub_event_type', \n",
    "    'actor1',\n",
    "    'assoc_actor_1', \n",
    "    #'inter1', \n",
    "    'actor2', \n",
    "    'assoc_actor_2', \n",
    "    'inter2',\n",
    "    #'interaction', \n",
    "    'civilian_targeting', \n",
    "    #'iso',\n",
    "    #'region', \n",
    "    #'country',\n",
    "    'admin1', \n",
    "    'admin2', \n",
    "    'admin3', \n",
    "    #'location', \n",
    "    #'latitude', \n",
    "    #'longitude',\n",
    "    'geo_precision', \n",
    "    'source', \n",
    "    'source_scale', \n",
    "    #'notes', \n",
    "    #'fatalities',\n",
    "    'tags',\n",
    "    'timestamp'                           \n",
    "], axis=1, inplace=True)\n",
    "\n",
    "\n",
    "df_gpv[\"date\"] = df_gpv[\"event_date\"].apply(date.fromisoformat)\n",
    "\n",
    "display(df_gpv.shape)"
   ]
  },
  {
   "cell_type": "markdown",
   "metadata": {},
   "source": [
    "#### Exploring attributes of date.time"
   ]
  },
  {
   "cell_type": "code",
   "execution_count": 3,
   "metadata": {},
   "outputs": [
    {
     "data": {
      "text/plain": [
       "datetime.date(2024, 9, 27)"
      ]
     },
     "execution_count": 3,
     "metadata": {},
     "output_type": "execute_result"
    }
   ],
   "source": [
    "df_gpv['date'][0]"
   ]
  },
  {
   "cell_type": "code",
   "execution_count": 4,
   "metadata": {},
   "outputs": [
    {
     "data": {
      "text/plain": [
       "2024"
      ]
     },
     "execution_count": 4,
     "metadata": {},
     "output_type": "execute_result"
    }
   ],
   "source": [
    "df_gpv['date'][0].year"
   ]
  },
  {
   "cell_type": "code",
   "execution_count": 5,
   "metadata": {},
   "outputs": [
    {
     "data": {
      "text/plain": [
       "9"
      ]
     },
     "execution_count": 5,
     "metadata": {},
     "output_type": "execute_result"
    }
   ],
   "source": [
    "df_gpv['date'][0].month"
   ]
  },
  {
   "cell_type": "code",
   "execution_count": 6,
   "metadata": {},
   "outputs": [
    {
     "data": {
      "text/plain": [
       "27"
      ]
     },
     "execution_count": 6,
     "metadata": {},
     "output_type": "execute_result"
    }
   ],
   "source": [
    "df_gpv['date'][0].day"
   ]
  },
  {
   "cell_type": "markdown",
   "metadata": {},
   "source": [
    "#### Exploring the dataset"
   ]
  },
  {
   "cell_type": "code",
   "execution_count": 7,
   "metadata": {},
   "outputs": [
    {
     "data": {
      "text/html": [
       "<div>\n",
       "<style scoped>\n",
       "    .dataframe tbody tr th:only-of-type {\n",
       "        vertical-align: middle;\n",
       "    }\n",
       "\n",
       "    .dataframe tbody tr th {\n",
       "        vertical-align: top;\n",
       "    }\n",
       "\n",
       "    .dataframe thead th {\n",
       "        text-align: right;\n",
       "    }\n",
       "</style>\n",
       "<table border=\"1\" class=\"dataframe\">\n",
       "  <thead>\n",
       "    <tr style=\"text-align: right;\">\n",
       "      <th></th>\n",
       "      <th>event_date</th>\n",
       "      <th>event_type</th>\n",
       "      <th>sub_event_type</th>\n",
       "      <th>inter1</th>\n",
       "      <th>interaction</th>\n",
       "      <th>iso</th>\n",
       "      <th>region</th>\n",
       "      <th>country</th>\n",
       "      <th>location</th>\n",
       "      <th>latitude</th>\n",
       "      <th>longitude</th>\n",
       "      <th>notes</th>\n",
       "      <th>fatalities</th>\n",
       "      <th>date</th>\n",
       "    </tr>\n",
       "  </thead>\n",
       "  <tbody>\n",
       "    <tr>\n",
       "      <th>0</th>\n",
       "      <td>2024-09-27</td>\n",
       "      <td>Violence against civilians</td>\n",
       "      <td>Sexual violence</td>\n",
       "      <td>Political militia</td>\n",
       "      <td>Political militia-Civilians</td>\n",
       "      <td>76</td>\n",
       "      <td>South America</td>\n",
       "      <td>Brazil</td>\n",
       "      <td>Sorriso</td>\n",
       "      <td>-12.5453</td>\n",
       "      <td>-55.7114</td>\n",
       "      <td>On 27 September 2024, in Sorriso (Mato Grosso)...</td>\n",
       "      <td>0</td>\n",
       "      <td>2024-09-27</td>\n",
       "    </tr>\n",
       "    <tr>\n",
       "      <th>1</th>\n",
       "      <td>2024-09-27</td>\n",
       "      <td>Violence against civilians</td>\n",
       "      <td>Attack</td>\n",
       "      <td>Political militia</td>\n",
       "      <td>Political militia-Civilians</td>\n",
       "      <td>218</td>\n",
       "      <td>South America</td>\n",
       "      <td>Ecuador</td>\n",
       "      <td>Guayaquil</td>\n",
       "      <td>-2.1962</td>\n",
       "      <td>-79.8862</td>\n",
       "      <td>Around 27 September 2024 (as reported), in Gua...</td>\n",
       "      <td>1</td>\n",
       "      <td>2024-09-27</td>\n",
       "    </tr>\n",
       "  </tbody>\n",
       "</table>\n",
       "</div>"
      ],
      "text/plain": [
       "   event_date                  event_type   sub_event_type             inter1  \\\n",
       "0  2024-09-27  Violence against civilians  Sexual violence  Political militia   \n",
       "1  2024-09-27  Violence against civilians           Attack  Political militia   \n",
       "\n",
       "                   interaction  iso         region  country   location  \\\n",
       "0  Political militia-Civilians   76  South America   Brazil    Sorriso   \n",
       "1  Political militia-Civilians  218  South America  Ecuador  Guayaquil   \n",
       "\n",
       "   latitude  longitude                                              notes  \\\n",
       "0  -12.5453   -55.7114  On 27 September 2024, in Sorriso (Mato Grosso)...   \n",
       "1   -2.1962   -79.8862  Around 27 September 2024 (as reported), in Gua...   \n",
       "\n",
       "   fatalities        date  \n",
       "0           0  2024-09-27  \n",
       "1           1  2024-09-27  "
      ]
     },
     "metadata": {},
     "output_type": "display_data"
    }
   ],
   "source": [
    "# First rows are checked\n",
    "\n",
    "display(df_gpv.head(2))"
   ]
  },
  {
   "cell_type": "code",
   "execution_count": 8,
   "metadata": {},
   "outputs": [
    {
     "data": {
      "text/html": [
       "<div>\n",
       "<style scoped>\n",
       "    .dataframe tbody tr th:only-of-type {\n",
       "        vertical-align: middle;\n",
       "    }\n",
       "\n",
       "    .dataframe tbody tr th {\n",
       "        vertical-align: top;\n",
       "    }\n",
       "\n",
       "    .dataframe thead th {\n",
       "        text-align: right;\n",
       "    }\n",
       "</style>\n",
       "<table border=\"1\" class=\"dataframe\">\n",
       "  <thead>\n",
       "    <tr style=\"text-align: right;\">\n",
       "      <th></th>\n",
       "      <th>event_date</th>\n",
       "      <th>event_type</th>\n",
       "      <th>sub_event_type</th>\n",
       "      <th>inter1</th>\n",
       "      <th>interaction</th>\n",
       "      <th>iso</th>\n",
       "      <th>region</th>\n",
       "      <th>country</th>\n",
       "      <th>location</th>\n",
       "      <th>latitude</th>\n",
       "      <th>longitude</th>\n",
       "      <th>notes</th>\n",
       "      <th>fatalities</th>\n",
       "      <th>date</th>\n",
       "    </tr>\n",
       "  </thead>\n",
       "  <tbody>\n",
       "    <tr>\n",
       "      <th>75561</th>\n",
       "      <td>1997-01-15</td>\n",
       "      <td>Violence against civilians</td>\n",
       "      <td>Attack</td>\n",
       "      <td>Political militia</td>\n",
       "      <td>Political militia-Civilians</td>\n",
       "      <td>646</td>\n",
       "      <td>Eastern Africa</td>\n",
       "      <td>Rwanda</td>\n",
       "      <td>Ruhengeri</td>\n",
       "      <td>-1.4998</td>\n",
       "      <td>29.635</td>\n",
       "      <td>Around 15 January 1997 (month of), 3 spanish a...</td>\n",
       "      <td>3</td>\n",
       "      <td>1997-01-15</td>\n",
       "    </tr>\n",
       "    <tr>\n",
       "      <th>75562</th>\n",
       "      <td>1997-01-06</td>\n",
       "      <td>Violence against civilians</td>\n",
       "      <td>Attack</td>\n",
       "      <td>Identity militia</td>\n",
       "      <td>Identity militia-Civilians</td>\n",
       "      <td>562</td>\n",
       "      <td>Western Africa</td>\n",
       "      <td>Niger</td>\n",
       "      <td>Niamey</td>\n",
       "      <td>13.5200</td>\n",
       "      <td>2.120</td>\n",
       "      <td>A french woman was shot and killed by Tuareg r...</td>\n",
       "      <td>1</td>\n",
       "      <td>1997-01-06</td>\n",
       "    </tr>\n",
       "  </tbody>\n",
       "</table>\n",
       "</div>"
      ],
      "text/plain": [
       "       event_date                  event_type sub_event_type  \\\n",
       "75561  1997-01-15  Violence against civilians         Attack   \n",
       "75562  1997-01-06  Violence against civilians         Attack   \n",
       "\n",
       "                  inter1                  interaction  iso          region  \\\n",
       "75561  Political militia  Political militia-Civilians  646  Eastern Africa   \n",
       "75562   Identity militia   Identity militia-Civilians  562  Western Africa   \n",
       "\n",
       "      country   location  latitude  longitude  \\\n",
       "75561  Rwanda  Ruhengeri   -1.4998     29.635   \n",
       "75562   Niger     Niamey   13.5200      2.120   \n",
       "\n",
       "                                                   notes  fatalities  \\\n",
       "75561  Around 15 January 1997 (month of), 3 spanish a...           3   \n",
       "75562  A french woman was shot and killed by Tuareg r...           1   \n",
       "\n",
       "             date  \n",
       "75561  1997-01-15  \n",
       "75562  1997-01-06  "
      ]
     },
     "metadata": {},
     "output_type": "display_data"
    }
   ],
   "source": [
    "# Last five rows are checking\n",
    "\n",
    "display(df_gpv.tail(2))"
   ]
  },
  {
   "cell_type": "code",
   "execution_count": 9,
   "metadata": {},
   "outputs": [
    {
     "data": {
      "text/plain": [
       "Index(['event_date', 'event_type', 'sub_event_type', 'inter1', 'interaction',\n",
       "       'iso', 'region', 'country', 'location', 'latitude', 'longitude',\n",
       "       'notes', 'fatalities', 'date'],\n",
       "      dtype='object')"
      ]
     },
     "metadata": {},
     "output_type": "display_data"
    }
   ],
   "source": [
    "# Columns's names are checked\n",
    "\n",
    "display(df_gpv.keys())"
   ]
  },
  {
   "cell_type": "code",
   "execution_count": 10,
   "metadata": {},
   "outputs": [
    {
     "name": "stdout",
     "output_type": "stream",
     "text": [
      "<class 'pandas.core.frame.DataFrame'>\n",
      "RangeIndex: 75563 entries, 0 to 75562\n",
      "Data columns (total 14 columns):\n",
      " #   Column          Non-Null Count  Dtype  \n",
      "---  ------          --------------  -----  \n",
      " 0   event_date      75563 non-null  object \n",
      " 1   event_type      75563 non-null  object \n",
      " 2   sub_event_type  75563 non-null  object \n",
      " 3   inter1          75563 non-null  object \n",
      " 4   interaction     75563 non-null  object \n",
      " 5   iso             75563 non-null  int64  \n",
      " 6   region          75563 non-null  object \n",
      " 7   country         75563 non-null  object \n",
      " 8   location        75563 non-null  object \n",
      " 9   latitude        75563 non-null  float64\n",
      " 10  longitude       75563 non-null  float64\n",
      " 11  notes           75563 non-null  object \n",
      " 12  fatalities      75563 non-null  int64  \n",
      " 13  date            75563 non-null  object \n",
      "dtypes: float64(2), int64(2), object(10)\n",
      "memory usage: 8.1+ MB\n"
     ]
    }
   ],
   "source": [
    "# Structural Overview of the DataFrame\n",
    "\n",
    "df_gpv.info()"
   ]
  },
  {
   "cell_type": "code",
   "execution_count": 11,
   "metadata": {},
   "outputs": [
    {
     "data": {
      "text/html": [
       "<div>\n",
       "<style scoped>\n",
       "    .dataframe tbody tr th:only-of-type {\n",
       "        vertical-align: middle;\n",
       "    }\n",
       "\n",
       "    .dataframe tbody tr th {\n",
       "        vertical-align: top;\n",
       "    }\n",
       "\n",
       "    .dataframe thead th {\n",
       "        text-align: right;\n",
       "    }\n",
       "</style>\n",
       "<table border=\"1\" class=\"dataframe\">\n",
       "  <thead>\n",
       "    <tr style=\"text-align: right;\">\n",
       "      <th></th>\n",
       "      <th>iso</th>\n",
       "      <th>latitude</th>\n",
       "      <th>longitude</th>\n",
       "      <th>fatalities</th>\n",
       "    </tr>\n",
       "  </thead>\n",
       "  <tbody>\n",
       "    <tr>\n",
       "      <th>count</th>\n",
       "      <td>75563.000000</td>\n",
       "      <td>75563.000000</td>\n",
       "      <td>75563.000000</td>\n",
       "      <td>75563.000000</td>\n",
       "    </tr>\n",
       "    <tr>\n",
       "      <th>mean</th>\n",
       "      <td>457.337401</td>\n",
       "      <td>23.442707</td>\n",
       "      <td>12.084752</td>\n",
       "      <td>0.255323</td>\n",
       "    </tr>\n",
       "    <tr>\n",
       "      <th>std</th>\n",
       "      <td>251.661696</td>\n",
       "      <td>20.843715</td>\n",
       "      <td>72.187548</td>\n",
       "      <td>4.010021</td>\n",
       "    </tr>\n",
       "    <tr>\n",
       "      <th>min</th>\n",
       "      <td>0.000000</td>\n",
       "      <td>-54.806200</td>\n",
       "      <td>-171.755300</td>\n",
       "      <td>0.000000</td>\n",
       "    </tr>\n",
       "    <tr>\n",
       "      <th>25%</th>\n",
       "      <td>276.000000</td>\n",
       "      <td>13.212700</td>\n",
       "      <td>-65.216900</td>\n",
       "      <td>0.000000</td>\n",
       "    </tr>\n",
       "    <tr>\n",
       "      <th>50%</th>\n",
       "      <td>410.000000</td>\n",
       "      <td>26.664500</td>\n",
       "      <td>25.208100</td>\n",
       "      <td>0.000000</td>\n",
       "    </tr>\n",
       "    <tr>\n",
       "      <th>75%</th>\n",
       "      <td>710.000000</td>\n",
       "      <td>37.597100</td>\n",
       "      <td>73.685400</td>\n",
       "      <td>0.000000</td>\n",
       "    </tr>\n",
       "    <tr>\n",
       "      <th>max</th>\n",
       "      <td>894.000000</td>\n",
       "      <td>72.913600</td>\n",
       "      <td>178.448700</td>\n",
       "      <td>750.000000</td>\n",
       "    </tr>\n",
       "  </tbody>\n",
       "</table>\n",
       "</div>"
      ],
      "text/plain": [
       "                iso      latitude     longitude    fatalities\n",
       "count  75563.000000  75563.000000  75563.000000  75563.000000\n",
       "mean     457.337401     23.442707     12.084752      0.255323\n",
       "std      251.661696     20.843715     72.187548      4.010021\n",
       "min        0.000000    -54.806200   -171.755300      0.000000\n",
       "25%      276.000000     13.212700    -65.216900      0.000000\n",
       "50%      410.000000     26.664500     25.208100      0.000000\n",
       "75%      710.000000     37.597100     73.685400      0.000000\n",
       "max      894.000000     72.913600    178.448700    750.000000"
      ]
     },
     "execution_count": 11,
     "metadata": {},
     "output_type": "execute_result"
    }
   ],
   "source": [
    "# Basic statistical description (numerical columns)\n",
    "\n",
    "df_gpv.describe()"
   ]
  },
  {
   "cell_type": "code",
   "execution_count": 12,
   "metadata": {},
   "outputs": [
    {
     "data": {
      "text/plain": [
       "0        Political militia\n",
       "1        Political militia\n",
       "2        Political militia\n",
       "3        Political militia\n",
       "4             State forces\n",
       "               ...        \n",
       "75558          Rebel group\n",
       "75559          Rebel group\n",
       "75560          Rebel group\n",
       "75561    Political militia\n",
       "75562     Identity militia\n",
       "Name: inter1, Length: 75563, dtype: object"
      ]
     },
     "execution_count": 12,
     "metadata": {},
     "output_type": "execute_result"
    }
   ],
   "source": [
    "# Displaying random column\n",
    "df_gpv['inter1']"
   ]
  },
  {
   "cell_type": "markdown",
   "metadata": {},
   "source": [
    "#### Checking unique values"
   ]
  },
  {
   "cell_type": "code",
   "execution_count": 13,
   "metadata": {},
   "outputs": [
    {
     "data": {
      "text/plain": [
       "array(['South America', 'North America', 'Middle East', 'Southern Africa',\n",
       "       'Europe', 'East Asia', 'South Asia', 'Northern Africa',\n",
       "       'Western Africa', 'Middle Africa', 'Central America',\n",
       "       'Caucasus and Central Asia', 'Southeast Asia', 'Eastern Africa',\n",
       "       'Caribbean', 'Oceania'], dtype=object)"
      ]
     },
     "execution_count": 13,
     "metadata": {},
     "output_type": "execute_result"
    }
   ],
   "source": [
    "df_gpv['region'].unique()"
   ]
  },
  {
   "cell_type": "code",
   "execution_count": 14,
   "metadata": {},
   "outputs": [
    {
     "data": {
      "text/plain": [
       "array(['Violence against civilians', 'Protests', 'Riots',\n",
       "       'Strategic developments', 'Explosions/Remote violence'],\n",
       "      dtype=object)"
      ]
     },
     "execution_count": 14,
     "metadata": {},
     "output_type": "execute_result"
    }
   ],
   "source": [
    "df_gpv['event_type'].unique()"
   ]
  },
  {
   "cell_type": "code",
   "execution_count": 15,
   "metadata": {},
   "outputs": [
    {
     "data": {
      "text/plain": [
       "array(['Political militia', 'State forces', 'Protesters', 'Rioters',\n",
       "       'Identity militia', 'External/Other forces', 'Rebel group',\n",
       "       'Civilians'], dtype=object)"
      ]
     },
     "execution_count": 15,
     "metadata": {},
     "output_type": "execute_result"
    }
   ],
   "source": [
    "df_gpv['inter1'].unique()\n"
   ]
  },
  {
   "cell_type": "code",
   "execution_count": 16,
   "metadata": {},
   "outputs": [
    {
     "data": {
      "text/plain": [
       "array(['Political militia-Civilians', 'State forces-Civilians',\n",
       "       'Protesters only', 'Rioters-Civilians',\n",
       "       'Identity militia-Civilians', 'External/Other forces-Civilians',\n",
       "       'Rebel group-Civilians', 'State forces-Protesters',\n",
       "       'State forces-Rioters', 'Rioters only', 'Protesters-Protesters',\n",
       "       'Rebel group-Protesters', 'Civilians only', 'Rioters-Protesters',\n",
       "       'Rioters-Rioters', 'Political militia-Protesters',\n",
       "       'Civilians-Civilians', 'Protesters-External/Other forces',\n",
       "       'Identity militia only', 'Rioters-External/Other forces',\n",
       "       'Political militia-Rioters', 'Rebel group-Rioters',\n",
       "       'Identity militia-Protesters'], dtype=object)"
      ]
     },
     "execution_count": 16,
     "metadata": {},
     "output_type": "execute_result"
    }
   ],
   "source": [
    "df_gpv['interaction'].unique()"
   ]
  },
  {
   "cell_type": "code",
   "execution_count": 17,
   "metadata": {},
   "outputs": [
    {
     "data": {
      "text/plain": [
       "array(['Sexual violence', 'Attack', 'Abduction/forced disappearance',\n",
       "       'Peaceful protest', 'Mob violence', 'Protest with intervention',\n",
       "       'Violent demonstration', 'Arrests', 'Looting/property destruction',\n",
       "       'Other', 'Excessive force against protesters', 'Grenade',\n",
       "       'Remote explosive/landmine/IED',\n",
       "       'Shelling/artillery/missile attack', 'Disrupted weapons use',\n",
       "       'Air/drone strike', 'Suicide bomb'], dtype=object)"
      ]
     },
     "execution_count": 17,
     "metadata": {},
     "output_type": "execute_result"
    }
   ],
   "source": [
    "df_gpv['sub_event_type'].unique()"
   ]
  },
  {
   "cell_type": "markdown",
   "metadata": {},
   "source": [
    "#### Handling missing data"
   ]
  },
  {
   "cell_type": "code",
   "execution_count": 18,
   "metadata": {},
   "outputs": [
    {
     "data": {
      "text/plain": [
       "event_date        0\n",
       "event_type        0\n",
       "sub_event_type    0\n",
       "inter1            0\n",
       "interaction       0\n",
       "iso               0\n",
       "region            0\n",
       "country           0\n",
       "location          0\n",
       "latitude          0\n",
       "longitude         0\n",
       "notes             0\n",
       "fatalities        0\n",
       "date              0\n",
       "dtype: int64"
      ]
     },
     "execution_count": 18,
     "metadata": {},
     "output_type": "execute_result"
    }
   ],
   "source": [
    "# Missing values are identifying\n",
    "\n",
    "df_gpv.isnull().sum()"
   ]
  },
  {
   "cell_type": "markdown",
   "metadata": {},
   "source": [
    "## Pre-processing data"
   ]
  },
  {
   "cell_type": "code",
   "execution_count": 19,
   "metadata": {},
   "outputs": [
    {
     "data": {
      "text/plain": [
       "'On 18 August 2011, Murle militia attacked the town of Pieri (Uror county, Jonglei state), killing at least 750 Lou Nuer residents. Nearly 1,000 were wounded, and dozens of women as well as children were abducted. 38,000 head of cattle were allegedly stolen.'"
      ]
     },
     "execution_count": 19,
     "metadata": {},
     "output_type": "execute_result"
    }
   ],
   "source": [
    "df_gpv[df_gpv['fatalities']== 750].iloc[0]['notes']"
   ]
  },
  {
   "cell_type": "code",
   "execution_count": 20,
   "metadata": {},
   "outputs": [
    {
     "data": {
      "text/plain": [
       "array(['South America', 'North America', 'Middle East', 'Southern Africa',\n",
       "       'Europe', 'East Asia', 'South Asia', 'Northern Africa',\n",
       "       'Western Africa', 'Middle Africa', 'Central America',\n",
       "       'Caucasus and Central Asia', 'Southeast Asia', 'Eastern Africa',\n",
       "       'Caribbean', 'Oceania'], dtype=object)"
      ]
     },
     "execution_count": 20,
     "metadata": {},
     "output_type": "execute_result"
    }
   ],
   "source": [
    "df_gpv['region'].unique()"
   ]
  },
  {
   "cell_type": "code",
   "execution_count": 21,
   "metadata": {},
   "outputs": [],
   "source": [
    "region_map = {\n",
    "    'africa': ['Southern Africa', 'Northern Africa', 'Middle Africa', 'Western Africa', 'Eastern Africa'],\n",
    "    'middle east': ['Middle East'],\n",
    "    'asia':['Caucasus and Central Asia', 'Sotheast Asia', 'South Asia', 'East Asia'],\n",
    "    'america and caribbean' :[ 'South America', 'North America', 'Central America', 'Caribbean'],\n",
    "    'europe': ['Europe'],\n",
    "    'oceania': ['Oceania']\n",
    "}\n"
   ]
  },
  {
   "cell_type": "code",
   "execution_count": 22,
   "metadata": {},
   "outputs": [],
   "source": [
    "# Flatten the mapping to map each element to its group\n",
    "flattened_map = {item: key for key, values in region_map.items() for item in values}\n",
    "\n",
    "#flattened_map = {}\n",
    "#for key, values in region_map.items():\n",
    "#    for item in values:\n",
    "#        flattened_map[item] = key\n"
   ]
  },
  {
   "cell_type": "code",
   "execution_count": 23,
   "metadata": {},
   "outputs": [
    {
     "data": {
      "text/html": [
       "<div>\n",
       "<style scoped>\n",
       "    .dataframe tbody tr th:only-of-type {\n",
       "        vertical-align: middle;\n",
       "    }\n",
       "\n",
       "    .dataframe tbody tr th {\n",
       "        vertical-align: top;\n",
       "    }\n",
       "\n",
       "    .dataframe thead th {\n",
       "        text-align: right;\n",
       "    }\n",
       "</style>\n",
       "<table border=\"1\" class=\"dataframe\">\n",
       "  <thead>\n",
       "    <tr style=\"text-align: right;\">\n",
       "      <th></th>\n",
       "      <th>event_date</th>\n",
       "      <th>event_type</th>\n",
       "      <th>sub_event_type</th>\n",
       "      <th>inter1</th>\n",
       "      <th>interaction</th>\n",
       "      <th>iso</th>\n",
       "      <th>region</th>\n",
       "      <th>country</th>\n",
       "      <th>location</th>\n",
       "      <th>latitude</th>\n",
       "      <th>longitude</th>\n",
       "      <th>notes</th>\n",
       "      <th>fatalities</th>\n",
       "      <th>date</th>\n",
       "    </tr>\n",
       "  </thead>\n",
       "  <tbody>\n",
       "    <tr>\n",
       "      <th>0</th>\n",
       "      <td>2024-09-27</td>\n",
       "      <td>Violence against civilians</td>\n",
       "      <td>Sexual violence</td>\n",
       "      <td>Political militia</td>\n",
       "      <td>Political militia-Civilians</td>\n",
       "      <td>76</td>\n",
       "      <td>america and caribbean</td>\n",
       "      <td>Brazil</td>\n",
       "      <td>Sorriso</td>\n",
       "      <td>-12.5453</td>\n",
       "      <td>-55.7114</td>\n",
       "      <td>On 27 September 2024, in Sorriso (Mato Grosso)...</td>\n",
       "      <td>0</td>\n",
       "      <td>2024-09-27</td>\n",
       "    </tr>\n",
       "    <tr>\n",
       "      <th>1</th>\n",
       "      <td>2024-09-27</td>\n",
       "      <td>Violence against civilians</td>\n",
       "      <td>Attack</td>\n",
       "      <td>Political militia</td>\n",
       "      <td>Political militia-Civilians</td>\n",
       "      <td>218</td>\n",
       "      <td>america and caribbean</td>\n",
       "      <td>Ecuador</td>\n",
       "      <td>Guayaquil</td>\n",
       "      <td>-2.1962</td>\n",
       "      <td>-79.8862</td>\n",
       "      <td>Around 27 September 2024 (as reported), in Gua...</td>\n",
       "      <td>1</td>\n",
       "      <td>2024-09-27</td>\n",
       "    </tr>\n",
       "    <tr>\n",
       "      <th>2</th>\n",
       "      <td>2024-09-27</td>\n",
       "      <td>Violence against civilians</td>\n",
       "      <td>Abduction/forced disappearance</td>\n",
       "      <td>Political militia</td>\n",
       "      <td>Political militia-Civilians</td>\n",
       "      <td>484</td>\n",
       "      <td>america and caribbean</td>\n",
       "      <td>Mexico</td>\n",
       "      <td>Tijuana</td>\n",
       "      <td>32.5325</td>\n",
       "      <td>-117.0190</td>\n",
       "      <td>Around 27 September 2024 (as reported), in Tij...</td>\n",
       "      <td>0</td>\n",
       "      <td>2024-09-27</td>\n",
       "    </tr>\n",
       "    <tr>\n",
       "      <th>3</th>\n",
       "      <td>2024-09-27</td>\n",
       "      <td>Violence against civilians</td>\n",
       "      <td>Attack</td>\n",
       "      <td>Political militia</td>\n",
       "      <td>Political militia-Civilians</td>\n",
       "      <td>484</td>\n",
       "      <td>america and caribbean</td>\n",
       "      <td>Mexico</td>\n",
       "      <td>Ciudad de Mexico - Gustavo A. Madero</td>\n",
       "      <td>19.4829</td>\n",
       "      <td>-99.1135</td>\n",
       "      <td>On 27 September 2024, in Ciudad de Mexico - Gu...</td>\n",
       "      <td>1</td>\n",
       "      <td>2024-09-27</td>\n",
       "    </tr>\n",
       "    <tr>\n",
       "      <th>4</th>\n",
       "      <td>2024-09-27</td>\n",
       "      <td>Violence against civilians</td>\n",
       "      <td>Attack</td>\n",
       "      <td>State forces</td>\n",
       "      <td>State forces-Civilians</td>\n",
       "      <td>887</td>\n",
       "      <td>middle east</td>\n",
       "      <td>Yemen</td>\n",
       "      <td>Al Yahari</td>\n",
       "      <td>13.9966</td>\n",
       "      <td>44.0604</td>\n",
       "      <td>On 27 September 2024, a Houthi-affiliated fema...</td>\n",
       "      <td>0</td>\n",
       "      <td>2024-09-27</td>\n",
       "    </tr>\n",
       "    <tr>\n",
       "      <th>...</th>\n",
       "      <td>...</td>\n",
       "      <td>...</td>\n",
       "      <td>...</td>\n",
       "      <td>...</td>\n",
       "      <td>...</td>\n",
       "      <td>...</td>\n",
       "      <td>...</td>\n",
       "      <td>...</td>\n",
       "      <td>...</td>\n",
       "      <td>...</td>\n",
       "      <td>...</td>\n",
       "      <td>...</td>\n",
       "      <td>...</td>\n",
       "      <td>...</td>\n",
       "    </tr>\n",
       "    <tr>\n",
       "      <th>75558</th>\n",
       "      <td>1997-03-05</td>\n",
       "      <td>Violence against civilians</td>\n",
       "      <td>Attack</td>\n",
       "      <td>Rebel group</td>\n",
       "      <td>Rebel group-Civilians</td>\n",
       "      <td>800</td>\n",
       "      <td>africa</td>\n",
       "      <td>Uganda</td>\n",
       "      <td>Palabek</td>\n",
       "      <td>3.4333</td>\n",
       "      <td>32.5667</td>\n",
       "      <td>After failing to find deserters they captured ...</td>\n",
       "      <td>9</td>\n",
       "      <td>1997-03-05</td>\n",
       "    </tr>\n",
       "    <tr>\n",
       "      <th>75559</th>\n",
       "      <td>1997-02-24</td>\n",
       "      <td>Violence against civilians</td>\n",
       "      <td>Attack</td>\n",
       "      <td>Rebel group</td>\n",
       "      <td>Rebel group-Civilians</td>\n",
       "      <td>12</td>\n",
       "      <td>africa</td>\n",
       "      <td>Algeria</td>\n",
       "      <td>Berrouaghia</td>\n",
       "      <td>36.1352</td>\n",
       "      <td>2.9109</td>\n",
       "      <td>24 March: 5 young girls were killed in Berroua...</td>\n",
       "      <td>5</td>\n",
       "      <td>1997-02-24</td>\n",
       "    </tr>\n",
       "    <tr>\n",
       "      <th>75560</th>\n",
       "      <td>1997-01-22</td>\n",
       "      <td>Violence against civilians</td>\n",
       "      <td>Sexual violence</td>\n",
       "      <td>Rebel group</td>\n",
       "      <td>Rebel group-Civilians</td>\n",
       "      <td>694</td>\n",
       "      <td>africa</td>\n",
       "      <td>Sierra Leone</td>\n",
       "      <td>Magburaka</td>\n",
       "      <td>8.7167</td>\n",
       "      <td>-11.9500</td>\n",
       "      <td>Week of 22 January. RUF forces attacked civili...</td>\n",
       "      <td>40</td>\n",
       "      <td>1997-01-22</td>\n",
       "    </tr>\n",
       "    <tr>\n",
       "      <th>75561</th>\n",
       "      <td>1997-01-15</td>\n",
       "      <td>Violence against civilians</td>\n",
       "      <td>Attack</td>\n",
       "      <td>Political militia</td>\n",
       "      <td>Political militia-Civilians</td>\n",
       "      <td>646</td>\n",
       "      <td>africa</td>\n",
       "      <td>Rwanda</td>\n",
       "      <td>Ruhengeri</td>\n",
       "      <td>-1.4998</td>\n",
       "      <td>29.6350</td>\n",
       "      <td>Around 15 January 1997 (month of), 3 spanish a...</td>\n",
       "      <td>3</td>\n",
       "      <td>1997-01-15</td>\n",
       "    </tr>\n",
       "    <tr>\n",
       "      <th>75562</th>\n",
       "      <td>1997-01-06</td>\n",
       "      <td>Violence against civilians</td>\n",
       "      <td>Attack</td>\n",
       "      <td>Identity militia</td>\n",
       "      <td>Identity militia-Civilians</td>\n",
       "      <td>562</td>\n",
       "      <td>africa</td>\n",
       "      <td>Niger</td>\n",
       "      <td>Niamey</td>\n",
       "      <td>13.5200</td>\n",
       "      <td>2.1200</td>\n",
       "      <td>A french woman was shot and killed by Tuareg r...</td>\n",
       "      <td>1</td>\n",
       "      <td>1997-01-06</td>\n",
       "    </tr>\n",
       "  </tbody>\n",
       "</table>\n",
       "<p>75563 rows × 14 columns</p>\n",
       "</div>"
      ],
      "text/plain": [
       "       event_date                  event_type                  sub_event_type  \\\n",
       "0      2024-09-27  Violence against civilians                 Sexual violence   \n",
       "1      2024-09-27  Violence against civilians                          Attack   \n",
       "2      2024-09-27  Violence against civilians  Abduction/forced disappearance   \n",
       "3      2024-09-27  Violence against civilians                          Attack   \n",
       "4      2024-09-27  Violence against civilians                          Attack   \n",
       "...           ...                         ...                             ...   \n",
       "75558  1997-03-05  Violence against civilians                          Attack   \n",
       "75559  1997-02-24  Violence against civilians                          Attack   \n",
       "75560  1997-01-22  Violence against civilians                 Sexual violence   \n",
       "75561  1997-01-15  Violence against civilians                          Attack   \n",
       "75562  1997-01-06  Violence against civilians                          Attack   \n",
       "\n",
       "                  inter1                  interaction  iso  \\\n",
       "0      Political militia  Political militia-Civilians   76   \n",
       "1      Political militia  Political militia-Civilians  218   \n",
       "2      Political militia  Political militia-Civilians  484   \n",
       "3      Political militia  Political militia-Civilians  484   \n",
       "4           State forces       State forces-Civilians  887   \n",
       "...                  ...                          ...  ...   \n",
       "75558        Rebel group        Rebel group-Civilians  800   \n",
       "75559        Rebel group        Rebel group-Civilians   12   \n",
       "75560        Rebel group        Rebel group-Civilians  694   \n",
       "75561  Political militia  Political militia-Civilians  646   \n",
       "75562   Identity militia   Identity militia-Civilians  562   \n",
       "\n",
       "                      region       country  \\\n",
       "0      america and caribbean        Brazil   \n",
       "1      america and caribbean       Ecuador   \n",
       "2      america and caribbean        Mexico   \n",
       "3      america and caribbean        Mexico   \n",
       "4                middle east         Yemen   \n",
       "...                      ...           ...   \n",
       "75558                 africa        Uganda   \n",
       "75559                 africa       Algeria   \n",
       "75560                 africa  Sierra Leone   \n",
       "75561                 africa        Rwanda   \n",
       "75562                 africa         Niger   \n",
       "\n",
       "                                   location  latitude  longitude  \\\n",
       "0                                   Sorriso  -12.5453   -55.7114   \n",
       "1                                 Guayaquil   -2.1962   -79.8862   \n",
       "2                                   Tijuana   32.5325  -117.0190   \n",
       "3      Ciudad de Mexico - Gustavo A. Madero   19.4829   -99.1135   \n",
       "4                                 Al Yahari   13.9966    44.0604   \n",
       "...                                     ...       ...        ...   \n",
       "75558                               Palabek    3.4333    32.5667   \n",
       "75559                           Berrouaghia   36.1352     2.9109   \n",
       "75560                             Magburaka    8.7167   -11.9500   \n",
       "75561                             Ruhengeri   -1.4998    29.6350   \n",
       "75562                                Niamey   13.5200     2.1200   \n",
       "\n",
       "                                                   notes  fatalities  \\\n",
       "0      On 27 September 2024, in Sorriso (Mato Grosso)...           0   \n",
       "1      Around 27 September 2024 (as reported), in Gua...           1   \n",
       "2      Around 27 September 2024 (as reported), in Tij...           0   \n",
       "3      On 27 September 2024, in Ciudad de Mexico - Gu...           1   \n",
       "4      On 27 September 2024, a Houthi-affiliated fema...           0   \n",
       "...                                                  ...         ...   \n",
       "75558  After failing to find deserters they captured ...           9   \n",
       "75559  24 March: 5 young girls were killed in Berroua...           5   \n",
       "75560  Week of 22 January. RUF forces attacked civili...          40   \n",
       "75561  Around 15 January 1997 (month of), 3 spanish a...           3   \n",
       "75562  A french woman was shot and killed by Tuareg r...           1   \n",
       "\n",
       "             date  \n",
       "0      2024-09-27  \n",
       "1      2024-09-27  \n",
       "2      2024-09-27  \n",
       "3      2024-09-27  \n",
       "4      2024-09-27  \n",
       "...           ...  \n",
       "75558  1997-03-05  \n",
       "75559  1997-02-24  \n",
       "75560  1997-01-22  \n",
       "75561  1997-01-15  \n",
       "75562  1997-01-06  \n",
       "\n",
       "[75563 rows x 14 columns]"
      ]
     },
     "metadata": {},
     "output_type": "display_data"
    }
   ],
   "source": [
    "#new_column = {'region': ['america', 'middle east', 'asia', 'america and caribbean', 'europe', 'oceania']}\n",
    "\n",
    "df_gpv['region'] = df_gpv['region'].map(flattened_map)\n",
    "\n",
    "display(df_gpv)"
   ]
  },
  {
   "cell_type": "markdown",
   "metadata": {},
   "source": [
    "## Plotting data"
   ]
  },
  {
   "cell_type": "markdown",
   "metadata": {},
   "source": [
    "#### Region vs Fatalities"
   ]
  },
  {
   "cell_type": "code",
   "execution_count": 24,
   "metadata": {},
   "outputs": [
    {
     "data": {
      "text/plain": [
       "array(['america and caribbean', 'middle east', 'africa', 'europe', 'asia',\n",
       "       nan, 'oceania'], dtype=object)"
      ]
     },
     "execution_count": 24,
     "metadata": {},
     "output_type": "execute_result"
    }
   ],
   "source": [
    "df_gpv['region'].unique()"
   ]
  },
  {
   "cell_type": "code",
   "execution_count": 25,
   "metadata": {},
   "outputs": [
    {
     "data": {
      "text/plain": [
       "'On 18 August 2011, Murle militia attacked the town of Pieri (Uror county, Jonglei state), killing at least 750 Lou Nuer residents. Nearly 1,000 were wounded, and dozens of women as well as children were abducted. 38,000 head of cattle were allegedly stolen.'"
      ]
     },
     "execution_count": 25,
     "metadata": {},
     "output_type": "execute_result"
    }
   ],
   "source": [
    "df_gpv[df_gpv['fatalities']== 750].iloc[0]['notes']"
   ]
  },
  {
   "cell_type": "code",
   "execution_count": 26,
   "metadata": {},
   "outputs": [
    {
     "data": {
      "text/html": [
       "<div>\n",
       "<style scoped>\n",
       "    .dataframe tbody tr th:only-of-type {\n",
       "        vertical-align: middle;\n",
       "    }\n",
       "\n",
       "    .dataframe tbody tr th {\n",
       "        vertical-align: top;\n",
       "    }\n",
       "\n",
       "    .dataframe thead th {\n",
       "        text-align: right;\n",
       "    }\n",
       "</style>\n",
       "<table border=\"1\" class=\"dataframe\">\n",
       "  <thead>\n",
       "    <tr style=\"text-align: right;\">\n",
       "      <th></th>\n",
       "      <th>event_date</th>\n",
       "      <th>event_type</th>\n",
       "      <th>sub_event_type</th>\n",
       "      <th>inter1</th>\n",
       "      <th>interaction</th>\n",
       "      <th>iso</th>\n",
       "      <th>region</th>\n",
       "      <th>country</th>\n",
       "      <th>location</th>\n",
       "      <th>latitude</th>\n",
       "      <th>longitude</th>\n",
       "      <th>notes</th>\n",
       "      <th>fatalities</th>\n",
       "      <th>date</th>\n",
       "    </tr>\n",
       "  </thead>\n",
       "  <tbody>\n",
       "    <tr>\n",
       "      <th>5</th>\n",
       "      <td>2024-09-27</td>\n",
       "      <td>Protests</td>\n",
       "      <td>Peaceful protest</td>\n",
       "      <td>Protesters</td>\n",
       "      <td>Protesters only</td>\n",
       "      <td>710</td>\n",
       "      <td>africa</td>\n",
       "      <td>South Africa</td>\n",
       "      <td>Sebokeng</td>\n",
       "      <td>-26.5833</td>\n",
       "      <td>27.8333</td>\n",
       "      <td>Around 27 September 2024 (as reported), reside...</td>\n",
       "      <td>0</td>\n",
       "      <td>2024-09-27</td>\n",
       "    </tr>\n",
       "    <tr>\n",
       "      <th>12</th>\n",
       "      <td>2024-09-26</td>\n",
       "      <td>Protests</td>\n",
       "      <td>Peaceful protest</td>\n",
       "      <td>Protesters</td>\n",
       "      <td>Protesters only</td>\n",
       "      <td>729</td>\n",
       "      <td>africa</td>\n",
       "      <td>Sudan</td>\n",
       "      <td>Kassala</td>\n",
       "      <td>15.4296</td>\n",
       "      <td>36.4105</td>\n",
       "      <td>On 26 September 2024, women staged a protest i...</td>\n",
       "      <td>0</td>\n",
       "      <td>2024-09-26</td>\n",
       "    </tr>\n",
       "    <tr>\n",
       "      <th>13</th>\n",
       "      <td>2024-09-26</td>\n",
       "      <td>Riots</td>\n",
       "      <td>Mob violence</td>\n",
       "      <td>Rioters</td>\n",
       "      <td>Rioters-Civilians</td>\n",
       "      <td>716</td>\n",
       "      <td>africa</td>\n",
       "      <td>Zimbabwe</td>\n",
       "      <td>Harare</td>\n",
       "      <td>-17.8277</td>\n",
       "      <td>31.0534</td>\n",
       "      <td>On 26 September 2024, a mob attacked and attem...</td>\n",
       "      <td>0</td>\n",
       "      <td>2024-09-26</td>\n",
       "    </tr>\n",
       "    <tr>\n",
       "      <th>14</th>\n",
       "      <td>2024-09-26</td>\n",
       "      <td>Violence against civilians</td>\n",
       "      <td>Abduction/forced disappearance</td>\n",
       "      <td>Identity militia</td>\n",
       "      <td>Identity militia-Civilians</td>\n",
       "      <td>566</td>\n",
       "      <td>africa</td>\n",
       "      <td>Nigeria</td>\n",
       "      <td>Jibia</td>\n",
       "      <td>13.0978</td>\n",
       "      <td>7.2225</td>\n",
       "      <td>On 26 September 2024, a Katsina militia abduct...</td>\n",
       "      <td>0</td>\n",
       "      <td>2024-09-26</td>\n",
       "    </tr>\n",
       "    <tr>\n",
       "      <th>19</th>\n",
       "      <td>2024-09-26</td>\n",
       "      <td>Violence against civilians</td>\n",
       "      <td>Sexual violence</td>\n",
       "      <td>Political militia</td>\n",
       "      <td>Political militia-Civilians</td>\n",
       "      <td>180</td>\n",
       "      <td>africa</td>\n",
       "      <td>Democratic Republic of Congo</td>\n",
       "      <td>Sake</td>\n",
       "      <td>-1.5713</td>\n",
       "      <td>29.0536</td>\n",
       "      <td>Around 26 September 2024 (as reported), a susp...</td>\n",
       "      <td>0</td>\n",
       "      <td>2024-09-26</td>\n",
       "    </tr>\n",
       "    <tr>\n",
       "      <th>...</th>\n",
       "      <td>...</td>\n",
       "      <td>...</td>\n",
       "      <td>...</td>\n",
       "      <td>...</td>\n",
       "      <td>...</td>\n",
       "      <td>...</td>\n",
       "      <td>...</td>\n",
       "      <td>...</td>\n",
       "      <td>...</td>\n",
       "      <td>...</td>\n",
       "      <td>...</td>\n",
       "      <td>...</td>\n",
       "      <td>...</td>\n",
       "      <td>...</td>\n",
       "    </tr>\n",
       "    <tr>\n",
       "      <th>75558</th>\n",
       "      <td>1997-03-05</td>\n",
       "      <td>Violence against civilians</td>\n",
       "      <td>Attack</td>\n",
       "      <td>Rebel group</td>\n",
       "      <td>Rebel group-Civilians</td>\n",
       "      <td>800</td>\n",
       "      <td>africa</td>\n",
       "      <td>Uganda</td>\n",
       "      <td>Palabek</td>\n",
       "      <td>3.4333</td>\n",
       "      <td>32.5667</td>\n",
       "      <td>After failing to find deserters they captured ...</td>\n",
       "      <td>9</td>\n",
       "      <td>1997-03-05</td>\n",
       "    </tr>\n",
       "    <tr>\n",
       "      <th>75559</th>\n",
       "      <td>1997-02-24</td>\n",
       "      <td>Violence against civilians</td>\n",
       "      <td>Attack</td>\n",
       "      <td>Rebel group</td>\n",
       "      <td>Rebel group-Civilians</td>\n",
       "      <td>12</td>\n",
       "      <td>africa</td>\n",
       "      <td>Algeria</td>\n",
       "      <td>Berrouaghia</td>\n",
       "      <td>36.1352</td>\n",
       "      <td>2.9109</td>\n",
       "      <td>24 March: 5 young girls were killed in Berroua...</td>\n",
       "      <td>5</td>\n",
       "      <td>1997-02-24</td>\n",
       "    </tr>\n",
       "    <tr>\n",
       "      <th>75560</th>\n",
       "      <td>1997-01-22</td>\n",
       "      <td>Violence against civilians</td>\n",
       "      <td>Sexual violence</td>\n",
       "      <td>Rebel group</td>\n",
       "      <td>Rebel group-Civilians</td>\n",
       "      <td>694</td>\n",
       "      <td>africa</td>\n",
       "      <td>Sierra Leone</td>\n",
       "      <td>Magburaka</td>\n",
       "      <td>8.7167</td>\n",
       "      <td>-11.9500</td>\n",
       "      <td>Week of 22 January. RUF forces attacked civili...</td>\n",
       "      <td>40</td>\n",
       "      <td>1997-01-22</td>\n",
       "    </tr>\n",
       "    <tr>\n",
       "      <th>75561</th>\n",
       "      <td>1997-01-15</td>\n",
       "      <td>Violence against civilians</td>\n",
       "      <td>Attack</td>\n",
       "      <td>Political militia</td>\n",
       "      <td>Political militia-Civilians</td>\n",
       "      <td>646</td>\n",
       "      <td>africa</td>\n",
       "      <td>Rwanda</td>\n",
       "      <td>Ruhengeri</td>\n",
       "      <td>-1.4998</td>\n",
       "      <td>29.6350</td>\n",
       "      <td>Around 15 January 1997 (month of), 3 spanish a...</td>\n",
       "      <td>3</td>\n",
       "      <td>1997-01-15</td>\n",
       "    </tr>\n",
       "    <tr>\n",
       "      <th>75562</th>\n",
       "      <td>1997-01-06</td>\n",
       "      <td>Violence against civilians</td>\n",
       "      <td>Attack</td>\n",
       "      <td>Identity militia</td>\n",
       "      <td>Identity militia-Civilians</td>\n",
       "      <td>562</td>\n",
       "      <td>africa</td>\n",
       "      <td>Niger</td>\n",
       "      <td>Niamey</td>\n",
       "      <td>13.5200</td>\n",
       "      <td>2.1200</td>\n",
       "      <td>A french woman was shot and killed by Tuareg r...</td>\n",
       "      <td>1</td>\n",
       "      <td>1997-01-06</td>\n",
       "    </tr>\n",
       "  </tbody>\n",
       "</table>\n",
       "<p>11281 rows × 14 columns</p>\n",
       "</div>"
      ],
      "text/plain": [
       "       event_date                  event_type                  sub_event_type  \\\n",
       "5      2024-09-27                    Protests                Peaceful protest   \n",
       "12     2024-09-26                    Protests                Peaceful protest   \n",
       "13     2024-09-26                       Riots                    Mob violence   \n",
       "14     2024-09-26  Violence against civilians  Abduction/forced disappearance   \n",
       "19     2024-09-26  Violence against civilians                 Sexual violence   \n",
       "...           ...                         ...                             ...   \n",
       "75558  1997-03-05  Violence against civilians                          Attack   \n",
       "75559  1997-02-24  Violence against civilians                          Attack   \n",
       "75560  1997-01-22  Violence against civilians                 Sexual violence   \n",
       "75561  1997-01-15  Violence against civilians                          Attack   \n",
       "75562  1997-01-06  Violence against civilians                          Attack   \n",
       "\n",
       "                  inter1                  interaction  iso  region  \\\n",
       "5             Protesters              Protesters only  710  africa   \n",
       "12            Protesters              Protesters only  729  africa   \n",
       "13               Rioters            Rioters-Civilians  716  africa   \n",
       "14      Identity militia   Identity militia-Civilians  566  africa   \n",
       "19     Political militia  Political militia-Civilians  180  africa   \n",
       "...                  ...                          ...  ...     ...   \n",
       "75558        Rebel group        Rebel group-Civilians  800  africa   \n",
       "75559        Rebel group        Rebel group-Civilians   12  africa   \n",
       "75560        Rebel group        Rebel group-Civilians  694  africa   \n",
       "75561  Political militia  Political militia-Civilians  646  africa   \n",
       "75562   Identity militia   Identity militia-Civilians  562  africa   \n",
       "\n",
       "                            country     location  latitude  longitude  \\\n",
       "5                      South Africa     Sebokeng  -26.5833    27.8333   \n",
       "12                            Sudan      Kassala   15.4296    36.4105   \n",
       "13                         Zimbabwe       Harare  -17.8277    31.0534   \n",
       "14                          Nigeria        Jibia   13.0978     7.2225   \n",
       "19     Democratic Republic of Congo         Sake   -1.5713    29.0536   \n",
       "...                             ...          ...       ...        ...   \n",
       "75558                        Uganda      Palabek    3.4333    32.5667   \n",
       "75559                       Algeria  Berrouaghia   36.1352     2.9109   \n",
       "75560                  Sierra Leone    Magburaka    8.7167   -11.9500   \n",
       "75561                        Rwanda    Ruhengeri   -1.4998    29.6350   \n",
       "75562                         Niger       Niamey   13.5200     2.1200   \n",
       "\n",
       "                                                   notes  fatalities  \\\n",
       "5      Around 27 September 2024 (as reported), reside...           0   \n",
       "12     On 26 September 2024, women staged a protest i...           0   \n",
       "13     On 26 September 2024, a mob attacked and attem...           0   \n",
       "14     On 26 September 2024, a Katsina militia abduct...           0   \n",
       "19     Around 26 September 2024 (as reported), a susp...           0   \n",
       "...                                                  ...         ...   \n",
       "75558  After failing to find deserters they captured ...           9   \n",
       "75559  24 March: 5 young girls were killed in Berroua...           5   \n",
       "75560  Week of 22 January. RUF forces attacked civili...          40   \n",
       "75561  Around 15 January 1997 (month of), 3 spanish a...           3   \n",
       "75562  A french woman was shot and killed by Tuareg r...           1   \n",
       "\n",
       "             date  \n",
       "5      2024-09-27  \n",
       "12     2024-09-26  \n",
       "13     2024-09-26  \n",
       "14     2024-09-26  \n",
       "19     2024-09-26  \n",
       "...           ...  \n",
       "75558  1997-03-05  \n",
       "75559  1997-02-24  \n",
       "75560  1997-01-22  \n",
       "75561  1997-01-15  \n",
       "75562  1997-01-06  \n",
       "\n",
       "[11281 rows x 14 columns]"
      ]
     },
     "execution_count": 26,
     "metadata": {},
     "output_type": "execute_result"
    }
   ],
   "source": [
    "df_test = df_gpv[df_gpv['region'] == 'africa']\n",
    "df_test"
   ]
  },
  {
   "cell_type": "code",
   "execution_count": 27,
   "metadata": {},
   "outputs": [
    {
     "data": {
      "text/plain": [
       "np.int64(9194)"
      ]
     },
     "execution_count": 27,
     "metadata": {},
     "output_type": "execute_result"
    }
   ],
   "source": [
    "df_test['fatalities'].sum()\n",
    "\n",
    "# crear un dict con la región como key, y fatality como value. Ver la suma total, hacer un barplot con cada una de las regiones \n",
    "# (cada region tiene que tener una sola columna)"
   ]
  },
  {
   "cell_type": "code",
   "execution_count": 28,
   "metadata": {},
   "outputs": [],
   "source": [
    "\n",
    "# Variable as a list or array\n",
    "#new_values = np.array([7, 8, 9])\n",
    "\n",
    "# Add the variable as a new column\n",
    "#df['NewColumn'] = new_values\n",
    "#print(df)\n"
   ]
  },
  {
   "cell_type": "code",
   "execution_count": 29,
   "metadata": {},
   "outputs": [
    {
     "data": {
      "text/plain": [
       "region\n",
       "africa                   9194\n",
       "america and caribbean    6709\n",
       "asia                      692\n",
       "europe                    106\n",
       "middle east              1629\n",
       "oceania                    54\n",
       "Name: fatalities, dtype: int64"
      ]
     },
     "metadata": {},
     "output_type": "display_data"
    }
   ],
   "source": [
    "display(df_gpv.groupby('region')['fatalities'].sum())"
   ]
  },
  {
   "cell_type": "code",
   "execution_count": 30,
   "metadata": {},
   "outputs": [],
   "source": [
    "fatalities_p_region = df_gpv.groupby('region')['fatalities'].sum()"
   ]
  },
  {
   "cell_type": "code",
   "execution_count": 31,
   "metadata": {},
   "outputs": [
    {
     "ename": "ValueError",
     "evalue": "Length of values (6) does not match length of index (75563)",
     "output_type": "error",
     "traceback": [
      "\u001b[0;31m---------------------------------------------------------------------------\u001b[0m",
      "\u001b[0;31mValueError\u001b[0m                                Traceback (most recent call last)",
      "Cell \u001b[0;32mIn[31], line 3\u001b[0m\n\u001b[1;32m      1\u001b[0m new_values \u001b[38;5;241m=\u001b[39m np\u001b[38;5;241m.\u001b[39marray(fatalities_p_region)\n\u001b[0;32m----> 3\u001b[0m \u001b[43mdf_gpv\u001b[49m\u001b[43m[\u001b[49m\u001b[38;5;124;43m'\u001b[39;49m\u001b[38;5;124;43mfatalities_per_region\u001b[39;49m\u001b[38;5;124;43m'\u001b[39;49m\u001b[43m]\u001b[49m \u001b[38;5;241m=\u001b[39m new_values\n",
      "File \u001b[0;32m~/projects/gender_polviolence/env/lib/python3.10/site-packages/pandas/core/frame.py:4311\u001b[0m, in \u001b[0;36mDataFrame.__setitem__\u001b[0;34m(self, key, value)\u001b[0m\n\u001b[1;32m   4308\u001b[0m     \u001b[38;5;28mself\u001b[39m\u001b[38;5;241m.\u001b[39m_setitem_array([key], value)\n\u001b[1;32m   4309\u001b[0m \u001b[38;5;28;01melse\u001b[39;00m:\n\u001b[1;32m   4310\u001b[0m     \u001b[38;5;66;03m# set column\u001b[39;00m\n\u001b[0;32m-> 4311\u001b[0m     \u001b[38;5;28;43mself\u001b[39;49m\u001b[38;5;241;43m.\u001b[39;49m\u001b[43m_set_item\u001b[49m\u001b[43m(\u001b[49m\u001b[43mkey\u001b[49m\u001b[43m,\u001b[49m\u001b[43m \u001b[49m\u001b[43mvalue\u001b[49m\u001b[43m)\u001b[49m\n",
      "File \u001b[0;32m~/projects/gender_polviolence/env/lib/python3.10/site-packages/pandas/core/frame.py:4524\u001b[0m, in \u001b[0;36mDataFrame._set_item\u001b[0;34m(self, key, value)\u001b[0m\n\u001b[1;32m   4514\u001b[0m \u001b[38;5;28;01mdef\u001b[39;00m \u001b[38;5;21m_set_item\u001b[39m(\u001b[38;5;28mself\u001b[39m, key, value) \u001b[38;5;241m-\u001b[39m\u001b[38;5;241m>\u001b[39m \u001b[38;5;28;01mNone\u001b[39;00m:\n\u001b[1;32m   4515\u001b[0m \u001b[38;5;250m    \u001b[39m\u001b[38;5;124;03m\"\"\"\u001b[39;00m\n\u001b[1;32m   4516\u001b[0m \u001b[38;5;124;03m    Add series to DataFrame in specified column.\u001b[39;00m\n\u001b[1;32m   4517\u001b[0m \n\u001b[0;32m   (...)\u001b[0m\n\u001b[1;32m   4522\u001b[0m \u001b[38;5;124;03m    ensure homogeneity.\u001b[39;00m\n\u001b[1;32m   4523\u001b[0m \u001b[38;5;124;03m    \"\"\"\u001b[39;00m\n\u001b[0;32m-> 4524\u001b[0m     value, refs \u001b[38;5;241m=\u001b[39m \u001b[38;5;28;43mself\u001b[39;49m\u001b[38;5;241;43m.\u001b[39;49m\u001b[43m_sanitize_column\u001b[49m\u001b[43m(\u001b[49m\u001b[43mvalue\u001b[49m\u001b[43m)\u001b[49m\n\u001b[1;32m   4526\u001b[0m     \u001b[38;5;28;01mif\u001b[39;00m (\n\u001b[1;32m   4527\u001b[0m         key \u001b[38;5;129;01min\u001b[39;00m \u001b[38;5;28mself\u001b[39m\u001b[38;5;241m.\u001b[39mcolumns\n\u001b[1;32m   4528\u001b[0m         \u001b[38;5;129;01mand\u001b[39;00m value\u001b[38;5;241m.\u001b[39mndim \u001b[38;5;241m==\u001b[39m \u001b[38;5;241m1\u001b[39m\n\u001b[1;32m   4529\u001b[0m         \u001b[38;5;129;01mand\u001b[39;00m \u001b[38;5;129;01mnot\u001b[39;00m \u001b[38;5;28misinstance\u001b[39m(value\u001b[38;5;241m.\u001b[39mdtype, ExtensionDtype)\n\u001b[1;32m   4530\u001b[0m     ):\n\u001b[1;32m   4531\u001b[0m         \u001b[38;5;66;03m# broadcast across multiple columns if necessary\u001b[39;00m\n\u001b[1;32m   4532\u001b[0m         \u001b[38;5;28;01mif\u001b[39;00m \u001b[38;5;129;01mnot\u001b[39;00m \u001b[38;5;28mself\u001b[39m\u001b[38;5;241m.\u001b[39mcolumns\u001b[38;5;241m.\u001b[39mis_unique \u001b[38;5;129;01mor\u001b[39;00m \u001b[38;5;28misinstance\u001b[39m(\u001b[38;5;28mself\u001b[39m\u001b[38;5;241m.\u001b[39mcolumns, MultiIndex):\n",
      "File \u001b[0;32m~/projects/gender_polviolence/env/lib/python3.10/site-packages/pandas/core/frame.py:5266\u001b[0m, in \u001b[0;36mDataFrame._sanitize_column\u001b[0;34m(self, value)\u001b[0m\n\u001b[1;32m   5263\u001b[0m     \u001b[38;5;28;01mreturn\u001b[39;00m _reindex_for_setitem(value, \u001b[38;5;28mself\u001b[39m\u001b[38;5;241m.\u001b[39mindex)\n\u001b[1;32m   5265\u001b[0m \u001b[38;5;28;01mif\u001b[39;00m is_list_like(value):\n\u001b[0;32m-> 5266\u001b[0m     \u001b[43mcom\u001b[49m\u001b[38;5;241;43m.\u001b[39;49m\u001b[43mrequire_length_match\u001b[49m\u001b[43m(\u001b[49m\u001b[43mvalue\u001b[49m\u001b[43m,\u001b[49m\u001b[43m \u001b[49m\u001b[38;5;28;43mself\u001b[39;49m\u001b[38;5;241;43m.\u001b[39;49m\u001b[43mindex\u001b[49m\u001b[43m)\u001b[49m\n\u001b[1;32m   5267\u001b[0m arr \u001b[38;5;241m=\u001b[39m sanitize_array(value, \u001b[38;5;28mself\u001b[39m\u001b[38;5;241m.\u001b[39mindex, copy\u001b[38;5;241m=\u001b[39m\u001b[38;5;28;01mTrue\u001b[39;00m, allow_2d\u001b[38;5;241m=\u001b[39m\u001b[38;5;28;01mTrue\u001b[39;00m)\n\u001b[1;32m   5268\u001b[0m \u001b[38;5;28;01mif\u001b[39;00m (\n\u001b[1;32m   5269\u001b[0m     \u001b[38;5;28misinstance\u001b[39m(value, Index)\n\u001b[1;32m   5270\u001b[0m     \u001b[38;5;129;01mand\u001b[39;00m value\u001b[38;5;241m.\u001b[39mdtype \u001b[38;5;241m==\u001b[39m \u001b[38;5;124m\"\u001b[39m\u001b[38;5;124mobject\u001b[39m\u001b[38;5;124m\"\u001b[39m\n\u001b[0;32m   (...)\u001b[0m\n\u001b[1;32m   5273\u001b[0m     \u001b[38;5;66;03m# TODO: Remove kludge in sanitize_array for string mode when enforcing\u001b[39;00m\n\u001b[1;32m   5274\u001b[0m     \u001b[38;5;66;03m# this deprecation\u001b[39;00m\n",
      "File \u001b[0;32m~/projects/gender_polviolence/env/lib/python3.10/site-packages/pandas/core/common.py:573\u001b[0m, in \u001b[0;36mrequire_length_match\u001b[0;34m(data, index)\u001b[0m\n\u001b[1;32m    569\u001b[0m \u001b[38;5;250m\u001b[39m\u001b[38;5;124;03m\"\"\"\u001b[39;00m\n\u001b[1;32m    570\u001b[0m \u001b[38;5;124;03mCheck the length of data matches the length of the index.\u001b[39;00m\n\u001b[1;32m    571\u001b[0m \u001b[38;5;124;03m\"\"\"\u001b[39;00m\n\u001b[1;32m    572\u001b[0m \u001b[38;5;28;01mif\u001b[39;00m \u001b[38;5;28mlen\u001b[39m(data) \u001b[38;5;241m!=\u001b[39m \u001b[38;5;28mlen\u001b[39m(index):\n\u001b[0;32m--> 573\u001b[0m     \u001b[38;5;28;01mraise\u001b[39;00m \u001b[38;5;167;01mValueError\u001b[39;00m(\n\u001b[1;32m    574\u001b[0m         \u001b[38;5;124m\"\u001b[39m\u001b[38;5;124mLength of values \u001b[39m\u001b[38;5;124m\"\u001b[39m\n\u001b[1;32m    575\u001b[0m         \u001b[38;5;124mf\u001b[39m\u001b[38;5;124m\"\u001b[39m\u001b[38;5;124m(\u001b[39m\u001b[38;5;132;01m{\u001b[39;00m\u001b[38;5;28mlen\u001b[39m(data)\u001b[38;5;132;01m}\u001b[39;00m\u001b[38;5;124m) \u001b[39m\u001b[38;5;124m\"\u001b[39m\n\u001b[1;32m    576\u001b[0m         \u001b[38;5;124m\"\u001b[39m\u001b[38;5;124mdoes not match length of index \u001b[39m\u001b[38;5;124m\"\u001b[39m\n\u001b[1;32m    577\u001b[0m         \u001b[38;5;124mf\u001b[39m\u001b[38;5;124m\"\u001b[39m\u001b[38;5;124m(\u001b[39m\u001b[38;5;132;01m{\u001b[39;00m\u001b[38;5;28mlen\u001b[39m(index)\u001b[38;5;132;01m}\u001b[39;00m\u001b[38;5;124m)\u001b[39m\u001b[38;5;124m\"\u001b[39m\n\u001b[1;32m    578\u001b[0m     )\n",
      "\u001b[0;31mValueError\u001b[0m: Length of values (6) does not match length of index (75563)"
     ]
    }
   ],
   "source": [
    "new_values = np.array(fatalities_p_region)\n",
    "\n",
    "df_gpv['fatalities_per_region'] = new_values"
   ]
  },
  {
   "cell_type": "code",
   "execution_count": null,
   "metadata": {},
   "outputs": [],
   "source": [
    "plt.figure(figsize=(10, 10))\n",
    "sns.countplot(data=df_gpv, x='region', hue='sub_event_type')\n",
    "plt.title('Distribution of region grouped by subtypes')\n",
    "plt.xlabel('region')\n",
    "plt.ylabel('subtypes')\n",
    "plt.legend(title='Region vs Subtypes')\n",
    "plt.show()\n"
   ]
  },
  {
   "cell_type": "code",
   "execution_count": 44,
   "metadata": {},
   "outputs": [
    {
     "data": {
      "text/plain": [
       "5         0\n",
       "12        0\n",
       "13        0\n",
       "14        0\n",
       "19        0\n",
       "         ..\n",
       "75558     9\n",
       "75559     5\n",
       "75560    40\n",
       "75561     3\n",
       "75562     1\n",
       "Name: fatalities, Length: 11281, dtype: int64"
      ]
     },
     "execution_count": 44,
     "metadata": {},
     "output_type": "execute_result"
    }
   ],
   "source": [
    "df_test['fatalities']\n",
    "\n",
    "# ¿qué es un fatalities = 0? leer las notas y ver qué sucedió\n",
    "# el dataframe df_ es un dataframe de eventos, por cada evento se tiene un total de fatalities. Si contamos el nro de filas"
   ]
  },
  {
   "cell_type": "code",
   "execution_count": 30,
   "metadata": {},
   "outputs": [
    {
     "name": "stdout",
     "output_type": "stream",
     "text": [
      "Este dataframe tiene 8600 filas (eventos) con 0 fatalities.\n",
      "Este dataframe tiene 1848 filas (eventos) con 1 fatalities.\n",
      "Este dataframe tiene 308 filas (eventos) con 2 fatalities.\n",
      "Este dataframe tiene 165 filas (eventos) con 3 fatalities.\n",
      "Este dataframe tiene 80 filas (eventos) con 4 fatalities.\n",
      "Este dataframe tiene 44 filas (eventos) con 5 fatalities.\n",
      "Este dataframe tiene 41 filas (eventos) con 10 fatalities.\n",
      "Este dataframe tiene 36 filas (eventos) con 7 fatalities.\n",
      "Este dataframe tiene 31 filas (eventos) con 6 fatalities.\n",
      "Este dataframe tiene 18 filas (eventos) con 8 fatalities.\n",
      "Este dataframe tiene 15 filas (eventos) con 9 fatalities.\n",
      "Este dataframe tiene 13 filas (eventos) con 15 fatalities.\n",
      "Este dataframe tiene 10 filas (eventos) con 12 fatalities.\n",
      "Este dataframe tiene 10 filas (eventos) con 11 fatalities.\n",
      "Este dataframe tiene 5 filas (eventos) con 20 fatalities.\n",
      "Este dataframe tiene 5 filas (eventos) con 19 fatalities.\n",
      "Este dataframe tiene 4 filas (eventos) con 40 fatalities.\n",
      "Este dataframe tiene 3 filas (eventos) con 30 fatalities.\n",
      "Este dataframe tiene 3 filas (eventos) con 100 fatalities.\n",
      "Este dataframe tiene 3 filas (eventos) con 16 fatalities.\n",
      "Este dataframe tiene 2 filas (eventos) con 23 fatalities.\n",
      "Este dataframe tiene 2 filas (eventos) con 13 fatalities.\n",
      "Este dataframe tiene 2 filas (eventos) con 67 fatalities.\n",
      "Este dataframe tiene 2 filas (eventos) con 24 fatalities.\n",
      "Este dataframe tiene 2 filas (eventos) con 14 fatalities.\n",
      "Este dataframe tiene 2 filas (eventos) con 17 fatalities.\n",
      "Este dataframe tiene 2 filas (eventos) con 350 fatalities.\n",
      "Este dataframe tiene 2 filas (eventos) con 50 fatalities.\n",
      "Este dataframe tiene 2 filas (eventos) con 22 fatalities.\n",
      "Este dataframe tiene 2 filas (eventos) con 32 fatalities.\n",
      "Este dataframe tiene 2 filas (eventos) con 46 fatalities.\n",
      "Este dataframe tiene 1 filas (eventos) con 33 fatalities.\n",
      "Este dataframe tiene 1 filas (eventos) con 31 fatalities.\n",
      "Este dataframe tiene 1 filas (eventos) con 25 fatalities.\n",
      "Este dataframe tiene 1 filas (eventos) con 42 fatalities.\n",
      "Este dataframe tiene 1 filas (eventos) con 37 fatalities.\n",
      "Este dataframe tiene 1 filas (eventos) con 28 fatalities.\n",
      "Este dataframe tiene 1 filas (eventos) con 29 fatalities.\n",
      "Este dataframe tiene 1 filas (eventos) con 200 fatalities.\n",
      "Este dataframe tiene 1 filas (eventos) con 35 fatalities.\n",
      "Este dataframe tiene 1 filas (eventos) con 60 fatalities.\n",
      "Este dataframe tiene 1 filas (eventos) con 348 fatalities.\n",
      "Este dataframe tiene 1 filas (eventos) con 36 fatalities.\n",
      "Este dataframe tiene 1 filas (eventos) con 750 fatalities.\n",
      "Este dataframe tiene 1 filas (eventos) con 157 fatalities.\n",
      "Este dataframe tiene 1 filas (eventos) con 71 fatalities.\n",
      "Este dataframe tiene 1 filas (eventos) con 72 fatalities.\n",
      "Este dataframe tiene 1 filas (eventos) con 80 fatalities.\n"
     ]
    }
   ],
   "source": [
    "for n_fatalities, num_filas in df_test['fatalities'].value_counts().items():\n",
    "    print(f\"Este dataframe tiene {num_filas} filas (eventos) con {n_fatalities} fatalities.\")"
   ]
  },
  {
   "cell_type": "code",
   "execution_count": 31,
   "metadata": {},
   "outputs": [
    {
     "data": {
      "image/png": "[encoded data removed]",
      "text/plain": [
       "<Figure size 1000x1000 with 1 Axes>"
      ]
     },
     "metadata": {},
     "output_type": "display_data"
    }
   ],
   "source": [
    "plt.figure(figsize=(10, 10))\n",
    "sns.countplot(data=df_test, x='region', hue='fatalities')\n",
    "plt.title('Distribution of region grouped by fatalities')\n",
    "plt.xlabel('region')\n",
    "plt.ylabel('fatalities')\n",
    "plt.legend(title='Region vs Fatalities')\n",
    "plt.show()"
   ]
  },
  {
   "cell_type": "markdown",
   "metadata": {},
   "source": [
    "#### Country vs Sub_type"
   ]
  },
  {
   "cell_type": "code",
   "execution_count": 32,
   "metadata": {},
   "outputs": [
    {
     "data": {
      "image/png": "[encoded data removed]",
      "text/plain": [
       "<Figure size 1000x1000 with 1 Axes>"
      ]
     },
     "metadata": {},
     "output_type": "display_data"
    }
   ],
   "source": [
    "plt.figure(figsize=(10, 10))\n",
    "sns.countplot(data=df_test, x='region', hue='sub_event_type')\n",
    "plt.title('Distribution of region grouped by subtypes')\n",
    "plt.xlabel('region')\n",
    "plt.ylabel('subtypes')\n",
    "plt.legend(title='Region vs Subtypes')\n",
    "plt.show()\n"
   ]
  },
  {
   "cell_type": "code",
   "execution_count": null,
   "metadata": {},
   "outputs": [],
   "source": [
    "#hacer el mismo plot pero por cada elemento de 'sub_event_type', por region ---> crear una función"
   ]
  },
  {
   "cell_type": "code",
   "execution_count": null,
   "metadata": {},
   "outputs": [],
   "source": [
    "df_gpv['sub_event_type'].value_counts()"
   ]
  },
  {
   "cell_type": "code",
   "execution_count": null,
   "metadata": {},
   "outputs": [],
   "source": [
    "df_gpv.groupby('sub_event_type').size()\n"
   ]
  },
  {
   "cell_type": "code",
   "execution_count": null,
   "metadata": {},
   "outputs": [],
   "source": [
    "category_colors = {\n",
    "    'A':'#6A5ACD', \n",
    "    'B':'#6B8E23', \n",
    "    'C': 'BA55D3', \n",
    "    'D':'#B8860B', \n",
    "    'E':'#20B2AA', \n",
    "    'F':'#4682B4',\n",
    "    'G':'#8B4513', \n",
    "    'H':'#B22222', \n",
    "    'I':'#6495ED', \n",
    "    'J':'#BDB76B', \n",
    "    'K':'#CD853F', \n",
    "    'J': '#48D1CC',\n",
    "    'L': '#2F4F4F',\n",
    "    'M':'#2E8B57',\n",
    "    'N':'#5F9EA0', \n",
    "    'O': '#BC8F8F',\n",
    "    'P':'#CD5C5C', \n",
    "    'Q':'#DDA0DD'\n",
    "}\n",
    "df_gpv['Color'] = df_gpv['sub_event_type'].map(category_colors)"
   ]
  },
  {
   "cell_type": "code",
   "execution_count": null,
   "metadata": {},
   "outputs": [],
   "source": [
    "geo_data = df_gpv[\n",
    "    'country',\n",
    "    'sub_event_type',\n",
    "    'latitude',\n",
    "    'longitude'\n",
    "]\n",
    "   \n",
    "df_geo = pd.DataFrame(geo_data)"
   ]
  },
  {
   "cell_type": "code",
   "execution_count": null,
   "metadata": {},
   "outputs": [],
   "source": [
    "# Initialize the map centered on a rough global midpoint\n",
    "m = folium.Map(location=[0, 0], zoom_start=2)\n",
    "\n",
    "# Add a marker cluster to group nearby markers\n",
    "marker_cluster = MarkerCluster().add_to(m)\n",
    "\n",
    "# Add markers to the map\n",
    "for _, row in df_geo.iterrows():\n",
    "    folium.Marker(\n",
    "        location=[row['latitude'], row['longitude']],\n",
    "        popup=f\"Region: {row['Region']}<br>Category: {row['Category']}\",\n",
    "        icon=folium.Icon(color=category_colors[row['Category']])\n",
    "    ).add_to(marker_cluster)"
   ]
  },
  {
   "cell_type": "code",
   "execution_count": null,
   "metadata": {},
   "outputs": [],
   "source": []
  }
 ],
 "metadata": {
  "kernelspec": {
   "display_name": "Python 3",
   "language": "python",
   "name": "python3"
  },
  "language_info": {
   "codemirror_mode": {
    "name": "ipython",
    "version": 3
   },
   "file_extension": ".py",
   "mimetype": "text/x-python",
   "name": "python",
   "nbconvert_exporter": "python",
   "pygments_lexer": "ipython3",
   "version": "3.10.12"
  }
 },
 "nbformat": 4,
 "nbformat_minor": 2
}
