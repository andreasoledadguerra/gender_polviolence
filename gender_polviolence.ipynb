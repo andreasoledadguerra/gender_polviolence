{
 "cells": [
  {
   "cell_type": "markdown",
   "metadata": {},
   "source": [
    "# Political Violence Targeting Women & Demonstrations Featuring Women\n",
    "\n",
    "#### All violence targeting women, as well as demonstrations featuring women, are included in the data file below. The data in this file cover all events in which women were specifically targeted by political violence, not all events involving women in any way; the file also covers all demonstration events in which women were specifically featured, not all demonstrations involving women. \n",
    "\n",
    "#### This dataset was extract from ACLED Access Portal and we perform EDA using Python.\n"
   ]
  },
  {
   "cell_type": "markdown",
   "metadata": {},
   "source": [
    "### Data Collection & Data Exploration\n",
    "\n",
    "We import pandas and necessary libraries for dataframe manipulation and analysis."
   ]
  },
  {
   "cell_type": "code",
   "execution_count": 1,
   "metadata": {},
   "outputs": [],
   "source": [
    "# Libraries are imported\n",
    "import pandas as pd\n",
    "import numpy as np\n",
    "import matplotlib.pyplot as plt\n",
    "import seaborn as sns\n",
    "from datetime import datetime, date\n"
   ]
  },
  {
   "cell_type": "code",
   "execution_count": 2,
   "metadata": {},
   "outputs": [
    {
     "data": {
      "text/plain": [
       "(75563, 12)"
      ]
     },
     "metadata": {},
     "output_type": "display_data"
    }
   ],
   "source": [
    "# Dataset is downloaded\n",
    "df_gpv = pd.read_csv(\"gender_Sep27-1.csv\")\n",
    "df_gpv.drop([\n",
    "    'event_id_cnty',\n",
    "    #'event_date', \n",
    "    'year', \n",
    "    'time_precision',\n",
    "    'disorder_type', \n",
    "    #'event_type', \n",
    "    #'sub_event_type', \n",
    "    'actor1',\n",
    "    'assoc_actor_1', \n",
    "    #'inter1', \n",
    "    'actor2', \n",
    "    'assoc_actor_2', \n",
    "    'inter2',\n",
    "    #'interaction', \n",
    "    'civilian_targeting', \n",
    "    #'iso',\n",
    "    #'region', \n",
    "    #'country',\n",
    "    'admin1', \n",
    "    'admin2', \n",
    "    'admin3', \n",
    "    #'location', \n",
    "    'latitude', \n",
    "    'longitude',\n",
    "    'geo_precision', \n",
    "    'source', \n",
    "    'source_scale', \n",
    "    #'notes', \n",
    "    #'fatalities',\n",
    "    'tags',\n",
    "    'timestamp'                           \n",
    "], axis=1, inplace=True)\n",
    "\n",
    "\n",
    "df_gpv[\"date\"] = df_gpv[\"event_date\"].apply(date.fromisoformat)\n",
    "#df_gpv['timestamp'] = df_gpv['timestamp'].apply(datetime.fromtimestamp)\n",
    "display(df_gpv.shape)"
   ]
  },
  {
   "cell_type": "code",
   "execution_count": 4,
   "metadata": {},
   "outputs": [
    {
     "data": {
      "text/plain": [
       "datetime.date(2024, 9, 27)"
      ]
     },
     "execution_count": 4,
     "metadata": {},
     "output_type": "execute_result"
    }
   ],
   "source": [
    "df_gpv['date'][0]"
   ]
  },
  {
   "cell_type": "code",
   "execution_count": 5,
   "metadata": {},
   "outputs": [
    {
     "data": {
      "text/plain": [
       "2024"
      ]
     },
     "execution_count": 5,
     "metadata": {},
     "output_type": "execute_result"
    }
   ],
   "source": [
    "df_gpv['date'][0].year"
   ]
  },
  {
   "cell_type": "code",
   "execution_count": 6,
   "metadata": {},
   "outputs": [
    {
     "data": {
      "text/plain": [
       "9"
      ]
     },
     "execution_count": 6,
     "metadata": {},
     "output_type": "execute_result"
    }
   ],
   "source": [
    "df_gpv['date'][0].month"
   ]
  },
  {
   "cell_type": "code",
   "execution_count": 7,
   "metadata": {},
   "outputs": [
    {
     "data": {
      "text/plain": [
       "27"
      ]
     },
     "execution_count": 7,
     "metadata": {},
     "output_type": "execute_result"
    }
   ],
   "source": [
    "df_gpv['date'][0].day"
   ]
  },
  {
   "cell_type": "code",
   "execution_count": 3,
   "metadata": {},
   "outputs": [
    {
     "data": {
      "text/html": [
       "<div>\n",
       "<style scoped>\n",
       "    .dataframe tbody tr th:only-of-type {\n",
       "        vertical-align: middle;\n",
       "    }\n",
       "\n",
       "    .dataframe tbody tr th {\n",
       "        vertical-align: top;\n",
       "    }\n",
       "\n",
       "    .dataframe thead th {\n",
       "        text-align: right;\n",
       "    }\n",
       "</style>\n",
       "<table border=\"1\" class=\"dataframe\">\n",
       "  <thead>\n",
       "    <tr style=\"text-align: right;\">\n",
       "      <th></th>\n",
       "      <th>event_date</th>\n",
       "      <th>event_type</th>\n",
       "      <th>sub_event_type</th>\n",
       "      <th>inter1</th>\n",
       "      <th>interaction</th>\n",
       "      <th>iso</th>\n",
       "      <th>region</th>\n",
       "      <th>country</th>\n",
       "      <th>location</th>\n",
       "      <th>notes</th>\n",
       "      <th>fatalities</th>\n",
       "      <th>date</th>\n",
       "    </tr>\n",
       "  </thead>\n",
       "  <tbody>\n",
       "    <tr>\n",
       "      <th>0</th>\n",
       "      <td>2024-09-27</td>\n",
       "      <td>Violence against civilians</td>\n",
       "      <td>Sexual violence</td>\n",
       "      <td>Political militia</td>\n",
       "      <td>Political militia-Civilians</td>\n",
       "      <td>76</td>\n",
       "      <td>South America</td>\n",
       "      <td>Brazil</td>\n",
       "      <td>Sorriso</td>\n",
       "      <td>On 27 September 2024, in Sorriso (Mato Grosso)...</td>\n",
       "      <td>0</td>\n",
       "      <td>2024-09-27</td>\n",
       "    </tr>\n",
       "    <tr>\n",
       "      <th>1</th>\n",
       "      <td>2024-09-27</td>\n",
       "      <td>Violence against civilians</td>\n",
       "      <td>Attack</td>\n",
       "      <td>Political militia</td>\n",
       "      <td>Political militia-Civilians</td>\n",
       "      <td>218</td>\n",
       "      <td>South America</td>\n",
       "      <td>Ecuador</td>\n",
       "      <td>Guayaquil</td>\n",
       "      <td>Around 27 September 2024 (as reported), in Gua...</td>\n",
       "      <td>1</td>\n",
       "      <td>2024-09-27</td>\n",
       "    </tr>\n",
       "  </tbody>\n",
       "</table>\n",
       "</div>"
      ],
      "text/plain": [
       "   event_date                  event_type   sub_event_type             inter1  \\\n",
       "0  2024-09-27  Violence against civilians  Sexual violence  Political militia   \n",
       "1  2024-09-27  Violence against civilians           Attack  Political militia   \n",
       "\n",
       "                   interaction  iso         region  country   location  \\\n",
       "0  Political militia-Civilians   76  South America   Brazil    Sorriso   \n",
       "1  Political militia-Civilians  218  South America  Ecuador  Guayaquil   \n",
       "\n",
       "                                               notes  fatalities        date  \n",
       "0  On 27 September 2024, in Sorriso (Mato Grosso)...           0  2024-09-27  \n",
       "1  Around 27 September 2024 (as reported), in Gua...           1  2024-09-27  "
      ]
     },
     "metadata": {},
     "output_type": "display_data"
    }
   ],
   "source": [
    "# First rows are checked\n",
    "display(df_gpv.head(2))\n"
   ]
  },
  {
   "cell_type": "markdown",
   "metadata": {},
   "source": [
    "#### Checking unique values"
   ]
  },
  {
   "cell_type": "code",
   "execution_count": 9,
   "metadata": {},
   "outputs": [
    {
     "data": {
      "text/plain": [
       "array(['South America', 'North America', 'Middle East', 'Southern Africa',\n",
       "       'Europe', 'East Asia', 'South Asia', 'Northern Africa',\n",
       "       'Western Africa', 'Middle Africa', 'Central America',\n",
       "       'Caucasus and Central Asia', 'Southeast Asia', 'Eastern Africa',\n",
       "       'Caribbean', 'Oceania'], dtype=object)"
      ]
     },
     "execution_count": 9,
     "metadata": {},
     "output_type": "execute_result"
    }
   ],
   "source": [
    "df_gpv['region'].unique()"
   ]
  },
  {
   "cell_type": "code",
   "execution_count": 8,
   "metadata": {},
   "outputs": [
    {
     "data": {
      "text/plain": [
       "array(['Violence against civilians', 'Protests', 'Riots',\n",
       "       'Strategic developments', 'Explosions/Remote violence'],\n",
       "      dtype=object)"
      ]
     },
     "execution_count": 8,
     "metadata": {},
     "output_type": "execute_result"
    }
   ],
   "source": [
    "df_gpv['event_type'].unique()"
   ]
  },
  {
   "cell_type": "code",
   "execution_count": null,
   "metadata": {},
   "outputs": [],
   "source": [
    "df_gpv['inter1'].unique()\n"
   ]
  },
  {
   "cell_type": "code",
   "execution_count": null,
   "metadata": {},
   "outputs": [],
   "source": [
    "df_gpv['interaction'].unique()"
   ]
  },
  {
   "cell_type": "code",
   "execution_count": null,
   "metadata": {},
   "outputs": [],
   "source": [
    "df_gpv['sub_event_type'].unique()"
   ]
  },
  {
   "cell_type": "code",
   "execution_count": null,
   "metadata": {},
   "outputs": [],
   "source": [
    "# Last five rows are checking\n",
    "\n",
    "display(df_gpv.tail(2))"
   ]
  },
  {
   "cell_type": "code",
   "execution_count": null,
   "metadata": {},
   "outputs": [],
   "source": [
    "# columns's names are checked\n",
    "display(df_gpv.keys())"
   ]
  },
  {
   "cell_type": "code",
   "execution_count": null,
   "metadata": {},
   "outputs": [],
   "source": [
    "# Structural Overview of the DataFrame\n",
    "df_gpv.info()\n"
   ]
  },
  {
   "cell_type": "code",
   "execution_count": null,
   "metadata": {},
   "outputs": [],
   "source": [
    "# Basic statistical description (numerical columns)\n",
    "df_gpv.describe()"
   ]
  },
  {
   "cell_type": "code",
   "execution_count": null,
   "metadata": {},
   "outputs": [],
   "source": [
    "# First column is displaying #may change\n",
    "df_gpv['event_id_cnty']"
   ]
  },
  {
   "cell_type": "markdown",
   "metadata": {},
   "source": [
    "#### Handling missing data"
   ]
  },
  {
   "cell_type": "code",
   "execution_count": null,
   "metadata": {},
   "outputs": [],
   "source": [
    "# Missing values are identifying\n",
    "df_gpv.isnull().sum()"
   ]
  },
  {
   "cell_type": "markdown",
   "metadata": {},
   "source": [
    "### Pre-processing data"
   ]
  },
  {
   "cell_type": "code",
   "execution_count": null,
   "metadata": {},
   "outputs": [],
   "source": [
    "len(df_gpv['event_id_cnty'].unique())\n"
   ]
  },
  {
   "cell_type": "code",
   "execution_count": null,
   "metadata": {},
   "outputs": [],
   "source": [
    "#Unique values from'actor1'\n",
    "unique_actors = df_gpv['actor1'].unique()\n",
    "for i in unique_actors:\n",
    "    print(i)"
   ]
  },
  {
   "cell_type": "code",
   "execution_count": null,
   "metadata": {},
   "outputs": [],
   "source": [
    "df_gpv[df_gpv['fatalities']== 750].iloc[0]['notes']"
   ]
  },
  {
   "cell_type": "code",
   "execution_count": null,
   "metadata": {},
   "outputs": [],
   "source": [
    "df_gpv['actor1'].value_counts()"
   ]
  },
  {
   "cell_type": "markdown",
   "metadata": {},
   "source": [
    " ### Challenge suggested\n",
    "- Iteras por cada fila en la columna de \"actor1\".\n",
    "- Por cada string, si es distinto de NaN, te fijás que TODAS tengan la forma: \"xxxxx (pais)\".\n",
    "- Si es así, entonces, vas de derecha a izquierda en ese string, la primera vez que aparece el \"(\", borrás todo el string desde ese punto a la derecha y que te quede \"xxxxx \" (ojo el espacio del final).\n",
    "- Al string resultante le haces un .strip() para sacar espacios varios al principio y final.\n",
    "- Y el resultado lo creas en una nueva columna llamada \"actor1_formatted\"."
   ]
  },
  {
   "cell_type": "code",
   "execution_count": null,
   "metadata": {},
   "outputs": [],
   "source": [
    "for value in df_gpv['actor1']:\n",
    "\n",
    "    if '(' not in value:\n",
    "        print(value)"
   ]
  }
 ],
 "metadata": {
  "kernelspec": {
   "display_name": "Python 3",
   "language": "python",
   "name": "python3"
  },
  "language_info": {
   "codemirror_mode": {
    "name": "ipython",
    "version": 3
   },
   "file_extension": ".py",
   "mimetype": "text/x-python",
   "name": "python",
   "nbconvert_exporter": "python",
   "pygments_lexer": "ipython3",
   "version": "3.10.12"
  }
 },
 "nbformat": 4,
 "nbformat_minor": 2
}
