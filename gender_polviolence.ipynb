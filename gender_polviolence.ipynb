{
 "cells": [
  {
   "cell_type": "markdown",
   "metadata": {},
   "source": [
    "# Political Violence Targeting Women & Demonstrations Featuring Women\n",
    "\n",
    "#### All violence targeting women, as well as demonstrations featuring women, are included in the data file below. The data in this file cover all events in which women were specifically targeted by political violence, not all events involving women in any way; the file also covers all demonstration events in which women were specifically featured, not all demonstrations involving women. \n",
    "\n",
    "#### This dataset was extract from ACLED Access Portal and we perform EDA using Python.\n"
   ]
  },
  {
   "cell_type": "markdown",
   "metadata": {},
   "source": [
    "### Data collection\n",
    "\n",
    "We import pandas and necessary libraries for dataframe manipulation."
   ]
  },
  {
   "cell_type": "code",
   "execution_count": 9,
   "metadata": {},
   "outputs": [],
   "source": [
    "import pandas as pd"
   ]
  },
  {
   "cell_type": "code",
   "execution_count": 10,
   "metadata": {},
   "outputs": [
    {
     "data": {
      "text/plain": [
       "(75563, 31)"
      ]
     },
     "metadata": {},
     "output_type": "display_data"
    }
   ],
   "source": [
    "df_gpv = pd.read_csv(\"gender_Sep27-1.csv\")\n",
    "display(df_gpv.shape)"
   ]
  },
  {
   "cell_type": "code",
   "execution_count": 11,
   "metadata": {},
   "outputs": [
    {
     "data": {
      "text/html": [
       "<div>\n",
       "<style scoped>\n",
       "    .dataframe tbody tr th:only-of-type {\n",
       "        vertical-align: middle;\n",
       "    }\n",
       "\n",
       "    .dataframe tbody tr th {\n",
       "        vertical-align: top;\n",
       "    }\n",
       "\n",
       "    .dataframe thead th {\n",
       "        text-align: right;\n",
       "    }\n",
       "</style>\n",
       "<table border=\"1\" class=\"dataframe\">\n",
       "  <thead>\n",
       "    <tr style=\"text-align: right;\">\n",
       "      <th></th>\n",
       "      <th>event_id_cnty</th>\n",
       "      <th>event_date</th>\n",
       "      <th>year</th>\n",
       "      <th>time_precision</th>\n",
       "      <th>disorder_type</th>\n",
       "      <th>event_type</th>\n",
       "      <th>sub_event_type</th>\n",
       "      <th>actor1</th>\n",
       "      <th>assoc_actor_1</th>\n",
       "      <th>inter1</th>\n",
       "      <th>...</th>\n",
       "      <th>location</th>\n",
       "      <th>latitude</th>\n",
       "      <th>longitude</th>\n",
       "      <th>geo_precision</th>\n",
       "      <th>source</th>\n",
       "      <th>source_scale</th>\n",
       "      <th>notes</th>\n",
       "      <th>fatalities</th>\n",
       "      <th>tags</th>\n",
       "      <th>timestamp</th>\n",
       "    </tr>\n",
       "  </thead>\n",
       "  <tbody>\n",
       "    <tr>\n",
       "      <th>0</th>\n",
       "      <td>BRA85924</td>\n",
       "      <td>2024-09-27</td>\n",
       "      <td>2024</td>\n",
       "      <td>1</td>\n",
       "      <td>Political violence</td>\n",
       "      <td>Violence against civilians</td>\n",
       "      <td>Sexual violence</td>\n",
       "      <td>Unidentified Gang (Brazil)</td>\n",
       "      <td>NaN</td>\n",
       "      <td>Political militia</td>\n",
       "      <td>...</td>\n",
       "      <td>Sorriso</td>\n",
       "      <td>-12.5453</td>\n",
       "      <td>-55.7114</td>\n",
       "      <td>1</td>\n",
       "      <td>Gazeta Digital</td>\n",
       "      <td>Subnational</td>\n",
       "      <td>On 27 September 2024, in Sorriso (Mato Grosso)...</td>\n",
       "      <td>0</td>\n",
       "      <td>NaN</td>\n",
       "      <td>1727730463</td>\n",
       "    </tr>\n",
       "    <tr>\n",
       "      <th>1</th>\n",
       "      <td>ECU3988</td>\n",
       "      <td>2024-09-27</td>\n",
       "      <td>2024</td>\n",
       "      <td>2</td>\n",
       "      <td>Political violence</td>\n",
       "      <td>Violence against civilians</td>\n",
       "      <td>Attack</td>\n",
       "      <td>Unidentified Armed Group (Ecuador)</td>\n",
       "      <td>NaN</td>\n",
       "      <td>Political militia</td>\n",
       "      <td>...</td>\n",
       "      <td>Guayaquil</td>\n",
       "      <td>-2.1962</td>\n",
       "      <td>-79.8862</td>\n",
       "      <td>1</td>\n",
       "      <td>Ecuavisa; El Universo (Ecuador)</td>\n",
       "      <td>National</td>\n",
       "      <td>Around 27 September 2024 (as reported), in Gua...</td>\n",
       "      <td>1</td>\n",
       "      <td>women targeted: government officials</td>\n",
       "      <td>1727730464</td>\n",
       "    </tr>\n",
       "    <tr>\n",
       "      <th>2</th>\n",
       "      <td>MEX93498</td>\n",
       "      <td>2024-09-27</td>\n",
       "      <td>2024</td>\n",
       "      <td>2</td>\n",
       "      <td>Political violence</td>\n",
       "      <td>Violence against civilians</td>\n",
       "      <td>Abduction/forced disappearance</td>\n",
       "      <td>Unidentified Gang (Mexico)</td>\n",
       "      <td>NaN</td>\n",
       "      <td>Political militia</td>\n",
       "      <td>...</td>\n",
       "      <td>Tijuana</td>\n",
       "      <td>32.5325</td>\n",
       "      <td>-117.0190</td>\n",
       "      <td>1</td>\n",
       "      <td>AFN - Tijuana</td>\n",
       "      <td>Subnational</td>\n",
       "      <td>Around 27 September 2024 (as reported), in Tij...</td>\n",
       "      <td>0</td>\n",
       "      <td>NaN</td>\n",
       "      <td>1727730464</td>\n",
       "    </tr>\n",
       "    <tr>\n",
       "      <th>3</th>\n",
       "      <td>MEX93502</td>\n",
       "      <td>2024-09-27</td>\n",
       "      <td>2024</td>\n",
       "      <td>1</td>\n",
       "      <td>Political violence</td>\n",
       "      <td>Violence against civilians</td>\n",
       "      <td>Attack</td>\n",
       "      <td>Unidentified Gang (Mexico)</td>\n",
       "      <td>NaN</td>\n",
       "      <td>Political militia</td>\n",
       "      <td>...</td>\n",
       "      <td>Ciudad de Mexico - Gustavo A. Madero</td>\n",
       "      <td>19.4829</td>\n",
       "      <td>-99.1135</td>\n",
       "      <td>1</td>\n",
       "      <td>Milenio</td>\n",
       "      <td>National</td>\n",
       "      <td>On 27 September 2024, in Ciudad de Mexico - Gu...</td>\n",
       "      <td>1</td>\n",
       "      <td>NaN</td>\n",
       "      <td>1727730464</td>\n",
       "    </tr>\n",
       "    <tr>\n",
       "      <th>4</th>\n",
       "      <td>YEM92022</td>\n",
       "      <td>2024-09-27</td>\n",
       "      <td>2024</td>\n",
       "      <td>1</td>\n",
       "      <td>Political violence</td>\n",
       "      <td>Violence against civilians</td>\n",
       "      <td>Attack</td>\n",
       "      <td>Police Forces of Yemen (2017-) Houthi</td>\n",
       "      <td>Teachers (Yemen)</td>\n",
       "      <td>State forces</td>\n",
       "      <td>...</td>\n",
       "      <td>Al Yahari</td>\n",
       "      <td>13.9966</td>\n",
       "      <td>44.0604</td>\n",
       "      <td>1</td>\n",
       "      <td>Khabar News Agency (Yemen)</td>\n",
       "      <td>National</td>\n",
       "      <td>On 27 September 2024, a Houthi-affiliated fema...</td>\n",
       "      <td>0</td>\n",
       "      <td>NaN</td>\n",
       "      <td>1727730471</td>\n",
       "    </tr>\n",
       "  </tbody>\n",
       "</table>\n",
       "<p>5 rows × 31 columns</p>\n",
       "</div>"
      ],
      "text/plain": [
       "  event_id_cnty  event_date  year  time_precision       disorder_type  \\\n",
       "0      BRA85924  2024-09-27  2024               1  Political violence   \n",
       "1       ECU3988  2024-09-27  2024               2  Political violence   \n",
       "2      MEX93498  2024-09-27  2024               2  Political violence   \n",
       "3      MEX93502  2024-09-27  2024               1  Political violence   \n",
       "4      YEM92022  2024-09-27  2024               1  Political violence   \n",
       "\n",
       "                   event_type                  sub_event_type  \\\n",
       "0  Violence against civilians                 Sexual violence   \n",
       "1  Violence against civilians                          Attack   \n",
       "2  Violence against civilians  Abduction/forced disappearance   \n",
       "3  Violence against civilians                          Attack   \n",
       "4  Violence against civilians                          Attack   \n",
       "\n",
       "                                  actor1     assoc_actor_1             inter1  \\\n",
       "0             Unidentified Gang (Brazil)               NaN  Political militia   \n",
       "1     Unidentified Armed Group (Ecuador)               NaN  Political militia   \n",
       "2             Unidentified Gang (Mexico)               NaN  Political militia   \n",
       "3             Unidentified Gang (Mexico)               NaN  Political militia   \n",
       "4  Police Forces of Yemen (2017-) Houthi  Teachers (Yemen)       State forces   \n",
       "\n",
       "   ...                              location latitude longitude geo_precision  \\\n",
       "0  ...                               Sorriso -12.5453  -55.7114             1   \n",
       "1  ...                             Guayaquil  -2.1962  -79.8862             1   \n",
       "2  ...                               Tijuana  32.5325 -117.0190             1   \n",
       "3  ...  Ciudad de Mexico - Gustavo A. Madero  19.4829  -99.1135             1   \n",
       "4  ...                             Al Yahari  13.9966   44.0604             1   \n",
       "\n",
       "                            source  source_scale  \\\n",
       "0                   Gazeta Digital   Subnational   \n",
       "1  Ecuavisa; El Universo (Ecuador)      National   \n",
       "2                    AFN - Tijuana   Subnational   \n",
       "3                          Milenio      National   \n",
       "4       Khabar News Agency (Yemen)      National   \n",
       "\n",
       "                                               notes fatalities  \\\n",
       "0  On 27 September 2024, in Sorriso (Mato Grosso)...          0   \n",
       "1  Around 27 September 2024 (as reported), in Gua...          1   \n",
       "2  Around 27 September 2024 (as reported), in Tij...          0   \n",
       "3  On 27 September 2024, in Ciudad de Mexico - Gu...          1   \n",
       "4  On 27 September 2024, a Houthi-affiliated fema...          0   \n",
       "\n",
       "                                   tags   timestamp  \n",
       "0                                   NaN  1727730463  \n",
       "1  women targeted: government officials  1727730464  \n",
       "2                                   NaN  1727730464  \n",
       "3                                   NaN  1727730464  \n",
       "4                                   NaN  1727730471  \n",
       "\n",
       "[5 rows x 31 columns]"
      ]
     },
     "execution_count": 11,
     "metadata": {},
     "output_type": "execute_result"
    }
   ],
   "source": [
    "df_gpv.head()"
   ]
  },
  {
   "cell_type": "code",
   "execution_count": 8,
   "metadata": {},
   "outputs": [
    {
     "data": {
      "text/plain": [
       "Index(['event_id_cnty', 'event_date', 'year', 'time_precision',\n",
       "       'disorder_type', 'event_type', 'sub_event_type', 'actor1',\n",
       "       'assoc_actor_1', 'inter1', 'actor2', 'assoc_actor_2', 'inter2',\n",
       "       'interaction', 'civilian_targeting', 'iso', 'region', 'country',\n",
       "       'admin1', 'admin2', 'admin3', 'location', 'latitude', 'longitude',\n",
       "       'geo_precision', 'source', 'source_scale', 'notes', 'fatalities',\n",
       "       'tags', 'timestamp'],\n",
       "      dtype='object')"
      ]
     },
     "execution_count": 8,
     "metadata": {},
     "output_type": "execute_result"
    }
   ],
   "source": [
    "df_gpv.keys()"
   ]
  },
  {
   "cell_type": "code",
   "execution_count": 13,
   "metadata": {},
   "outputs": [
    {
     "data": {
      "text/plain": [
       "0        1\n",
       "1        1\n",
       "2        1\n",
       "3        1\n",
       "4        1\n",
       "        ..\n",
       "75558    1\n",
       "75559    1\n",
       "75560    2\n",
       "75561    1\n",
       "75562    1\n",
       "Name: geo_precision, Length: 75563, dtype: int64"
      ]
     },
     "execution_count": 13,
     "metadata": {},
     "output_type": "execute_result"
    }
   ],
   "source": [
    "df_gpv[\n",
    "    'geo_precision'\n",
    "]"
   ]
  },
  {
   "cell_type": "code",
   "execution_count": null,
   "metadata": {},
   "outputs": [],
   "source": []
  }
 ],
 "metadata": {
  "kernelspec": {
   "display_name": "Python 3",
   "language": "python",
   "name": "python3"
  },
  "language_info": {
   "codemirror_mode": {
    "name": "ipython",
    "version": 3
   },
   "file_extension": ".py",
   "mimetype": "text/x-python",
   "name": "python",
   "nbconvert_exporter": "python",
   "pygments_lexer": "ipython3",
   "version": "3.10.12"
  }
 },
 "nbformat": 4,
 "nbformat_minor": 2
}
