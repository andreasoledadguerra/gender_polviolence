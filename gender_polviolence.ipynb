{
 "cells": [
  {
   "cell_type": "markdown",
   "metadata": {},
   "source": [
    "# Political Violence Targeting Women & Demonstrations Featuring Women\n",
    "\n",
    "#### All violence targeting women, as well as demonstrations featuring women, are included in the data file below. The data in this file cover all events in which women were specifically targeted by political violence, not all events involving women in any way; the file also covers all demonstration events in which women were specifically featured, not all demonstrations involving women. \n",
    "\n",
    "#### This dataset was extract from ACLED Access Portal and we perform EDA using Python.\n"
   ]
  },
  {
   "cell_type": "markdown",
   "metadata": {},
   "source": [
    "### Data collection\n",
    "\n",
    "We import pandas and necessary libraries for dataframe manipulation."
   ]
  },
  {
   "cell_type": "code",
   "execution_count": 1,
   "metadata": {},
   "outputs": [],
   "source": [
    "import pandas as pd"
   ]
  },
  {
   "cell_type": "code",
   "execution_count": 2,
   "metadata": {},
   "outputs": [
    {
     "data": {
      "text/plain": [
       "(75563, 31)"
      ]
     },
     "metadata": {},
     "output_type": "display_data"
    }
   ],
   "source": [
    "df_gpv = pd.read_csv(\"gender_Sep27-1.csv\")\n",
    "display(df_gpv.shape)"
   ]
  },
  {
   "cell_type": "code",
   "execution_count": 10,
   "metadata": {},
   "outputs": [],
   "source": [
    "# First rows are checked\n",
    "first_rows = df_gpv.head()"
   ]
  },
  {
   "cell_type": "code",
   "execution_count": 4,
   "metadata": {},
   "outputs": [
    {
     "data": {
      "text/plain": [
       "Index(['event_id_cnty', 'event_date', 'year', 'time_precision',\n",
       "       'disorder_type', 'event_type', 'sub_event_type', 'actor1',\n",
       "       'assoc_actor_1', 'inter1', 'actor2', 'assoc_actor_2', 'inter2',\n",
       "       'interaction', 'civilian_targeting', 'iso', 'region', 'country',\n",
       "       'admin1', 'admin2', 'admin3', 'location', 'latitude', 'longitude',\n",
       "       'geo_precision', 'source', 'source_scale', 'notes', 'fatalities',\n",
       "       'tags', 'timestamp'],\n",
       "      dtype='object')"
      ]
     },
     "execution_count": 4,
     "metadata": {},
     "output_type": "execute_result"
    }
   ],
   "source": [
    "# columns's names are checked\n",
    "columns_name = df_gpv.keys()"
   ]
  },
  {
   "cell_type": "code",
   "execution_count": 9,
   "metadata": {},
   "outputs": [
    {
     "data": {
      "text/plain": [
       "0        BRA85924\n",
       "1         ECU3988\n",
       "2        MEX93498\n",
       "3        MEX93502\n",
       "4        YEM92022\n",
       "           ...   \n",
       "75558       UGA13\n",
       "75559       ALG50\n",
       "75560     SIE4762\n",
       "75561      RWA652\n",
       "75562        NIR1\n",
       "Name: event_id_cnty, Length: 75563, dtype: object"
      ]
     },
     "metadata": {},
     "output_type": "display_data"
    }
   ],
   "source": [
    "# countries are displaying\n",
    "\n",
    "first_column = df_gpv.iloc[:, 0]\n",
    "\n",
    "display(first_column)"
   ]
  },
  {
   "cell_type": "code",
   "execution_count": null,
   "metadata": {},
   "outputs": [],
   "source": []
  }
 ],
 "metadata": {
  "kernelspec": {
   "display_name": "Python 3",
   "language": "python",
   "name": "python3"
  },
  "language_info": {
   "codemirror_mode": {
    "name": "ipython",
    "version": 3
   },
   "file_extension": ".py",
   "mimetype": "text/x-python",
   "name": "python",
   "nbconvert_exporter": "python",
   "pygments_lexer": "ipython3",
   "version": "3.10.12"
  }
 },
 "nbformat": 4,
 "nbformat_minor": 2
}
